{
 "cells": [
  {
   "cell_type": "markdown",
   "metadata": {
    "id": "BDR-6t_fBzbY"
   },
   "source": []
  },
  {
   "cell_type": "code",
   "execution_count": 1,
   "metadata": {
    "colab": {
     "base_uri": "https://localhost:8080/"
    },
    "executionInfo": {
     "elapsed": 17,
     "status": "ok",
     "timestamp": 1623504628471,
     "user": {
      "displayName": "Clash Clans",
      "photoUrl": "",
      "userId": "00562530571182710236"
     },
     "user_tz": -330
    },
    "id": "J6FdmhcpV3Fv",
    "outputId": "7cc3ab88-3e09-4e44-85b0-e575194066cd"
   },
   "outputs": [
    {
     "name": "stdout",
     "output_type": "stream",
     "text": [
      "Python 3.7.10\n",
      "numpy version: 1.19.5\n",
      "pandas version:  1.1.5\n"
     ]
    }
   ],
   "source": [
    "!python --version   # Python version\n",
    "\n",
    "# About python:  https://www.python.org/\n",
    "#                Python is powerful... and fast; plays well with others; runs everywhere; is friendly & easy to learn; \n",
    "#                is Open –> https://www.python.org/about/.\n",
    "#     Python docs: https://docs.python.org/3/ (all documentation); \n",
    "#                  https://docs.python.org/3.7/ (Recommended version – 3.7). \n",
    "# The Python Tutorial (python3.7): https://docs.python.org/3.7/tutorial/index.html \n",
    "\n",
    "# Load Module ---\n",
    "import numpy as np, pandas as pd\n",
    "# NumPy : The fundamental package for scientific computing with Python. NumPy is the fundamental package for scientific \n",
    "#         computing in Python. It is a Python library that provides a multidimensional array object, various derived \n",
    "#         objects (such as masked arrays and matrices), and an assortment of routines for fast operations on arrays, \n",
    "#         including mathematical, logical, shape manipulation, sorting, selecting, I/O, discrete Fourier transforms,\n",
    "#         basic linear algebra, basic statistical operations, random simulation and much more.\n",
    "#     About: https://numpy.org/\n",
    "#     Docs: https://numpy.org/doc/stable/\n",
    "#     NumPy quickstart: https://numpy.org/doc/stable/user/quickstart.html\n",
    "\n",
    "# Pandas: pandas is a fast, powerful, flexible and easy to use open source data analysis and manipulation tool, \n",
    "#         built on top of the Python programming language.\n",
    "#     About: https://pandas.pydata.org/ \n",
    "#     Docs: https://pandas.pydata.org/docs/ \n",
    "#     Getting started: https://pandas.pydata.org/docs/getting_started/index.html \n",
    "#     User Guide: https://pandas.pydata.org/docs/user_guide/index.html#user-guide \n",
    "\n",
    "print('numpy version:',np.__version__)\n",
    "print('pandas version: ',pd.__version__)"
   ]
  },
  {
   "cell_type": "markdown",
   "metadata": {
    "id": "oh3H911mxEvz"
   },
   "source": [
    "# About Dataset – Stock Portfolio Performance\n",
    "\n",
    "The dataset of performances of weighted scoring stock portfolios are obtained with mixture design from the US stock market historical database. \n",
    "\n",
    "Dataset source (UCI Machine Learning Repository):\t https://archive.ics.uci.edu/ml/datasets/Stock+portfolio+performance\n",
    "\n",
    "Dataset download link: [stock portfolio performance data set.xlsx](https://archive.ics.uci.edu/ml/machine-learning-databases/00390/stock%20portfolio%20performance%20data%20set.xlsx) \n"
   ]
  },
  {
   "cell_type": "code",
   "execution_count": 2,
   "metadata": {
    "executionInfo": {
     "elapsed": 13,
     "status": "ok",
     "timestamp": 1623504628472,
     "user": {
      "displayName": "Clash Clans",
      "photoUrl": "",
      "userId": "00562530571182710236"
     },
     "user_tz": -330
    },
    "id": "fRN75XxziGi8"
   },
   "outputs": [],
   "source": [
    "column_dict={'ID':'id',\n",
    "             ' Large B/P ':'bp_large',\n",
    "             ' Large ROE ':'roe_large',\n",
    "             ' Large S/P ':'sp_large',\n",
    "             ' Large Return Rate in the last quarter ':'ror_large_last_quarter',\n",
    "             ' Large Market Value ':'mv_large',\n",
    "             ' Small systematic Risk':'systematic_risk_small',\n",
    "             'Annual Return':'annual_return',\n",
    "             'Excess Return':'excess_return',\n",
    "             'Systematic Risk':'systemtic_risk_actual',\n",
    "             'Total Risk':'total_risk',\n",
    "             'Abs. Win Rate':'abs_win_rate',\n",
    "             'Rel. Win Rate':'relative_win_rate',\n",
    "             'Annual Return.1':'annual_return_norm',\n",
    "             'Excess Return.1':'excess_return_norm',\n",
    "             'Systematic Risk.1':'systemtic_risk_actual_norm',\n",
    "             'Total Risk.1':'total_risk_norm',\n",
    "             'Abs. Win Rate.1':'abs_win_rate_norm',\n",
    "             'Rel. Win Rate.1':'relative_win_rate_norm'}\n",
    "# sort by key dict\n",
    "#sorted(column_dict.items(), key=lambda kv: column_dict[kv[0]])\n",
    "# key by value - example 'bp_large'\n",
    "#[k for k,v in column_dict.items() if v == 'bp_large']"
   ]
  },
  {
   "cell_type": "markdown",
   "metadata": {
    "id": "aO9BPp18iPwY"
   },
   "source": [
    "## manipulate data"
   ]
  },
  {
   "cell_type": "code",
   "execution_count": 3,
   "metadata": {
    "colab": {
     "base_uri": "https://localhost:8080/",
     "height": 0
    },
    "executionInfo": {
     "elapsed": 1412,
     "status": "ok",
     "timestamp": 1623504629872,
     "user": {
      "displayName": "Clash Clans",
      "photoUrl": "",
      "userId": "00562530571182710236"
     },
     "user_tz": -330
    },
    "id": "B84iS2PVVw5O",
    "outputId": "477bd03f-05b1-42b4-efe4-2e6352d0a915"
   },
   "outputs": [
    {
     "data": {
      "text/html": [
       "<div>\n",
       "<style scoped>\n",
       "    .dataframe tbody tr th:only-of-type {\n",
       "        vertical-align: middle;\n",
       "    }\n",
       "\n",
       "    .dataframe tbody tr th {\n",
       "        vertical-align: top;\n",
       "    }\n",
       "\n",
       "    .dataframe thead th {\n",
       "        text-align: right;\n",
       "    }\n",
       "</style>\n",
       "<table border=\"1\" class=\"dataframe\">\n",
       "  <thead>\n",
       "    <tr style=\"text-align: right;\">\n",
       "      <th></th>\n",
       "      <th>id</th>\n",
       "      <th>bp_large</th>\n",
       "      <th>roe_large</th>\n",
       "      <th>sp_large</th>\n",
       "      <th>ror_large_last_quarter</th>\n",
       "      <th>mv_large</th>\n",
       "      <th>systematic_risk_small</th>\n",
       "      <th>annual_return</th>\n",
       "      <th>excess_return</th>\n",
       "      <th>systemtic_risk_actual</th>\n",
       "      <th>total_risk</th>\n",
       "      <th>abs_win_rate</th>\n",
       "      <th>relative_win_rate</th>\n",
       "      <th>annual_return_norm</th>\n",
       "      <th>excess_return_norm</th>\n",
       "      <th>systemtic_risk_actual_norm</th>\n",
       "      <th>total_risk_norm</th>\n",
       "      <th>abs_win_rate_norm</th>\n",
       "      <th>relative_win_rate_norm</th>\n",
       "    </tr>\n",
       "  </thead>\n",
       "  <tbody>\n",
       "    <tr>\n",
       "      <th>58</th>\n",
       "      <td>59</td>\n",
       "      <td>0.200</td>\n",
       "      <td>0.200</td>\n",
       "      <td>0.200</td>\n",
       "      <td>0.000</td>\n",
       "      <td>0.200</td>\n",
       "      <td>0.200</td>\n",
       "      <td>0.034682</td>\n",
       "      <td>0.007396</td>\n",
       "      <td>1.010771</td>\n",
       "      <td>0.100845</td>\n",
       "      <td>0.55</td>\n",
       "      <td>0.65</td>\n",
       "      <td>0.548192</td>\n",
       "      <td>0.522462</td>\n",
       "      <td>0.310677</td>\n",
       "      <td>0.294491</td>\n",
       "      <td>0.56</td>\n",
       "      <td>0.666667</td>\n",
       "    </tr>\n",
       "    <tr>\n",
       "      <th>59</th>\n",
       "      <td>60</td>\n",
       "      <td>0.200</td>\n",
       "      <td>0.200</td>\n",
       "      <td>0.000</td>\n",
       "      <td>0.200</td>\n",
       "      <td>0.200</td>\n",
       "      <td>0.200</td>\n",
       "      <td>0.033733</td>\n",
       "      <td>0.006783</td>\n",
       "      <td>0.918444</td>\n",
       "      <td>0.092028</td>\n",
       "      <td>0.60</td>\n",
       "      <td>0.60</td>\n",
       "      <td>0.544438</td>\n",
       "      <td>0.513570</td>\n",
       "      <td>0.262013</td>\n",
       "      <td>0.256644</td>\n",
       "      <td>0.68</td>\n",
       "      <td>0.600000</td>\n",
       "    </tr>\n",
       "    <tr>\n",
       "      <th>60</th>\n",
       "      <td>61</td>\n",
       "      <td>0.200</td>\n",
       "      <td>0.000</td>\n",
       "      <td>0.200</td>\n",
       "      <td>0.200</td>\n",
       "      <td>0.200</td>\n",
       "      <td>0.200</td>\n",
       "      <td>0.044852</td>\n",
       "      <td>0.010413</td>\n",
       "      <td>1.162878</td>\n",
       "      <td>0.118172</td>\n",
       "      <td>0.55</td>\n",
       "      <td>0.50</td>\n",
       "      <td>0.588401</td>\n",
       "      <td>0.566175</td>\n",
       "      <td>0.390852</td>\n",
       "      <td>0.368861</td>\n",
       "      <td>0.56</td>\n",
       "      <td>0.466667</td>\n",
       "    </tr>\n",
       "    <tr>\n",
       "      <th>61</th>\n",
       "      <td>62</td>\n",
       "      <td>0.000</td>\n",
       "      <td>0.200</td>\n",
       "      <td>0.200</td>\n",
       "      <td>0.200</td>\n",
       "      <td>0.200</td>\n",
       "      <td>0.200</td>\n",
       "      <td>0.040456</td>\n",
       "      <td>0.008777</td>\n",
       "      <td>0.998392</td>\n",
       "      <td>0.100601</td>\n",
       "      <td>0.60</td>\n",
       "      <td>0.65</td>\n",
       "      <td>0.571021</td>\n",
       "      <td>0.542471</td>\n",
       "      <td>0.304153</td>\n",
       "      <td>0.293441</td>\n",
       "      <td>0.68</td>\n",
       "      <td>0.666667</td>\n",
       "    </tr>\n",
       "    <tr>\n",
       "      <th>62</th>\n",
       "      <td>63</td>\n",
       "      <td>0.167</td>\n",
       "      <td>0.167</td>\n",
       "      <td>0.167</td>\n",
       "      <td>0.167</td>\n",
       "      <td>0.167</td>\n",
       "      <td>0.167</td>\n",
       "      <td>0.057510</td>\n",
       "      <td>0.012866</td>\n",
       "      <td>1.048489</td>\n",
       "      <td>0.104970</td>\n",
       "      <td>0.55</td>\n",
       "      <td>0.75</td>\n",
       "      <td>0.638448</td>\n",
       "      <td>0.601735</td>\n",
       "      <td>0.330558</td>\n",
       "      <td>0.312193</td>\n",
       "      <td>0.56</td>\n",
       "      <td>0.800000</td>\n",
       "    </tr>\n",
       "  </tbody>\n",
       "</table>\n",
       "</div>"
      ],
      "text/plain": [
       "    id  bp_large  ...  abs_win_rate_norm  relative_win_rate_norm\n",
       "58  59     0.200  ...               0.56                0.666667\n",
       "59  60     0.200  ...               0.68                0.600000\n",
       "60  61     0.200  ...               0.56                0.466667\n",
       "61  62     0.000  ...               0.68                0.666667\n",
       "62  63     0.167  ...               0.56                0.800000\n",
       "\n",
       "[5 rows x 19 columns]"
      ]
     },
     "execution_count": 3,
     "metadata": {
      "tags": []
     },
     "output_type": "execute_result"
    }
   ],
   "source": [
    "#!wget https://archive.ics.uci.edu/ml/machine-learning-databases/00390/stock%20portfolio%20performance%20data%20set.xlsx\n",
    "\n",
    "# Read dataset \n",
    "data_file_link_xlsx='https://archive.ics.uci.edu/ml/machine-learning-databases/00390/stock%20portfolio%20performance%20data%20set.xlsx'\n",
    "data=pd.read_excel(data_file_link_xlsx,sheet_name='4th period',header=1)\n",
    "data.rename(index=None,columns=column_dict,axis=None,copy=True,inplace=True)\n",
    "data.tail()"
   ]
  },
  {
   "cell_type": "code",
   "execution_count": 4,
   "metadata": {
    "colab": {
     "base_uri": "https://localhost:8080/",
     "height": 0
    },
    "executionInfo": {
     "elapsed": 24,
     "status": "ok",
     "timestamp": 1623504629874,
     "user": {
      "displayName": "Clash Clans",
      "photoUrl": "",
      "userId": "00562530571182710236"
     },
     "user_tz": -330
    },
    "id": "DIY7s6mLdx0o",
    "outputId": "e8157c63-196c-4183-8c36-d9913fa1098f"
   },
   "outputs": [
    {
     "data": {
      "text/html": [
       "<div>\n",
       "<style scoped>\n",
       "    .dataframe tbody tr th:only-of-type {\n",
       "        vertical-align: middle;\n",
       "    }\n",
       "\n",
       "    .dataframe tbody tr th {\n",
       "        vertical-align: top;\n",
       "    }\n",
       "\n",
       "    .dataframe thead th {\n",
       "        text-align: right;\n",
       "    }\n",
       "</style>\n",
       "<table border=\"1\" class=\"dataframe\">\n",
       "  <thead>\n",
       "    <tr style=\"text-align: right;\">\n",
       "      <th></th>\n",
       "      <th>id</th>\n",
       "      <th>bp_large</th>\n",
       "      <th>roe_large</th>\n",
       "      <th>sp_large</th>\n",
       "      <th>ror_large_last_quarter</th>\n",
       "      <th>mv_large</th>\n",
       "      <th>systematic_risk_small</th>\n",
       "      <th>annual_return</th>\n",
       "      <th>excess_return</th>\n",
       "      <th>systemtic_risk_actual</th>\n",
       "      <th>total_risk</th>\n",
       "      <th>abs_win_rate</th>\n",
       "      <th>relative_win_rate</th>\n",
       "    </tr>\n",
       "  </thead>\n",
       "  <tbody>\n",
       "    <tr>\n",
       "      <th>58</th>\n",
       "      <td>59</td>\n",
       "      <td>0.200</td>\n",
       "      <td>0.200</td>\n",
       "      <td>0.200</td>\n",
       "      <td>0.000</td>\n",
       "      <td>0.200</td>\n",
       "      <td>0.200</td>\n",
       "      <td>3.4682%</td>\n",
       "      <td>0.7396%</td>\n",
       "      <td>1.010771</td>\n",
       "      <td>0.100845</td>\n",
       "      <td>0.55</td>\n",
       "      <td>0.65</td>\n",
       "    </tr>\n",
       "    <tr>\n",
       "      <th>59</th>\n",
       "      <td>60</td>\n",
       "      <td>0.200</td>\n",
       "      <td>0.200</td>\n",
       "      <td>0.000</td>\n",
       "      <td>0.200</td>\n",
       "      <td>0.200</td>\n",
       "      <td>0.200</td>\n",
       "      <td>3.3733%</td>\n",
       "      <td>0.6783%</td>\n",
       "      <td>0.918444</td>\n",
       "      <td>0.092028</td>\n",
       "      <td>0.60</td>\n",
       "      <td>0.60</td>\n",
       "    </tr>\n",
       "    <tr>\n",
       "      <th>60</th>\n",
       "      <td>61</td>\n",
       "      <td>0.200</td>\n",
       "      <td>0.000</td>\n",
       "      <td>0.200</td>\n",
       "      <td>0.200</td>\n",
       "      <td>0.200</td>\n",
       "      <td>0.200</td>\n",
       "      <td>4.4852%</td>\n",
       "      <td>1.0413%</td>\n",
       "      <td>1.162878</td>\n",
       "      <td>0.118172</td>\n",
       "      <td>0.55</td>\n",
       "      <td>0.50</td>\n",
       "    </tr>\n",
       "    <tr>\n",
       "      <th>61</th>\n",
       "      <td>62</td>\n",
       "      <td>0.000</td>\n",
       "      <td>0.200</td>\n",
       "      <td>0.200</td>\n",
       "      <td>0.200</td>\n",
       "      <td>0.200</td>\n",
       "      <td>0.200</td>\n",
       "      <td>4.0456%</td>\n",
       "      <td>0.8777%</td>\n",
       "      <td>0.998392</td>\n",
       "      <td>0.100601</td>\n",
       "      <td>0.60</td>\n",
       "      <td>0.65</td>\n",
       "    </tr>\n",
       "    <tr>\n",
       "      <th>62</th>\n",
       "      <td>63</td>\n",
       "      <td>0.167</td>\n",
       "      <td>0.167</td>\n",
       "      <td>0.167</td>\n",
       "      <td>0.167</td>\n",
       "      <td>0.167</td>\n",
       "      <td>0.167</td>\n",
       "      <td>5.751%</td>\n",
       "      <td>1.2866%</td>\n",
       "      <td>1.048489</td>\n",
       "      <td>0.104970</td>\n",
       "      <td>0.55</td>\n",
       "      <td>0.75</td>\n",
       "    </tr>\n",
       "  </tbody>\n",
       "</table>\n",
       "</div>"
      ],
      "text/plain": [
       "    id  bp_large  roe_large  ...  total_risk  abs_win_rate  relative_win_rate\n",
       "58  59     0.200      0.200  ...    0.100845          0.55               0.65\n",
       "59  60     0.200      0.200  ...    0.092028          0.60               0.60\n",
       "60  61     0.200      0.000  ...    0.118172          0.55               0.50\n",
       "61  62     0.000      0.200  ...    0.100601          0.60               0.65\n",
       "62  63     0.167      0.167  ...    0.104970          0.55               0.75\n",
       "\n",
       "[5 rows x 13 columns]"
      ]
     },
     "execution_count": 4,
     "metadata": {
      "tags": []
     },
     "output_type": "execute_result"
    }
   ],
   "source": [
    "# sample function \n",
    "def change_(value):\n",
    "  return str(round(value*100,4))+'%'\n",
    "\n",
    "# manipulate -> annual return \n",
    "for manipulate_column in ['annual_return','excess_return']:\n",
    "  data[manipulate_column]=data[manipulate_column].apply(change_,convert_dtype=True,args=())\n",
    "\n",
    "# Drop all normalized columns \n",
    "data.drop(columns=data.columns[-6:],inplace=True)\n",
    "\n",
    "data.tail()"
   ]
  },
  {
   "cell_type": "code",
   "execution_count": 5,
   "metadata": {
    "colab": {
     "base_uri": "https://localhost:8080/"
    },
    "executionInfo": {
     "elapsed": 23,
     "status": "ok",
     "timestamp": 1623504629876,
     "user": {
      "displayName": "Clash Clans",
      "photoUrl": "",
      "userId": "00562530571182710236"
     },
     "user_tz": -330
    },
    "id": "lhAjim42exqM",
    "outputId": "cd4eae64-5e7b-48a5-c32f-be2b3e9943d6"
   },
   "outputs": [
    {
     "name": "stdout",
     "output_type": "stream",
     "text": [
      "In bp_large at [53 22 42 49]\n",
      "In roe_large at [ 4 57  2 52]\n",
      "In sp_large at [19 14 43  9]\n",
      "In ror_large_last_quarter at [11  5 17]\n",
      "In mv_large at [45 31 57]\n",
      "In systematic_risk_small at [30 35 44]\n"
     ]
    }
   ],
   "source": [
    "# delete random values, fill with random.choice([np.nan,'?',None])\n",
    "for manipulate_column in data.columns[1:7]: # ['bp_large','roe_large','sp_large','ror_large_last_quarter','mv_large','systematic_risk_small']\n",
    "  # change column type to str for '?'\n",
    "  data[manipulate_column]=data[manipulate_column].astype(np.str)\n",
    "  # manipulate randomly 3 or 4 values \n",
    "  manipulate_at_=np.random.choice(range(data.shape[0]),size=np.random.randint(3,5))\n",
    "  print('In',manipulate_column,'at',manipulate_at_)\n",
    "  for at_value in manipulate_at_: \n",
    "    data.at[at_value,manipulate_column]=np.random.choice([np.nan,'?',None])"
   ]
  },
  {
   "cell_type": "markdown",
   "metadata": {
    "id": "JFVyaeoFnROb"
   },
   "source": [
    "### see changes "
   ]
  },
  {
   "cell_type": "code",
   "execution_count": 6,
   "metadata": {
    "colab": {
     "base_uri": "https://localhost:8080/"
    },
    "executionInfo": {
     "elapsed": 21,
     "status": "ok",
     "timestamp": 1623504629877,
     "user": {
      "displayName": "Clash Clans",
      "photoUrl": "",
      "userId": "00562530571182710236"
     },
     "user_tz": -330
    },
    "id": "b00TQMJ1gCqq",
    "outputId": "02a3e2a7-182c-4242-da3f-956c3e15858c"
   },
   "outputs": [
    {
     "name": "stdout",
     "output_type": "stream",
     "text": [
      "<class 'pandas.core.frame.DataFrame'>\n",
      "RangeIndex: 63 entries, 0 to 62\n",
      "Data columns (total 13 columns):\n",
      " #   Column                  Non-Null Count  Dtype  \n",
      "---  ------                  --------------  -----  \n",
      " 0   id                      63 non-null     int64  \n",
      " 1   bp_large                59 non-null     object \n",
      " 2   roe_large               60 non-null     object \n",
      " 3   sp_large                60 non-null     object \n",
      " 4   ror_large_last_quarter  61 non-null     object \n",
      " 5   mv_large                61 non-null     object \n",
      " 6   systematic_risk_small   61 non-null     object \n",
      " 7   annual_return           63 non-null     object \n",
      " 8   excess_return           63 non-null     object \n",
      " 9   systemtic_risk_actual   63 non-null     float64\n",
      " 10  total_risk              63 non-null     float64\n",
      " 11  abs_win_rate            63 non-null     float64\n",
      " 12  relative_win_rate       63 non-null     float64\n",
      "dtypes: float64(4), int64(1), object(8)\n",
      "memory usage: 6.5+ KB\n"
     ]
    }
   ],
   "source": [
    "data.info()"
   ]
  },
  {
   "cell_type": "code",
   "execution_count": 7,
   "metadata": {
    "colab": {
     "base_uri": "https://localhost:8080/"
    },
    "executionInfo": {
     "elapsed": 21,
     "status": "ok",
     "timestamp": 1623504629879,
     "user": {
      "displayName": "Clash Clans",
      "photoUrl": "",
      "userId": "00562530571182710236"
     },
     "user_tz": -330
    },
    "id": "_xioOfqKjtxX",
    "outputId": "eff0a251-df28-46d3-ba23-1d9ab1385383"
   },
   "outputs": [
    {
     "data": {
      "text/plain": [
       "id                        0\n",
       "bp_large                  4\n",
       "roe_large                 3\n",
       "sp_large                  3\n",
       "ror_large_last_quarter    2\n",
       "mv_large                  2\n",
       "systematic_risk_small     2\n",
       "annual_return             0\n",
       "excess_return             0\n",
       "systemtic_risk_actual     0\n",
       "total_risk                0\n",
       "abs_win_rate              0\n",
       "relative_win_rate         0\n",
       "dtype: int64"
      ]
     },
     "execution_count": 7,
     "metadata": {
      "tags": []
     },
     "output_type": "execute_result"
    }
   ],
   "source": [
    "data.isna().sum()"
   ]
  },
  {
   "cell_type": "code",
   "execution_count": 8,
   "metadata": {
    "colab": {
     "base_uri": "https://localhost:8080/"
    },
    "executionInfo": {
     "elapsed": 21,
     "status": "ok",
     "timestamp": 1623504629881,
     "user": {
      "displayName": "Clash Clans",
      "photoUrl": "",
      "userId": "00562530571182710236"
     },
     "user_tz": -330
    },
    "id": "MphHe_s_oBu_",
    "outputId": "18873a94-aa88-4271-abab-0a3beea02d30"
   },
   "outputs": [
    {
     "name": "stdout",
     "output_type": "stream",
     "text": [
      "bp_large: ['1.0' '0.0' '0.5' '0.333' nan '0.25' None '0.2' '0.167']\n",
      "-X--X--X--X--X--X--X--X--X--X--X--X--X--X--X--X--X--X--X--X--X--X--X--X--X--X--X--X--X--X-\n",
      "roe_large: ['0.0' '1.0' nan None '0.5' '0.333' '0.25' '?' '0.2' '0.167']\n",
      "-X--X--X--X--X--X--X--X--X--X--X--X--X--X--X--X--X--X--X--X--X--X--X--X--X--X--X--X--X--X-\n",
      "sp_large: ['0.0' '1.0' '0.5' None '?' '0.333' '0.25' '0.2' '0.167']\n",
      "-X--X--X--X--X--X--X--X--X--X--X--X--X--X--X--X--X--X--X--X--X--X--X--X--X--X--X--X--X--X-\n",
      "ror_large_last_quarter: ['0.0' '1.0' nan '0.5' None '?' '0.333' '0.25' '0.2' '0.167']\n",
      "-X--X--X--X--X--X--X--X--X--X--X--X--X--X--X--X--X--X--X--X--X--X--X--X--X--X--X--X--X--X-\n",
      "mv_large: ['0.0' '1.0' '0.5' '0.333' None '0.25' '0.2' '?' '0.167']\n",
      "-X--X--X--X--X--X--X--X--X--X--X--X--X--X--X--X--X--X--X--X--X--X--X--X--X--X--X--X--X--X-\n",
      "systematic_risk_small: ['0.0' '1.0' '0.5' '?' '0.333' None nan '0.25' '0.2' '0.167']\n",
      "-X--X--X--X--X--X--X--X--X--X--X--X--X--X--X--X--X--X--X--X--X--X--X--X--X--X--X--X--X--X-\n"
     ]
    }
   ],
   "source": [
    "# see manipulation \n",
    "for manipulate_column in data.columns[1:7]:\n",
    "  print(manipulate_column,': ',data[manipulate_column].unique(),'\\n','-X-'*30,sep='')"
   ]
  },
  {
   "cell_type": "markdown",
   "metadata": {
    "id": "6Xi9zgWipzWj"
   },
   "source": [
    "### save changes "
   ]
  },
  {
   "cell_type": "code",
   "execution_count": 9,
   "metadata": {
    "executionInfo": {
     "elapsed": 22,
     "status": "ok",
     "timestamp": 1623504629883,
     "user": {
      "displayName": "Clash Clans",
      "photoUrl": "",
      "userId": "00562530571182710236"
     },
     "user_tz": -330
    },
    "id": "XYCX6CE2oeT2"
   },
   "outputs": [],
   "source": [
    "data.rename(columns=dict([(v,k) for k,v in column_dict.items()]),inplace=True)\n",
    "# save file\n",
    "data.to_csv('manipulate_data.csv')\n",
    "# save columns dict\n",
    "pd.Series(data=column_dict.values(),index=column_dict.keys(),dtype=None,name='column_dict').to_csv('column_dict.csv')\n",
    "# to Read\n",
    "#dict(pd.read_csv('/content/column_dict.csv').values)"
   ]
  },
  {
   "cell_type": "markdown",
   "metadata": {
    "id": "lZif7YMQtlzD"
   },
   "source": [
    "## manipulate data - all sheets"
   ]
  },
  {
   "cell_type": "code",
   "execution_count": 10,
   "metadata": {
    "colab": {
     "base_uri": "https://localhost:8080/",
     "height": 0
    },
    "executionInfo": {
     "elapsed": 4794,
     "status": "ok",
     "timestamp": 1623504634656,
     "user": {
      "displayName": "Clash Clans",
      "photoUrl": "",
      "userId": "00562530571182710236"
     },
     "user_tz": -330
    },
    "id": "EaX9erdttQIv",
    "outputId": "bc9bf707-7a57-4246-9bab-4dd5234983da"
   },
   "outputs": [
    {
     "data": {
      "text/html": [
       "<div>\n",
       "<style scoped>\n",
       "    .dataframe tbody tr th:only-of-type {\n",
       "        vertical-align: middle;\n",
       "    }\n",
       "\n",
       "    .dataframe tbody tr th {\n",
       "        vertical-align: top;\n",
       "    }\n",
       "\n",
       "    .dataframe thead th {\n",
       "        text-align: right;\n",
       "    }\n",
       "</style>\n",
       "<table border=\"1\" class=\"dataframe\">\n",
       "  <thead>\n",
       "    <tr style=\"text-align: right;\">\n",
       "      <th></th>\n",
       "      <th></th>\n",
       "      <th>id</th>\n",
       "      <th>bp_large</th>\n",
       "      <th>roe_large</th>\n",
       "      <th>sp_large</th>\n",
       "      <th>ror_large_last_quarter</th>\n",
       "      <th>mv_large</th>\n",
       "      <th>systematic_risk_small</th>\n",
       "      <th>annual_return</th>\n",
       "      <th>excess_return</th>\n",
       "      <th>systemtic_risk_actual</th>\n",
       "      <th>total_risk</th>\n",
       "      <th>abs_win_rate</th>\n",
       "      <th>relative_win_rate</th>\n",
       "      <th>annual_return_norm</th>\n",
       "      <th>excess_return_norm</th>\n",
       "      <th>systemtic_risk_actual_norm</th>\n",
       "      <th>total_risk_norm</th>\n",
       "      <th>abs_win_rate_norm</th>\n",
       "      <th>relative_win_rate_norm</th>\n",
       "    </tr>\n",
       "  </thead>\n",
       "  <tbody>\n",
       "    <tr>\n",
       "      <th rowspan=\"3\" valign=\"top\">sheet_0</th>\n",
       "      <th>0</th>\n",
       "      <td>1</td>\n",
       "      <td>1.0</td>\n",
       "      <td>0.0</td>\n",
       "      <td>0.0</td>\n",
       "      <td>0.0</td>\n",
       "      <td>0.0</td>\n",
       "      <td>0.0</td>\n",
       "      <td>0.019516</td>\n",
       "      <td>0.013399</td>\n",
       "      <td>1.902608</td>\n",
       "      <td>0.218617</td>\n",
       "      <td>0.60</td>\n",
       "      <td>0.40</td>\n",
       "      <td>0.488229</td>\n",
       "      <td>0.609445</td>\n",
       "      <td>0.780756</td>\n",
       "      <td>0.800000</td>\n",
       "      <td>0.68</td>\n",
       "      <td>0.333333</td>\n",
       "    </tr>\n",
       "    <tr>\n",
       "      <th>1</th>\n",
       "      <td>2</td>\n",
       "      <td>0.0</td>\n",
       "      <td>1.0</td>\n",
       "      <td>0.0</td>\n",
       "      <td>0.0</td>\n",
       "      <td>0.0</td>\n",
       "      <td>0.0</td>\n",
       "      <td>0.023829</td>\n",
       "      <td>0.006410</td>\n",
       "      <td>1.263287</td>\n",
       "      <td>0.128740</td>\n",
       "      <td>0.55</td>\n",
       "      <td>0.65</td>\n",
       "      <td>0.505279</td>\n",
       "      <td>0.508169</td>\n",
       "      <td>0.443776</td>\n",
       "      <td>0.414220</td>\n",
       "      <td>0.56</td>\n",
       "      <td>0.666667</td>\n",
       "    </tr>\n",
       "    <tr>\n",
       "      <th>2</th>\n",
       "      <td>3</td>\n",
       "      <td>0.0</td>\n",
       "      <td>0.0</td>\n",
       "      <td>1.0</td>\n",
       "      <td>0.0</td>\n",
       "      <td>0.0</td>\n",
       "      <td>0.0</td>\n",
       "      <td>0.080282</td>\n",
       "      <td>0.026548</td>\n",
       "      <td>1.894339</td>\n",
       "      <td>0.208272</td>\n",
       "      <td>0.55</td>\n",
       "      <td>0.50</td>\n",
       "      <td>0.728484</td>\n",
       "      <td>0.800000</td>\n",
       "      <td>0.776397</td>\n",
       "      <td>0.755594</td>\n",
       "      <td>0.56</td>\n",
       "      <td>0.466667</td>\n",
       "    </tr>\n",
       "  </tbody>\n",
       "</table>\n",
       "</div>"
      ],
      "text/plain": [
       "           id  bp_large  ...  abs_win_rate_norm  relative_win_rate_norm\n",
       "sheet_0 0   1       1.0  ...               0.68                0.333333\n",
       "        1   2       0.0  ...               0.56                0.666667\n",
       "        2   3       0.0  ...               0.56                0.466667\n",
       "\n",
       "[3 rows x 19 columns]"
      ]
     },
     "execution_count": 10,
     "metadata": {
      "tags": []
     },
     "output_type": "execute_result"
    }
   ],
   "source": [
    "# Read all sheets \n",
    "total_sheets=6\n",
    "\n",
    "#!wget https://archive.ics.uci.edu/ml/machine-learning-databases/00390/stock%20portfolio%20performance%20data%20set.xlsx\n",
    "data_file_link_xlsx='https://archive.ics.uci.edu/ml/machine-learning-databases/00390/stock%20portfolio%20performance%20data%20set.xlsx'\n",
    "\n",
    "# sheet list\n",
    "sheet_list=list()\n",
    "\n",
    "for sheet in range(total_sheets-1):\n",
    "  # Read dataset \n",
    "  sheet_list.append(pd.read_excel(data_file_link_xlsx,sheet_name=sheet,header=1))\n",
    "\n",
    "# 3d dataframe \n",
    "data3d=pd.concat(sheet_list,axis=0,keys=['sheet_'+str(sheet) for sheet in range(total_sheets)])\n",
    "# rename columns \n",
    "data3d.rename(index=None,columns=column_dict,axis=None,copy=True,inplace=True)\n",
    "# see\n",
    "data3d.head(3)"
   ]
  },
  {
   "cell_type": "code",
   "execution_count": 11,
   "metadata": {
    "colab": {
     "base_uri": "https://localhost:8080/",
     "height": 0
    },
    "executionInfo": {
     "elapsed": 70,
     "status": "ok",
     "timestamp": 1623504634658,
     "user": {
      "displayName": "Clash Clans",
      "photoUrl": "",
      "userId": "00562530571182710236"
     },
     "user_tz": -330
    },
    "id": "rrx9kNyLumm0",
    "outputId": "adb50ab9-249f-4ae0-daa8-e5d8c0ed3ca3"
   },
   "outputs": [
    {
     "data": {
      "text/html": [
       "<div>\n",
       "<style scoped>\n",
       "    .dataframe tbody tr th:only-of-type {\n",
       "        vertical-align: middle;\n",
       "    }\n",
       "\n",
       "    .dataframe tbody tr th {\n",
       "        vertical-align: top;\n",
       "    }\n",
       "\n",
       "    .dataframe thead th {\n",
       "        text-align: right;\n",
       "    }\n",
       "</style>\n",
       "<table border=\"1\" class=\"dataframe\">\n",
       "  <thead>\n",
       "    <tr style=\"text-align: right;\">\n",
       "      <th></th>\n",
       "      <th></th>\n",
       "      <th>id</th>\n",
       "      <th>bp_large</th>\n",
       "      <th>roe_large</th>\n",
       "      <th>sp_large</th>\n",
       "      <th>ror_large_last_quarter</th>\n",
       "      <th>mv_large</th>\n",
       "      <th>systematic_risk_small</th>\n",
       "      <th>annual_return</th>\n",
       "      <th>excess_return</th>\n",
       "      <th>systemtic_risk_actual</th>\n",
       "      <th>total_risk</th>\n",
       "      <th>abs_win_rate</th>\n",
       "      <th>relative_win_rate</th>\n",
       "      <th>annual_return_norm</th>\n",
       "      <th>excess_return_norm</th>\n",
       "      <th>systemtic_risk_actual_norm</th>\n",
       "      <th>total_risk_norm</th>\n",
       "      <th>abs_win_rate_norm</th>\n",
       "      <th>relative_win_rate_norm</th>\n",
       "    </tr>\n",
       "  </thead>\n",
       "  <tbody>\n",
       "    <tr>\n",
       "      <th rowspan=\"3\" valign=\"top\">sheet_4</th>\n",
       "      <th>60</th>\n",
       "      <td>61</td>\n",
       "      <td>0.200</td>\n",
       "      <td>0.000</td>\n",
       "      <td>0.200</td>\n",
       "      <td>0.200</td>\n",
       "      <td>0.200</td>\n",
       "      <td>0.200</td>\n",
       "      <td>0.156</td>\n",
       "      <td>0.018</td>\n",
       "      <td>0.97</td>\n",
       "      <td>0.104</td>\n",
       "      <td>0.663</td>\n",
       "      <td>0.525</td>\n",
       "      <td>0.612546</td>\n",
       "      <td>0.631119</td>\n",
       "      <td>0.359730</td>\n",
       "      <td>0.368958</td>\n",
       "      <td>0.52</td>\n",
       "      <td>0.411765</td>\n",
       "    </tr>\n",
       "    <tr>\n",
       "      <th>61</th>\n",
       "      <td>62</td>\n",
       "      <td>0.000</td>\n",
       "      <td>0.200</td>\n",
       "      <td>0.200</td>\n",
       "      <td>0.200</td>\n",
       "      <td>0.200</td>\n",
       "      <td>0.200</td>\n",
       "      <td>0.161</td>\n",
       "      <td>0.018</td>\n",
       "      <td>0.98</td>\n",
       "      <td>0.094</td>\n",
       "      <td>0.688</td>\n",
       "      <td>0.663</td>\n",
       "      <td>0.635785</td>\n",
       "      <td>0.634402</td>\n",
       "      <td>0.362039</td>\n",
       "      <td>0.277221</td>\n",
       "      <td>0.60</td>\n",
       "      <td>0.800000</td>\n",
       "    </tr>\n",
       "    <tr>\n",
       "      <th>62</th>\n",
       "      <td>63</td>\n",
       "      <td>0.167</td>\n",
       "      <td>0.167</td>\n",
       "      <td>0.167</td>\n",
       "      <td>0.167</td>\n",
       "      <td>0.167</td>\n",
       "      <td>0.167</td>\n",
       "      <td>0.173</td>\n",
       "      <td>0.022</td>\n",
       "      <td>0.91</td>\n",
       "      <td>0.095</td>\n",
       "      <td>0.713</td>\n",
       "      <td>0.663</td>\n",
       "      <td>0.692692</td>\n",
       "      <td>0.716476</td>\n",
       "      <td>0.296074</td>\n",
       "      <td>0.284923</td>\n",
       "      <td>0.68</td>\n",
       "      <td>0.800000</td>\n",
       "    </tr>\n",
       "  </tbody>\n",
       "</table>\n",
       "</div>"
      ],
      "text/plain": [
       "            id  bp_large  ...  abs_win_rate_norm  relative_win_rate_norm\n",
       "sheet_4 60  61     0.200  ...               0.52                0.411765\n",
       "        61  62     0.000  ...               0.60                0.800000\n",
       "        62  63     0.167  ...               0.68                0.800000\n",
       "\n",
       "[3 rows x 19 columns]"
      ]
     },
     "execution_count": 11,
     "metadata": {
      "tags": []
     },
     "output_type": "execute_result"
    }
   ],
   "source": [
    "data3d.tail(3)"
   ]
  },
  {
   "cell_type": "code",
   "execution_count": 12,
   "metadata": {
    "colab": {
     "base_uri": "https://localhost:8080/"
    },
    "executionInfo": {
     "elapsed": 63,
     "status": "ok",
     "timestamp": 1623504634660,
     "user": {
      "displayName": "Clash Clans",
      "photoUrl": "",
      "userId": "00562530571182710236"
     },
     "user_tz": -330
    },
    "id": "i3M0qT2zGtWJ",
    "outputId": "d58e0d98-8bba-47d9-cedb-e70b48f94f47"
   },
   "outputs": [
    {
     "data": {
      "text/plain": [
       "(315, 19)"
      ]
     },
     "execution_count": 12,
     "metadata": {
      "tags": []
     },
     "output_type": "execute_result"
    }
   ],
   "source": [
    "# get shape\n",
    "data3d.shape"
   ]
  },
  {
   "cell_type": "markdown",
   "metadata": {
    "id": "xNSV8iXWL3A8"
   },
   "source": [
    "### indexing"
   ]
  },
  {
   "cell_type": "code",
   "execution_count": 13,
   "metadata": {
    "colab": {
     "base_uri": "https://localhost:8080/"
    },
    "executionInfo": {
     "elapsed": 57,
     "status": "ok",
     "timestamp": 1623504634662,
     "user": {
      "displayName": "Clash Clans",
      "photoUrl": "",
      "userId": "00562530571182710236"
     },
     "user_tz": -330
    },
    "id": "s4SWigS_Ki1x",
    "outputId": "4df50bd9-82eb-43b6-9766-bac2b32f13bf"
   },
   "outputs": [
    {
     "data": {
      "text/plain": [
       "MultiIndex([('sheet_0',  0),\n",
       "            ('sheet_0',  1),\n",
       "            ('sheet_0',  2),\n",
       "            ('sheet_0',  3),\n",
       "            ('sheet_0',  4),\n",
       "            ('sheet_0',  5),\n",
       "            ('sheet_0',  6),\n",
       "            ('sheet_0',  7),\n",
       "            ('sheet_0',  8),\n",
       "            ('sheet_0',  9),\n",
       "            ...\n",
       "            ('sheet_4', 53),\n",
       "            ('sheet_4', 54),\n",
       "            ('sheet_4', 55),\n",
       "            ('sheet_4', 56),\n",
       "            ('sheet_4', 57),\n",
       "            ('sheet_4', 58),\n",
       "            ('sheet_4', 59),\n",
       "            ('sheet_4', 60),\n",
       "            ('sheet_4', 61),\n",
       "            ('sheet_4', 62)],\n",
       "           length=315)"
      ]
     },
     "execution_count": 13,
     "metadata": {
      "tags": []
     },
     "output_type": "execute_result"
    }
   ],
   "source": [
    "# indexs\n",
    "data3d.index\n",
    "# see for loc - https://pandas.pydata.org/pandas-docs/stable/user_guide/advanced.html#advanced-indexing-with-hierarchical-index\n",
    "# for more info -  https://pandas.pydata.org/pandas-docs/stable/user_guide/advanced.html"
   ]
  },
  {
   "cell_type": "code",
   "execution_count": 14,
   "metadata": {
    "colab": {
     "base_uri": "https://localhost:8080/",
     "height": 0
    },
    "executionInfo": {
     "elapsed": 54,
     "status": "ok",
     "timestamp": 1623504634664,
     "user": {
      "displayName": "Clash Clans",
      "photoUrl": "",
      "userId": "00562530571182710236"
     },
     "user_tz": -330
    },
    "id": "sIQZxwykL6N2",
    "outputId": "26c1cc88-e0cc-4fe1-bcdc-4b2dbbef3024"
   },
   "outputs": [
    {
     "data": {
      "text/html": [
       "<div>\n",
       "<style scoped>\n",
       "    .dataframe tbody tr th:only-of-type {\n",
       "        vertical-align: middle;\n",
       "    }\n",
       "\n",
       "    .dataframe tbody tr th {\n",
       "        vertical-align: top;\n",
       "    }\n",
       "\n",
       "    .dataframe thead th {\n",
       "        text-align: right;\n",
       "    }\n",
       "</style>\n",
       "<table border=\"1\" class=\"dataframe\">\n",
       "  <thead>\n",
       "    <tr style=\"text-align: right;\">\n",
       "      <th></th>\n",
       "      <th>id</th>\n",
       "      <th>bp_large</th>\n",
       "      <th>roe_large</th>\n",
       "      <th>sp_large</th>\n",
       "      <th>ror_large_last_quarter</th>\n",
       "      <th>mv_large</th>\n",
       "      <th>systematic_risk_small</th>\n",
       "      <th>annual_return</th>\n",
       "      <th>excess_return</th>\n",
       "      <th>systemtic_risk_actual</th>\n",
       "      <th>total_risk</th>\n",
       "      <th>abs_win_rate</th>\n",
       "      <th>relative_win_rate</th>\n",
       "      <th>annual_return_norm</th>\n",
       "      <th>excess_return_norm</th>\n",
       "      <th>systemtic_risk_actual_norm</th>\n",
       "      <th>total_risk_norm</th>\n",
       "      <th>abs_win_rate_norm</th>\n",
       "      <th>relative_win_rate_norm</th>\n",
       "    </tr>\n",
       "  </thead>\n",
       "  <tbody>\n",
       "    <tr>\n",
       "      <th>0</th>\n",
       "      <td>1</td>\n",
       "      <td>1.0</td>\n",
       "      <td>0.0</td>\n",
       "      <td>0.0</td>\n",
       "      <td>0.0</td>\n",
       "      <td>0.0</td>\n",
       "      <td>0.0</td>\n",
       "      <td>0.019516</td>\n",
       "      <td>0.013399</td>\n",
       "      <td>1.902608</td>\n",
       "      <td>0.218617</td>\n",
       "      <td>0.60</td>\n",
       "      <td>0.40</td>\n",
       "      <td>0.488229</td>\n",
       "      <td>0.609445</td>\n",
       "      <td>0.780756</td>\n",
       "      <td>0.800000</td>\n",
       "      <td>0.68</td>\n",
       "      <td>0.333333</td>\n",
       "    </tr>\n",
       "    <tr>\n",
       "      <th>1</th>\n",
       "      <td>2</td>\n",
       "      <td>0.0</td>\n",
       "      <td>1.0</td>\n",
       "      <td>0.0</td>\n",
       "      <td>0.0</td>\n",
       "      <td>0.0</td>\n",
       "      <td>0.0</td>\n",
       "      <td>0.023829</td>\n",
       "      <td>0.006410</td>\n",
       "      <td>1.263287</td>\n",
       "      <td>0.128740</td>\n",
       "      <td>0.55</td>\n",
       "      <td>0.65</td>\n",
       "      <td>0.505279</td>\n",
       "      <td>0.508169</td>\n",
       "      <td>0.443776</td>\n",
       "      <td>0.414220</td>\n",
       "      <td>0.56</td>\n",
       "      <td>0.666667</td>\n",
       "    </tr>\n",
       "    <tr>\n",
       "      <th>2</th>\n",
       "      <td>3</td>\n",
       "      <td>0.0</td>\n",
       "      <td>0.0</td>\n",
       "      <td>1.0</td>\n",
       "      <td>0.0</td>\n",
       "      <td>0.0</td>\n",
       "      <td>0.0</td>\n",
       "      <td>0.080282</td>\n",
       "      <td>0.026548</td>\n",
       "      <td>1.894339</td>\n",
       "      <td>0.208272</td>\n",
       "      <td>0.55</td>\n",
       "      <td>0.50</td>\n",
       "      <td>0.728484</td>\n",
       "      <td>0.800000</td>\n",
       "      <td>0.776397</td>\n",
       "      <td>0.755594</td>\n",
       "      <td>0.56</td>\n",
       "      <td>0.466667</td>\n",
       "    </tr>\n",
       "    <tr>\n",
       "      <th>3</th>\n",
       "      <td>4</td>\n",
       "      <td>0.0</td>\n",
       "      <td>0.0</td>\n",
       "      <td>0.0</td>\n",
       "      <td>1.0</td>\n",
       "      <td>0.0</td>\n",
       "      <td>0.0</td>\n",
       "      <td>-0.006683</td>\n",
       "      <td>0.000728</td>\n",
       "      <td>1.425454</td>\n",
       "      <td>0.155526</td>\n",
       "      <td>0.55</td>\n",
       "      <td>0.35</td>\n",
       "      <td>0.384640</td>\n",
       "      <td>0.425836</td>\n",
       "      <td>0.529253</td>\n",
       "      <td>0.529196</td>\n",
       "      <td>0.56</td>\n",
       "      <td>0.266667</td>\n",
       "    </tr>\n",
       "    <tr>\n",
       "      <th>4</th>\n",
       "      <td>5</td>\n",
       "      <td>0.0</td>\n",
       "      <td>0.0</td>\n",
       "      <td>0.0</td>\n",
       "      <td>0.0</td>\n",
       "      <td>1.0</td>\n",
       "      <td>0.0</td>\n",
       "      <td>0.021999</td>\n",
       "      <td>0.004407</td>\n",
       "      <td>1.094579</td>\n",
       "      <td>0.106729</td>\n",
       "      <td>0.65</td>\n",
       "      <td>0.70</td>\n",
       "      <td>0.498046</td>\n",
       "      <td>0.479146</td>\n",
       "      <td>0.354852</td>\n",
       "      <td>0.319743</td>\n",
       "      <td>0.80</td>\n",
       "      <td>0.733333</td>\n",
       "    </tr>\n",
       "  </tbody>\n",
       "</table>\n",
       "</div>"
      ],
      "text/plain": [
       "   id  bp_large  ...  abs_win_rate_norm  relative_win_rate_norm\n",
       "0   1       1.0  ...               0.68                0.333333\n",
       "1   2       0.0  ...               0.56                0.666667\n",
       "2   3       0.0  ...               0.56                0.466667\n",
       "3   4       0.0  ...               0.56                0.266667\n",
       "4   5       0.0  ...               0.80                0.733333\n",
       "\n",
       "[5 rows x 19 columns]"
      ]
     },
     "execution_count": 14,
     "metadata": {
      "tags": []
     },
     "output_type": "execute_result"
    }
   ],
   "source": [
    "data3d.loc[('sheet_0')].head() # all values of sheet zero"
   ]
  },
  {
   "cell_type": "code",
   "execution_count": 15,
   "metadata": {
    "colab": {
     "base_uri": "https://localhost:8080/"
    },
    "executionInfo": {
     "elapsed": 51,
     "status": "ok",
     "timestamp": 1623504634665,
     "user": {
      "displayName": "Clash Clans",
      "photoUrl": "",
      "userId": "00562530571182710236"
     },
     "user_tz": -330
    },
    "id": "l88YI1VULWDN",
    "outputId": "d9b75e01-dd2a-403c-e17b-bbc40e6b7cf4"
   },
   "outputs": [
    {
     "data": {
      "text/plain": [
       "id                            8.000000\n",
       "bp_large                      0.500000\n",
       "roe_large                     0.000000\n",
       "sp_large                      0.500000\n",
       "ror_large_last_quarter        0.000000\n",
       "mv_large                      0.000000\n",
       "systematic_risk_small         0.000000\n",
       "annual_return                 0.061700\n",
       "excess_return                 0.023370\n",
       "systemtic_risk_actual         1.939118\n",
       "total_risk                    0.218238\n",
       "abs_win_rate                  0.600000\n",
       "relative_win_rate             0.500000\n",
       "annual_return_norm            0.655017\n",
       "excess_return_norm            0.753942\n",
       "systemtic_risk_actual_norm    0.800000\n",
       "total_risk_norm               0.798371\n",
       "abs_win_rate_norm             0.680000\n",
       "relative_win_rate_norm        0.466667\n",
       "Name: (sheet_0, 7), dtype: float64"
      ]
     },
     "execution_count": 15,
     "metadata": {
      "tags": []
     },
     "output_type": "execute_result"
    }
   ],
   "source": [
    "data3d.loc[('sheet_0',7)] # sheet zer0, seven index "
   ]
  },
  {
   "cell_type": "code",
   "execution_count": 16,
   "metadata": {
    "colab": {
     "base_uri": "https://localhost:8080/",
     "height": 0
    },
    "executionInfo": {
     "elapsed": 51,
     "status": "ok",
     "timestamp": 1623504634666,
     "user": {
      "displayName": "Clash Clans",
      "photoUrl": "",
      "userId": "00562530571182710236"
     },
     "user_tz": -330
    },
    "id": "i8OeSPoeMKEH",
    "outputId": "0ddb8a61-9d3a-4dfb-94be-ffeca8a72123"
   },
   "outputs": [
    {
     "data": {
      "text/html": [
       "<div>\n",
       "<style scoped>\n",
       "    .dataframe tbody tr th:only-of-type {\n",
       "        vertical-align: middle;\n",
       "    }\n",
       "\n",
       "    .dataframe tbody tr th {\n",
       "        vertical-align: top;\n",
       "    }\n",
       "\n",
       "    .dataframe thead th {\n",
       "        text-align: right;\n",
       "    }\n",
       "</style>\n",
       "<table border=\"1\" class=\"dataframe\">\n",
       "  <thead>\n",
       "    <tr style=\"text-align: right;\">\n",
       "      <th></th>\n",
       "      <th></th>\n",
       "      <th>id</th>\n",
       "      <th>bp_large</th>\n",
       "      <th>roe_large</th>\n",
       "      <th>sp_large</th>\n",
       "      <th>ror_large_last_quarter</th>\n",
       "      <th>mv_large</th>\n",
       "      <th>systematic_risk_small</th>\n",
       "      <th>annual_return</th>\n",
       "      <th>excess_return</th>\n",
       "      <th>systemtic_risk_actual</th>\n",
       "      <th>total_risk</th>\n",
       "      <th>abs_win_rate</th>\n",
       "      <th>relative_win_rate</th>\n",
       "      <th>annual_return_norm</th>\n",
       "      <th>excess_return_norm</th>\n",
       "      <th>systemtic_risk_actual_norm</th>\n",
       "      <th>total_risk_norm</th>\n",
       "      <th>abs_win_rate_norm</th>\n",
       "      <th>relative_win_rate_norm</th>\n",
       "    </tr>\n",
       "  </thead>\n",
       "  <tbody>\n",
       "    <tr>\n",
       "      <th rowspan=\"3\" valign=\"top\">sheet_0</th>\n",
       "      <th>3</th>\n",
       "      <td>4</td>\n",
       "      <td>0.0</td>\n",
       "      <td>0.0</td>\n",
       "      <td>0.0</td>\n",
       "      <td>1.0</td>\n",
       "      <td>0.0</td>\n",
       "      <td>0.0</td>\n",
       "      <td>-0.006683</td>\n",
       "      <td>0.000728</td>\n",
       "      <td>1.425454</td>\n",
       "      <td>0.155526</td>\n",
       "      <td>0.55</td>\n",
       "      <td>0.35</td>\n",
       "      <td>0.384640</td>\n",
       "      <td>0.425836</td>\n",
       "      <td>0.529253</td>\n",
       "      <td>0.529196</td>\n",
       "      <td>0.56</td>\n",
       "      <td>0.266667</td>\n",
       "    </tr>\n",
       "    <tr>\n",
       "      <th>6</th>\n",
       "      <td>7</td>\n",
       "      <td>0.5</td>\n",
       "      <td>0.5</td>\n",
       "      <td>0.0</td>\n",
       "      <td>0.0</td>\n",
       "      <td>0.0</td>\n",
       "      <td>0.0</td>\n",
       "      <td>0.061851</td>\n",
       "      <td>0.016324</td>\n",
       "      <td>1.392192</td>\n",
       "      <td>0.144132</td>\n",
       "      <td>0.55</td>\n",
       "      <td>0.65</td>\n",
       "      <td>0.655613</td>\n",
       "      <td>0.651840</td>\n",
       "      <td>0.511721</td>\n",
       "      <td>0.480288</td>\n",
       "      <td>0.56</td>\n",
       "      <td>0.666667</td>\n",
       "    </tr>\n",
       "    <tr>\n",
       "      <th>7</th>\n",
       "      <td>8</td>\n",
       "      <td>0.5</td>\n",
       "      <td>0.0</td>\n",
       "      <td>0.5</td>\n",
       "      <td>0.0</td>\n",
       "      <td>0.0</td>\n",
       "      <td>0.0</td>\n",
       "      <td>0.061700</td>\n",
       "      <td>0.023370</td>\n",
       "      <td>1.939118</td>\n",
       "      <td>0.218238</td>\n",
       "      <td>0.60</td>\n",
       "      <td>0.50</td>\n",
       "      <td>0.655017</td>\n",
       "      <td>0.753942</td>\n",
       "      <td>0.800000</td>\n",
       "      <td>0.798371</td>\n",
       "      <td>0.68</td>\n",
       "      <td>0.466667</td>\n",
       "    </tr>\n",
       "    <tr>\n",
       "      <th rowspan=\"3\" valign=\"top\">sheet_3</th>\n",
       "      <th>3</th>\n",
       "      <td>4</td>\n",
       "      <td>0.0</td>\n",
       "      <td>0.0</td>\n",
       "      <td>0.0</td>\n",
       "      <td>1.0</td>\n",
       "      <td>0.0</td>\n",
       "      <td>0.0</td>\n",
       "      <td>0.203809</td>\n",
       "      <td>-0.002600</td>\n",
       "      <td>1.291899</td>\n",
       "      <td>0.088624</td>\n",
       "      <td>0.70</td>\n",
       "      <td>0.60</td>\n",
       "      <td>0.396296</td>\n",
       "      <td>0.320119</td>\n",
       "      <td>0.681552</td>\n",
       "      <td>0.787637</td>\n",
       "      <td>0.32</td>\n",
       "      <td>0.500000</td>\n",
       "    </tr>\n",
       "    <tr>\n",
       "      <th>6</th>\n",
       "      <td>7</td>\n",
       "      <td>0.5</td>\n",
       "      <td>0.5</td>\n",
       "      <td>0.0</td>\n",
       "      <td>0.0</td>\n",
       "      <td>0.0</td>\n",
       "      <td>0.0</td>\n",
       "      <td>0.294884</td>\n",
       "      <td>0.024584</td>\n",
       "      <td>1.060690</td>\n",
       "      <td>0.064909</td>\n",
       "      <td>0.90</td>\n",
       "      <td>0.70</td>\n",
       "      <td>0.800000</td>\n",
       "      <td>0.777744</td>\n",
       "      <td>0.462267</td>\n",
       "      <td>0.460149</td>\n",
       "      <td>0.80</td>\n",
       "      <td>0.650000</td>\n",
       "    </tr>\n",
       "    <tr>\n",
       "      <th>7</th>\n",
       "      <td>8</td>\n",
       "      <td>0.5</td>\n",
       "      <td>0.0</td>\n",
       "      <td>0.5</td>\n",
       "      <td>0.0</td>\n",
       "      <td>0.0</td>\n",
       "      <td>0.0</td>\n",
       "      <td>0.255868</td>\n",
       "      <td>0.019563</td>\n",
       "      <td>1.010397</td>\n",
       "      <td>0.083423</td>\n",
       "      <td>0.80</td>\n",
       "      <td>0.50</td>\n",
       "      <td>0.627054</td>\n",
       "      <td>0.693222</td>\n",
       "      <td>0.414567</td>\n",
       "      <td>0.715819</td>\n",
       "      <td>0.56</td>\n",
       "      <td>0.350000</td>\n",
       "    </tr>\n",
       "  </tbody>\n",
       "</table>\n",
       "</div>"
      ],
      "text/plain": [
       "           id  bp_large  ...  abs_win_rate_norm  relative_win_rate_norm\n",
       "sheet_0 3   4       0.0  ...               0.56                0.266667\n",
       "        6   7       0.5  ...               0.56                0.666667\n",
       "        7   8       0.5  ...               0.68                0.466667\n",
       "sheet_3 3   4       0.0  ...               0.32                0.500000\n",
       "        6   7       0.5  ...               0.80                0.650000\n",
       "        7   8       0.5  ...               0.56                0.350000\n",
       "\n",
       "[6 rows x 19 columns]"
      ]
     },
     "execution_count": 16,
     "metadata": {
      "tags": []
     },
     "output_type": "execute_result"
    }
   ],
   "source": [
    "data3d.loc[(('sheet_0','sheet_3'),(3,6,7)),:] # sheet zer0, 3, seven index -> ((sheet tuple),(rows)),columns"
   ]
  },
  {
   "cell_type": "markdown",
   "metadata": {
    "id": "UAjMHIBSOvrJ"
   },
   "source": [
    "### do manipulate data"
   ]
  },
  {
   "cell_type": "code",
   "execution_count": 17,
   "metadata": {
    "colab": {
     "base_uri": "https://localhost:8080/",
     "height": 0
    },
    "executionInfo": {
     "elapsed": 50,
     "status": "ok",
     "timestamp": 1623504634668,
     "user": {
      "displayName": "Clash Clans",
      "photoUrl": "",
      "userId": "00562530571182710236"
     },
     "user_tz": -330
    },
    "id": "O0CSShl0HXOe",
    "outputId": "dcb58e6c-6301-4513-c976-a89e2f65207c"
   },
   "outputs": [
    {
     "data": {
      "text/html": [
       "<div>\n",
       "<style scoped>\n",
       "    .dataframe tbody tr th:only-of-type {\n",
       "        vertical-align: middle;\n",
       "    }\n",
       "\n",
       "    .dataframe tbody tr th {\n",
       "        vertical-align: top;\n",
       "    }\n",
       "\n",
       "    .dataframe thead th {\n",
       "        text-align: right;\n",
       "    }\n",
       "</style>\n",
       "<table border=\"1\" class=\"dataframe\">\n",
       "  <thead>\n",
       "    <tr style=\"text-align: right;\">\n",
       "      <th></th>\n",
       "      <th></th>\n",
       "      <th>id</th>\n",
       "      <th>bp_large</th>\n",
       "      <th>roe_large</th>\n",
       "      <th>sp_large</th>\n",
       "      <th>ror_large_last_quarter</th>\n",
       "      <th>mv_large</th>\n",
       "      <th>systematic_risk_small</th>\n",
       "      <th>annual_return</th>\n",
       "      <th>excess_return</th>\n",
       "      <th>systemtic_risk_actual</th>\n",
       "      <th>total_risk</th>\n",
       "      <th>abs_win_rate</th>\n",
       "      <th>relative_win_rate</th>\n",
       "    </tr>\n",
       "  </thead>\n",
       "  <tbody>\n",
       "    <tr>\n",
       "      <th rowspan=\"5\" valign=\"top\">sheet_4</th>\n",
       "      <th>58</th>\n",
       "      <td>59</td>\n",
       "      <td>0.200</td>\n",
       "      <td>0.200</td>\n",
       "      <td>0.200</td>\n",
       "      <td>0.000</td>\n",
       "      <td>0.200</td>\n",
       "      <td>0.200</td>\n",
       "      <td>17.1%</td>\n",
       "      <td>2.2%</td>\n",
       "      <td>0.94</td>\n",
       "      <td>0.100</td>\n",
       "      <td>0.700</td>\n",
       "      <td>0.638</td>\n",
       "    </tr>\n",
       "    <tr>\n",
       "      <th>59</th>\n",
       "      <td>60</td>\n",
       "      <td>0.200</td>\n",
       "      <td>0.200</td>\n",
       "      <td>0.000</td>\n",
       "      <td>0.200</td>\n",
       "      <td>0.200</td>\n",
       "      <td>0.200</td>\n",
       "      <td>15.3%</td>\n",
       "      <td>1.8%</td>\n",
       "      <td>0.88</td>\n",
       "      <td>0.087</td>\n",
       "      <td>0.725</td>\n",
       "      <td>0.638</td>\n",
       "    </tr>\n",
       "    <tr>\n",
       "      <th>60</th>\n",
       "      <td>61</td>\n",
       "      <td>0.200</td>\n",
       "      <td>0.000</td>\n",
       "      <td>0.200</td>\n",
       "      <td>0.200</td>\n",
       "      <td>0.200</td>\n",
       "      <td>0.200</td>\n",
       "      <td>15.6%</td>\n",
       "      <td>1.8%</td>\n",
       "      <td>0.97</td>\n",
       "      <td>0.104</td>\n",
       "      <td>0.663</td>\n",
       "      <td>0.525</td>\n",
       "    </tr>\n",
       "    <tr>\n",
       "      <th>61</th>\n",
       "      <td>62</td>\n",
       "      <td>0.000</td>\n",
       "      <td>0.200</td>\n",
       "      <td>0.200</td>\n",
       "      <td>0.200</td>\n",
       "      <td>0.200</td>\n",
       "      <td>0.200</td>\n",
       "      <td>16.1%</td>\n",
       "      <td>1.8%</td>\n",
       "      <td>0.98</td>\n",
       "      <td>0.094</td>\n",
       "      <td>0.688</td>\n",
       "      <td>0.663</td>\n",
       "    </tr>\n",
       "    <tr>\n",
       "      <th>62</th>\n",
       "      <td>63</td>\n",
       "      <td>0.167</td>\n",
       "      <td>0.167</td>\n",
       "      <td>0.167</td>\n",
       "      <td>0.167</td>\n",
       "      <td>0.167</td>\n",
       "      <td>0.167</td>\n",
       "      <td>17.3%</td>\n",
       "      <td>2.2%</td>\n",
       "      <td>0.91</td>\n",
       "      <td>0.095</td>\n",
       "      <td>0.713</td>\n",
       "      <td>0.663</td>\n",
       "    </tr>\n",
       "  </tbody>\n",
       "</table>\n",
       "</div>"
      ],
      "text/plain": [
       "            id  bp_large  ...  abs_win_rate  relative_win_rate\n",
       "sheet_4 58  59     0.200  ...         0.700              0.638\n",
       "        59  60     0.200  ...         0.725              0.638\n",
       "        60  61     0.200  ...         0.663              0.525\n",
       "        61  62     0.000  ...         0.688              0.663\n",
       "        62  63     0.167  ...         0.713              0.663\n",
       "\n",
       "[5 rows x 13 columns]"
      ]
     },
     "execution_count": 17,
     "metadata": {
      "tags": []
     },
     "output_type": "execute_result"
    }
   ],
   "source": [
    "# sample function \n",
    "def change_(value):\n",
    "  return str(round(value*100,4))+'%'\n",
    "\n",
    "# manipulate -> annual return \n",
    "for manipulate_column in ['annual_return','excess_return']:\n",
    "  data3d[manipulate_column]=data3d[manipulate_column].apply(change_,convert_dtype=True,args=())\n",
    "\n",
    "# Drop all normalized columns \n",
    "data3d.drop(columns=data3d.columns[-6:],inplace=True)\n",
    "\n",
    "data3d.tail()"
   ]
  },
  {
   "cell_type": "code",
   "execution_count": 18,
   "metadata": {
    "colab": {
     "base_uri": "https://localhost:8080/"
    },
    "executionInfo": {
     "elapsed": 48,
     "status": "ok",
     "timestamp": 1623504634669,
     "user": {
      "displayName": "Clash Clans",
      "photoUrl": "",
      "userId": "00562530571182710236"
     },
     "user_tz": -330
    },
    "id": "NdzDfsP4JY8-",
    "outputId": "961d6c7f-b62a-4dbd-c9c5-68926ec06545"
   },
   "outputs": [
    {
     "name": "stdout",
     "output_type": "stream",
     "text": [
      "In sheet_0 in column  bp_large at [30 59 26 30]\n",
      "In sheet_0 in column  roe_large at [47 37  1]\n",
      "In sheet_0 in column  sp_large at [14 51 62 25]\n",
      "In sheet_0 in column  ror_large_last_quarter at [60 28 22]\n",
      "In sheet_0 in column  mv_large at [21 47  9]\n",
      "In sheet_0 in column  systematic_risk_small at [ 3 41 23 44]\n",
      "In sheet_1 in column  bp_large at [17 51  0]\n",
      "In sheet_1 in column  roe_large at [38  8 43]\n",
      "In sheet_1 in column  sp_large at [50 52  0]\n",
      "In sheet_1 in column  ror_large_last_quarter at [28  5 44 39]\n",
      "In sheet_1 in column  mv_large at [25 60 13]\n",
      "In sheet_1 in column  systematic_risk_small at [ 0 35 12  6]\n",
      "In sheet_2 in column  bp_large at [60 59 30 50]\n",
      "In sheet_2 in column  roe_large at [45 33 11  5]\n",
      "In sheet_2 in column  sp_large at [54 37 23]\n",
      "In sheet_2 in column  ror_large_last_quarter at [16 38 51]\n",
      "In sheet_2 in column  mv_large at [30 27 54]\n",
      "In sheet_2 in column  systematic_risk_small at [51  8 31]\n",
      "In sheet_3 in column  bp_large at [28 52 62 56]\n",
      "In sheet_3 in column  roe_large at [39 13  6]\n",
      "In sheet_3 in column  sp_large at [30 54 41]\n",
      "In sheet_3 in column  ror_large_last_quarter at [55 26 21]\n",
      "In sheet_3 in column  mv_large at [47  4  0 10]\n",
      "In sheet_3 in column  systematic_risk_small at [23  1 60]\n",
      "In sheet_4 in column  bp_large at [18 59  5 55]\n",
      "In sheet_4 in column  roe_large at [31 49 37]\n",
      "In sheet_4 in column  sp_large at [41  2 23]\n",
      "In sheet_4 in column  ror_large_last_quarter at [24 49 26 48]\n",
      "In sheet_4 in column  mv_large at [55 10 11  0]\n",
      "In sheet_4 in column  systematic_risk_small at [16 62 57 44]\n"
     ]
    }
   ],
   "source": [
    "# manuplate each sheet\n",
    "for sheet in range(total_sheets-1):\n",
    "  # delete random values, fill with random.choice([np.nan,'?',None])\n",
    "  for manipulate_column in data3d.columns[1:7]: # ['bp_large','roe_large','sp_large','ror_large_last_quarter','mv_large','systematic_risk_small']\n",
    "    # change column type to str for '?'\n",
    "    #data3d.loc['sheet_'+str(sheet)][manipulate_column]=data3d.loc['sheet_'+str(sheet)][manipulate_column].astype(np.str)\n",
    "    # manipulate randomly 3 or 4 values \n",
    "    manipulate_at_=np.random.choice(range(data3d.shape[0]//(total_sheets-1)),size=np.random.randint(3,5))\n",
    "    print('In sheet_'+str(sheet)+' in column ',manipulate_column,'at',manipulate_at_)\n",
    "    for at_value in manipulate_at_:\n",
    "      data3d.at[('sheet_'+str(sheet),at_value),manipulate_column]=np.nan"
   ]
  },
  {
   "cell_type": "markdown",
   "metadata": {
    "id": "PvGFzkCYR6qj"
   },
   "source": [
    "### see changes"
   ]
  },
  {
   "cell_type": "code",
   "execution_count": 19,
   "metadata": {
    "colab": {
     "base_uri": "https://localhost:8080/"
    },
    "executionInfo": {
     "elapsed": 49,
     "status": "ok",
     "timestamp": 1623504634671,
     "user": {
      "displayName": "Clash Clans",
      "photoUrl": "",
      "userId": "00562530571182710236"
     },
     "user_tz": -330
    },
    "id": "wgNWJBfwRo8h",
    "outputId": "7e53bd27-3d72-4a67-e5e4-8b5888530665"
   },
   "outputs": [
    {
     "name": "stdout",
     "output_type": "stream",
     "text": [
      "<class 'pandas.core.frame.DataFrame'>\n",
      "MultiIndex: 315 entries, ('sheet_0', 0) to ('sheet_4', 62)\n",
      "Data columns (total 13 columns):\n",
      " #   Column                  Non-Null Count  Dtype  \n",
      "---  ------                  --------------  -----  \n",
      " 0   id                      315 non-null    int64  \n",
      " 1   bp_large                297 non-null    float64\n",
      " 2   roe_large               299 non-null    float64\n",
      " 3   sp_large                299 non-null    float64\n",
      " 4   ror_large_last_quarter  298 non-null    float64\n",
      " 5   mv_large                298 non-null    float64\n",
      " 6   systematic_risk_small   297 non-null    float64\n",
      " 7   annual_return           315 non-null    object \n",
      " 8   excess_return           315 non-null    object \n",
      " 9   systemtic_risk_actual   315 non-null    float64\n",
      " 10  total_risk              315 non-null    float64\n",
      " 11  abs_win_rate            315 non-null    float64\n",
      " 12  relative_win_rate       315 non-null    float64\n",
      "dtypes: float64(10), int64(1), object(2)\n",
      "memory usage: 43.0+ KB\n"
     ]
    }
   ],
   "source": [
    "data3d.info()"
   ]
  },
  {
   "cell_type": "code",
   "execution_count": 20,
   "metadata": {
    "colab": {
     "base_uri": "https://localhost:8080/"
    },
    "executionInfo": {
     "elapsed": 47,
     "status": "ok",
     "timestamp": 1623504634672,
     "user": {
      "displayName": "Clash Clans",
      "photoUrl": "",
      "userId": "00562530571182710236"
     },
     "user_tz": -330
    },
    "id": "Tpppx5eVR_vw",
    "outputId": "5e3fd1d5-b2d2-4495-e3e8-bd53a7380c5f"
   },
   "outputs": [
    {
     "data": {
      "text/plain": [
       "id                         0\n",
       "bp_large                  18\n",
       "roe_large                 16\n",
       "sp_large                  16\n",
       "ror_large_last_quarter    17\n",
       "mv_large                  17\n",
       "systematic_risk_small     18\n",
       "annual_return              0\n",
       "excess_return              0\n",
       "systemtic_risk_actual      0\n",
       "total_risk                 0\n",
       "abs_win_rate               0\n",
       "relative_win_rate          0\n",
       "dtype: int64"
      ]
     },
     "execution_count": 20,
     "metadata": {
      "tags": []
     },
     "output_type": "execute_result"
    }
   ],
   "source": [
    "data3d.isna().sum()"
   ]
  },
  {
   "cell_type": "code",
   "execution_count": 21,
   "metadata": {
    "colab": {
     "base_uri": "https://localhost:8080/"
    },
    "executionInfo": {
     "elapsed": 46,
     "status": "ok",
     "timestamp": 1623504634673,
     "user": {
      "displayName": "Clash Clans",
      "photoUrl": "",
      "userId": "00562530571182710236"
     },
     "user_tz": -330
    },
    "id": "qwSVAjhnSUc5",
    "outputId": "2bb41eb6-ffeb-41f1-d8da-133be3cba3fc"
   },
   "outputs": [
    {
     "name": "stdout",
     "output_type": "stream",
     "text": [
      "sheet_0:: column:bp_large: [1.    0.    0.5   0.333   nan 0.25  0.2   0.167]\n",
      "-X--X--X--X--X--X--X--X--X--X--X--X--X--X--X--X--X--X--X--X--X--X--X--X--X--X--X--X--X--X-\n",
      "sheet_0:: column:roe_large: [0.      nan 0.5   0.333 0.25  0.2   0.167]\n",
      "-X--X--X--X--X--X--X--X--X--X--X--X--X--X--X--X--X--X--X--X--X--X--X--X--X--X--X--X--X--X-\n",
      "sheet_0:: column:sp_large: [0.    1.    0.5     nan 0.333 0.25  0.2  ]\n",
      "-X--X--X--X--X--X--X--X--X--X--X--X--X--X--X--X--X--X--X--X--X--X--X--X--X--X--X--X--X--X-\n",
      "sheet_0:: column:ror_large_last_quarter: [0.    1.    0.5     nan 0.333 0.25  0.2   0.167]\n",
      "-X--X--X--X--X--X--X--X--X--X--X--X--X--X--X--X--X--X--X--X--X--X--X--X--X--X--X--X--X--X-\n",
      "sheet_0:: column:mv_large: [0.    1.      nan 0.5   0.333 0.25  0.2   0.167]\n",
      "-X--X--X--X--X--X--X--X--X--X--X--X--X--X--X--X--X--X--X--X--X--X--X--X--X--X--X--X--X--X-\n",
      "sheet_0:: column:systematic_risk_small: [0.      nan 1.    0.5   0.333 0.25  0.2   0.167]\n",
      "-X--X--X--X--X--X--X--X--X--X--X--X--X--X--X--X--X--X--X--X--X--X--X--X--X--X--X--X--X--X-\n",
      "sheet_1:: column:bp_large: [  nan 0.    0.5   0.333 0.25  0.2   0.167]\n",
      "-X--X--X--X--X--X--X--X--X--X--X--X--X--X--X--X--X--X--X--X--X--X--X--X--X--X--X--X--X--X-\n",
      "sheet_1:: column:roe_large: [0.    1.    0.5     nan 0.333 0.25  0.2   0.167]\n",
      "-X--X--X--X--X--X--X--X--X--X--X--X--X--X--X--X--X--X--X--X--X--X--X--X--X--X--X--X--X--X-\n",
      "sheet_1:: column:sp_large: [  nan 0.    1.    0.5   0.333 0.25  0.2   0.167]\n",
      "-X--X--X--X--X--X--X--X--X--X--X--X--X--X--X--X--X--X--X--X--X--X--X--X--X--X--X--X--X--X-\n",
      "sheet_1:: column:ror_large_last_quarter: [0.    1.      nan 0.5   0.333 0.25  0.2   0.167]\n",
      "-X--X--X--X--X--X--X--X--X--X--X--X--X--X--X--X--X--X--X--X--X--X--X--X--X--X--X--X--X--X-\n",
      "sheet_1:: column:mv_large: [0.    1.    0.5     nan 0.333 0.25  0.2   0.167]\n",
      "-X--X--X--X--X--X--X--X--X--X--X--X--X--X--X--X--X--X--X--X--X--X--X--X--X--X--X--X--X--X-\n",
      "sheet_1:: column:systematic_risk_small: [  nan 0.    1.    0.5   0.333 0.25  0.2   0.167]\n",
      "-X--X--X--X--X--X--X--X--X--X--X--X--X--X--X--X--X--X--X--X--X--X--X--X--X--X--X--X--X--X-\n",
      "sheet_2:: column:bp_large: [1.    0.    0.5   0.333   nan 0.25  0.2   0.167]\n",
      "-X--X--X--X--X--X--X--X--X--X--X--X--X--X--X--X--X--X--X--X--X--X--X--X--X--X--X--X--X--X-\n",
      "sheet_2:: column:roe_large: [0.    1.      nan 0.5   0.333 0.25  0.2   0.167]\n",
      "-X--X--X--X--X--X--X--X--X--X--X--X--X--X--X--X--X--X--X--X--X--X--X--X--X--X--X--X--X--X-\n",
      "sheet_2:: column:sp_large: [0.    1.    0.5   0.333   nan 0.25  0.2   0.167]\n",
      "-X--X--X--X--X--X--X--X--X--X--X--X--X--X--X--X--X--X--X--X--X--X--X--X--X--X--X--X--X--X-\n",
      "sheet_2:: column:ror_large_last_quarter: [0.    1.    0.5     nan 0.333 0.25  0.2   0.167]\n",
      "-X--X--X--X--X--X--X--X--X--X--X--X--X--X--X--X--X--X--X--X--X--X--X--X--X--X--X--X--X--X-\n",
      "sheet_2:: column:mv_large: [0.    1.    0.5   0.333   nan 0.25  0.2   0.167]\n",
      "-X--X--X--X--X--X--X--X--X--X--X--X--X--X--X--X--X--X--X--X--X--X--X--X--X--X--X--X--X--X-\n",
      "sheet_2:: column:systematic_risk_small: [0.    1.      nan 0.5   0.333 0.25  0.2   0.167]\n",
      "-X--X--X--X--X--X--X--X--X--X--X--X--X--X--X--X--X--X--X--X--X--X--X--X--X--X--X--X--X--X-\n",
      "sheet_3:: column:bp_large: [1.    0.    0.5   0.333   nan 0.25  0.2  ]\n",
      "-X--X--X--X--X--X--X--X--X--X--X--X--X--X--X--X--X--X--X--X--X--X--X--X--X--X--X--X--X--X-\n",
      "sheet_3:: column:roe_large: [0.    1.      nan 0.5   0.333 0.25  0.2   0.167]\n",
      "-X--X--X--X--X--X--X--X--X--X--X--X--X--X--X--X--X--X--X--X--X--X--X--X--X--X--X--X--X--X-\n",
      "sheet_3:: column:sp_large: [0.    1.    0.5   0.333   nan 0.25  0.2   0.167]\n",
      "-X--X--X--X--X--X--X--X--X--X--X--X--X--X--X--X--X--X--X--X--X--X--X--X--X--X--X--X--X--X-\n",
      "sheet_3:: column:ror_large_last_quarter: [0.    1.    0.5     nan 0.333 0.25  0.2   0.167]\n",
      "-X--X--X--X--X--X--X--X--X--X--X--X--X--X--X--X--X--X--X--X--X--X--X--X--X--X--X--X--X--X-\n",
      "sheet_3:: column:mv_large: [  nan 0.    0.5   0.333 0.25  0.2   0.167]\n",
      "-X--X--X--X--X--X--X--X--X--X--X--X--X--X--X--X--X--X--X--X--X--X--X--X--X--X--X--X--X--X-\n",
      "sheet_3:: column:systematic_risk_small: [0.      nan 1.    0.5   0.333 0.25  0.2   0.167]\n",
      "-X--X--X--X--X--X--X--X--X--X--X--X--X--X--X--X--X--X--X--X--X--X--X--X--X--X--X--X--X--X-\n",
      "sheet_4:: column:bp_large: [1.    0.      nan 0.5   0.333 0.25  0.2   0.167]\n",
      "-X--X--X--X--X--X--X--X--X--X--X--X--X--X--X--X--X--X--X--X--X--X--X--X--X--X--X--X--X--X-\n",
      "sheet_4:: column:roe_large: [0.    1.    0.5   0.333   nan 0.25  0.2   0.167]\n",
      "-X--X--X--X--X--X--X--X--X--X--X--X--X--X--X--X--X--X--X--X--X--X--X--X--X--X--X--X--X--X-\n",
      "sheet_4:: column:sp_large: [0.      nan 0.5   0.333 0.25  0.2   0.167]\n",
      "-X--X--X--X--X--X--X--X--X--X--X--X--X--X--X--X--X--X--X--X--X--X--X--X--X--X--X--X--X--X-\n",
      "sheet_4:: column:ror_large_last_quarter: [0.    1.    0.5   0.333   nan 0.25  0.2   0.167]\n",
      "-X--X--X--X--X--X--X--X--X--X--X--X--X--X--X--X--X--X--X--X--X--X--X--X--X--X--X--X--X--X-\n",
      "sheet_4:: column:mv_large: [  nan 0.    1.    0.5   0.333 0.25  0.2   0.167]\n",
      "-X--X--X--X--X--X--X--X--X--X--X--X--X--X--X--X--X--X--X--X--X--X--X--X--X--X--X--X--X--X-\n",
      "sheet_4:: column:systematic_risk_small: [0.    1.      nan 0.5   0.333 0.25  0.2  ]\n",
      "-X--X--X--X--X--X--X--X--X--X--X--X--X--X--X--X--X--X--X--X--X--X--X--X--X--X--X--X--X--X-\n"
     ]
    }
   ],
   "source": [
    "# see manipulation \n",
    "for sheet in range(total_sheets-1):\n",
    "  for manipulate_column in data3d.columns[1:7]:\n",
    "    print('sheet_'+str(sheet),':: column:',manipulate_column,': ',data3d.loc['sheet_'+str(sheet)][manipulate_column].unique(),'\\n','-X-'*30,sep='')"
   ]
  },
  {
   "cell_type": "markdown",
   "metadata": {
    "id": "JVaG3KkEV74C"
   },
   "source": [
    "### save "
   ]
  },
  {
   "cell_type": "code",
   "execution_count": 22,
   "metadata": {
    "executionInfo": {
     "elapsed": 871,
     "status": "ok",
     "timestamp": 1623504635500,
     "user": {
      "displayName": "Clash Clans",
      "photoUrl": "",
      "userId": "00562530571182710236"
     },
     "user_tz": -330
    },
    "id": "haJsjDSVV9dc"
   },
   "outputs": [],
   "source": [
    "# see - https://pandas.pydata.org/pandas-docs/stable/reference/api/pandas.DataFrame.to_excel.html\n",
    "\n",
    "# old names to columns \n",
    "data3d.rename(columns=dict([(v,k) for k,v in column_dict.items()]),inplace=True)\n",
    "\n",
    "# write exel file with multiple sheets \n",
    "with pd.ExcelWriter('execl_data.xlsx',mode='w') as excel_writer: # also mode='a\n",
    "   for sheet in range(total_sheets-1):\n",
    "     data3d.loc['sheet_'+str(sheet)].to_excel(excel_writer,sheet_name='sheet_'+str(sheet))"
   ]
  },
  {
   "cell_type": "markdown",
   "metadata": {
    "id": "MtTCFeVuX9vF"
   },
   "source": [
    "# End of File -xxx-"
   ]
  }
 ],
 "metadata": {
  "colab": {
   "authorship_tag": "ABX9TyNKYkmywu4S/idS3HYc5Vsi",
   "name": "manipulate_data.ipynb",
   "provenance": []
  },
  "kernelspec": {
   "display_name": "Python 3",
   "language": "python",
   "name": "python3"
  },
  "language_info": {
   "codemirror_mode": {
    "name": "ipython",
    "version": 3
   },
   "file_extension": ".py",
   "mimetype": "text/x-python",
   "name": "python",
   "nbconvert_exporter": "python",
   "pygments_lexer": "ipython3",
   "version": "3.8.3"
  },
  "toc": {
   "base_numbering": 1,
   "nav_menu": {},
   "number_sections": true,
   "sideBar": true,
   "skip_h1_title": false,
   "title_cell": "Table of Contents",
   "title_sidebar": "Contents",
   "toc_cell": false,
   "toc_position": {},
   "toc_section_display": true,
   "toc_window_display": false
  }
 },
 "nbformat": 4,
 "nbformat_minor": 1
}
