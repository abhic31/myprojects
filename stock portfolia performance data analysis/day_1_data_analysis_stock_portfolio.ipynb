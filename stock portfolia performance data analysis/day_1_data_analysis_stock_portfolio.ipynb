{
 "cells": [
  {
   "cell_type": "markdown",
   "metadata": {
    "id": "BDR-6t_fBzbY"
   },
   "source": []
  },
  {
   "cell_type": "code",
   "execution_count": 2,
   "metadata": {
    "colab": {
     "base_uri": "https://localhost:8080/"
    },
    "executionInfo": {
     "elapsed": 609,
     "status": "ok",
     "timestamp": 1623511108075,
     "user": {
      "displayName": "Clash Clans",
      "photoUrl": "",
      "userId": "00562530571182710236"
     },
     "user_tz": -330
    },
    "id": "J6FdmhcpV3Fv",
    "outputId": "ab1c9d17-325d-4d46-fabb-25df299d0152"
   },
   "outputs": [
    {
     "name": "stdout",
     "output_type": "stream",
     "text": [
      "Python 3.7.10\n",
      "numpy version: 1.19.5\n",
      "pandas version:  1.1.5\n"
     ]
    }
   ],
   "source": [
    "!python --version   # Python version\n",
    "\n",
    "# About python:  https://www.python.org/\n",
    "#                Python is powerful... and fast; plays well with others; runs everywhere; is friendly & easy to learn; \n",
    "#                is Open –> https://www.python.org/about/.\n",
    "#     Python docs: https://docs.python.org/3/ (all documentation); \n",
    "#                  https://docs.python.org/3.7/ (Recommended version – 3.7). \n",
    "# The Python Tutorial (python3.7): https://docs.python.org/3.7/tutorial/index.html \n",
    "\n",
    "# Load Module ---\n",
    "import numpy as np, pandas as pd\n",
    "# NumPy : The fundamental package for scientific computing with Python. NumPy is the fundamental package for scientific \n",
    "#         computing in Python. It is a Python library that provides a multidimensional array object, various derived \n",
    "#         objects (such as masked arrays and matrices), and an assortment of routines for fast operations on arrays, \n",
    "#         including mathematical, logical, shape manipulation, sorting, selecting, I/O, discrete Fourier transforms,\n",
    "#         basic linear algebra, basic statistical operations, random simulation and much more.\n",
    "#     About: https://numpy.org/\n",
    "#     Docs: https://numpy.org/doc/stable/\n",
    "#     NumPy quickstart: https://numpy.org/doc/stable/user/quickstart.html\n",
    "\n",
    "# Pandas: pandas is a fast, powerful, flexible and easy to use open source data analysis and manipulation tool, \n",
    "#         built on top of the Python programming language.\n",
    "#     About: https://pandas.pydata.org/ \n",
    "#     Docs: https://pandas.pydata.org/docs/ \n",
    "#     Getting started: https://pandas.pydata.org/docs/getting_started/index.html \n",
    "#     User Guide: https://pandas.pydata.org/docs/user_guide/index.html#user-guide \n",
    "\n",
    "print('numpy version:',np.__version__)\n",
    "print('pandas version: ',pd.__version__)"
   ]
  },
  {
   "cell_type": "markdown",
   "metadata": {
    "id": "p_9xvsa9eF-K"
   },
   "source": [
    "# Numpy and pandas warmup"
   ]
  },
  {
   "cell_type": "code",
   "execution_count": 3,
   "metadata": {
    "colab": {
     "base_uri": "https://localhost:8080/"
    },
    "executionInfo": {
     "elapsed": 413,
     "status": "ok",
     "timestamp": 1623511148408,
     "user": {
      "displayName": "Clash Clans",
      "photoUrl": "",
      "userId": "00562530571182710236"
     },
     "user_tz": -330
    },
    "id": "ziRto9qceMJR",
    "outputId": "06f2b68a-c513-4bf5-c757-14f3fb80760b"
   },
   "outputs": [
    {
     "name": "stdout",
     "output_type": "stream",
     "text": [
      "one_d_data: [0.1292109  0.15204455 0.33103917 0.56314728 0.17482357 0.4902248 ]\n"
     ]
    },
    {
     "data": {
      "text/plain": [
       "0    0.129211\n",
       "1    0.152045\n",
       "2    0.331039\n",
       "3    0.563147\n",
       "4    0.174824\n",
       "5    0.490225\n",
       "dtype: float64"
      ]
     },
     "execution_count": 3,
     "metadata": {
      "tags": []
     },
     "output_type": "execute_result"
    }
   ],
   "source": [
    "# Genrate one dimension data - Series\n",
    "one_d_data=np.random.rand(6) #  uniform distribution (in the range [0,1))\n",
    "print('one_d_data:', one_d_data)\n",
    "# pandas series\n",
    "pd_series=pd.Series(data=one_d_data,index=None,dtype=None,name=None,copy=False)\n",
    "pd_series"
   ]
  },
  {
   "cell_type": "code",
   "execution_count": 4,
   "metadata": {
    "colab": {
     "base_uri": "https://localhost:8080/"
    },
    "executionInfo": {
     "elapsed": 399,
     "status": "ok",
     "timestamp": 1623511268872,
     "user": {
      "displayName": "Clash Clans",
      "photoUrl": "",
      "userId": "00562530571182710236"
     },
     "user_tz": -330
    },
    "id": "kYWxg6-wg7Yk",
    "outputId": "90f2aa7b-384e-48d5-d780-52f107e9e2e7"
   },
   "outputs": [
    {
     "name": "stdout",
     "output_type": "stream",
     "text": [
      "two_d_data:\n",
      "[[ 0.03024512  0.50511375  1.24899931  0.20928989 -0.47490977 -0.89977549]\n",
      " [ 2.26637449 -0.35148803  0.25534478 -0.72811915 -0.69917574  1.53179337]\n",
      " [ 0.41398662  0.53985547  0.42538685  0.87461099  1.2956849  -1.44956502]\n",
      " [ 1.03998284  1.264679    0.89577547  1.45059898 -0.40823682 -0.55174932]\n",
      " [-1.00260081 -0.53435822  0.59312139  2.23561696 -0.19932813  0.14625376]\n",
      " [-0.99450457 -0.99283831 -0.68039512 -1.08610794  0.50637957 -0.10168937]\n",
      " [ 0.82489574  1.11154294  1.23895392 -0.40004446 -0.78221198 -0.19062221]\n",
      " [ 1.67141209  0.80761513 -0.23664303  0.7821994   1.15189517 -0.0620839 ]\n",
      " [ 0.88567916 -0.06809755 -1.46609073  1.13948543 -1.09704302 -1.21928878]\n",
      " [-1.71483322 -1.75610579 -0.55671873  1.27918576 -0.94455069  1.53517421]\n",
      " [ 0.69872964  1.49396406  0.14250355  0.67135143 -1.14379916  1.05199055]]\n"
     ]
    }
   ],
   "source": [
    "# Genrate two dimension data - dataframe (rows and columns)\n",
    "two_d_data=np.random.randn(11,6) # normal distribution (random variable with a Gaussian distribution)\n",
    "print('two_d_data:\\n',two_d_data,sep='')"
   ]
  },
  {
   "cell_type": "code",
   "execution_count": 29,
   "metadata": {
    "colab": {
     "base_uri": "https://localhost:8080/",
     "height": 0
    },
    "executionInfo": {
     "elapsed": 462,
     "status": "ok",
     "timestamp": 1623512398685,
     "user": {
      "displayName": "Clash Clans",
      "photoUrl": "",
      "userId": "00562530571182710236"
     },
     "user_tz": -330
    },
    "id": "3Ej1sa8djreH",
    "outputId": "8fa1d15c-5a8a-4318-b1f1-9b5921221b93"
   },
   "outputs": [
    {
     "data": {
      "text/html": [
       "<div>\n",
       "<style scoped>\n",
       "    .dataframe tbody tr th:only-of-type {\n",
       "        vertical-align: middle;\n",
       "    }\n",
       "\n",
       "    .dataframe tbody tr th {\n",
       "        vertical-align: top;\n",
       "    }\n",
       "\n",
       "    .dataframe thead th {\n",
       "        text-align: right;\n",
       "    }\n",
       "</style>\n",
       "<table border=\"1\" class=\"dataframe\">\n",
       "  <thead>\n",
       "    <tr style=\"text-align: right;\">\n",
       "      <th></th>\n",
       "      <th>0</th>\n",
       "      <th>1</th>\n",
       "      <th>2</th>\n",
       "      <th>3</th>\n",
       "      <th>4</th>\n",
       "      <th>5</th>\n",
       "    </tr>\n",
       "  </thead>\n",
       "  <tbody>\n",
       "    <tr>\n",
       "      <th>a</th>\n",
       "      <td>0.030245</td>\n",
       "      <td>0.505114</td>\n",
       "      <td>1.248999</td>\n",
       "      <td>0.209290</td>\n",
       "      <td>-0.474910</td>\n",
       "      <td>-0.899775</td>\n",
       "    </tr>\n",
       "    <tr>\n",
       "      <th>b</th>\n",
       "      <td>2.266374</td>\n",
       "      <td>-0.351488</td>\n",
       "      <td>0.255345</td>\n",
       "      <td>-0.728119</td>\n",
       "      <td>-0.699176</td>\n",
       "      <td>1.531793</td>\n",
       "    </tr>\n",
       "    <tr>\n",
       "      <th>c</th>\n",
       "      <td>0.413987</td>\n",
       "      <td>0.539855</td>\n",
       "      <td>0.425387</td>\n",
       "      <td>0.874611</td>\n",
       "      <td>1.295685</td>\n",
       "      <td>-1.449565</td>\n",
       "    </tr>\n",
       "    <tr>\n",
       "      <th>d</th>\n",
       "      <td>1.039983</td>\n",
       "      <td>1.264679</td>\n",
       "      <td>0.895775</td>\n",
       "      <td>1.450599</td>\n",
       "      <td>-0.408237</td>\n",
       "      <td>-0.551749</td>\n",
       "    </tr>\n",
       "    <tr>\n",
       "      <th>e</th>\n",
       "      <td>-1.002601</td>\n",
       "      <td>-0.534358</td>\n",
       "      <td>0.593121</td>\n",
       "      <td>2.235617</td>\n",
       "      <td>-0.199328</td>\n",
       "      <td>0.146254</td>\n",
       "    </tr>\n",
       "  </tbody>\n",
       "</table>\n",
       "</div>"
      ],
      "text/plain": [
       "          0         1         2         3         4         5\n",
       "a  0.030245  0.505114  1.248999  0.209290 -0.474910 -0.899775\n",
       "b  2.266374 -0.351488  0.255345 -0.728119 -0.699176  1.531793\n",
       "c  0.413987  0.539855  0.425387  0.874611  1.295685 -1.449565\n",
       "d  1.039983  1.264679  0.895775  1.450599 -0.408237 -0.551749\n",
       "e -1.002601 -0.534358  0.593121  2.235617 -0.199328  0.146254"
      ]
     },
     "execution_count": 29,
     "metadata": {
      "tags": []
     },
     "output_type": "execute_result"
    }
   ],
   "source": [
    "# pandas dataframe \n",
    "pd_dataframe=pd.DataFrame(data=two_d_data,index=['a','b','c','d','e',1,2,3,4,5,6],columns=range(6),\n",
    "                          dtype=None,copy=False)\n",
    "pd_dataframe.head() # returns top five values"
   ]
  },
  {
   "cell_type": "code",
   "execution_count": 8,
   "metadata": {
    "colab": {
     "base_uri": "https://localhost:8080/",
     "height": 0
    },
    "executionInfo": {
     "elapsed": 406,
     "status": "ok",
     "timestamp": 1623511438851,
     "user": {
      "displayName": "Clash Clans",
      "photoUrl": "",
      "userId": "00562530571182710236"
     },
     "user_tz": -330
    },
    "id": "g6H9uk6DjwcG",
    "outputId": "44bc4b93-01bb-4079-dcc2-bdac3c572bce"
   },
   "outputs": [
    {
     "data": {
      "text/html": [
       "<div>\n",
       "<style scoped>\n",
       "    .dataframe tbody tr th:only-of-type {\n",
       "        vertical-align: middle;\n",
       "    }\n",
       "\n",
       "    .dataframe tbody tr th {\n",
       "        vertical-align: top;\n",
       "    }\n",
       "\n",
       "    .dataframe thead th {\n",
       "        text-align: right;\n",
       "    }\n",
       "</style>\n",
       "<table border=\"1\" class=\"dataframe\">\n",
       "  <thead>\n",
       "    <tr style=\"text-align: right;\">\n",
       "      <th></th>\n",
       "      <th>0</th>\n",
       "      <th>1</th>\n",
       "      <th>2</th>\n",
       "      <th>3</th>\n",
       "      <th>4</th>\n",
       "      <th>5</th>\n",
       "    </tr>\n",
       "  </thead>\n",
       "  <tbody>\n",
       "    <tr>\n",
       "      <th>4</th>\n",
       "      <td>0.885679</td>\n",
       "      <td>-0.068098</td>\n",
       "      <td>-1.466091</td>\n",
       "      <td>1.139485</td>\n",
       "      <td>-1.097043</td>\n",
       "      <td>-1.219289</td>\n",
       "    </tr>\n",
       "    <tr>\n",
       "      <th>5</th>\n",
       "      <td>-1.714833</td>\n",
       "      <td>-1.756106</td>\n",
       "      <td>-0.556719</td>\n",
       "      <td>1.279186</td>\n",
       "      <td>-0.944551</td>\n",
       "      <td>1.535174</td>\n",
       "    </tr>\n",
       "    <tr>\n",
       "      <th>6</th>\n",
       "      <td>0.698730</td>\n",
       "      <td>1.493964</td>\n",
       "      <td>0.142504</td>\n",
       "      <td>0.671351</td>\n",
       "      <td>-1.143799</td>\n",
       "      <td>1.051991</td>\n",
       "    </tr>\n",
       "  </tbody>\n",
       "</table>\n",
       "</div>"
      ],
      "text/plain": [
       "          0         1         2         3         4         5\n",
       "4  0.885679 -0.068098 -1.466091  1.139485 -1.097043 -1.219289\n",
       "5 -1.714833 -1.756106 -0.556719  1.279186 -0.944551  1.535174\n",
       "6  0.698730  1.493964  0.142504  0.671351 -1.143799  1.051991"
      ]
     },
     "execution_count": 8,
     "metadata": {
      "tags": []
     },
     "output_type": "execute_result"
    }
   ],
   "source": [
    "pd_dataframe.tail(3) # returns bottom three values"
   ]
  },
  {
   "cell_type": "code",
   "execution_count": 9,
   "metadata": {
    "colab": {
     "base_uri": "https://localhost:8080/"
    },
    "executionInfo": {
     "elapsed": 394,
     "status": "ok",
     "timestamp": 1623511470224,
     "user": {
      "displayName": "Clash Clans",
      "photoUrl": "",
      "userId": "00562530571182710236"
     },
     "user_tz": -330
    },
    "id": "kStOeGigj649",
    "outputId": "c32debe7-4165-48f7-8a05-d092fec0faa7"
   },
   "outputs": [
    {
     "name": "stdout",
     "output_type": "stream",
     "text": [
      "<class 'pandas.core.frame.DataFrame'>\n",
      "Index: 11 entries, a to 6\n",
      "Data columns (total 6 columns):\n",
      " #   Column  Non-Null Count  Dtype  \n",
      "---  ------  --------------  -----  \n",
      " 0   0       11 non-null     float64\n",
      " 1   1       11 non-null     float64\n",
      " 2   2       11 non-null     float64\n",
      " 3   3       11 non-null     float64\n",
      " 4   4       11 non-null     float64\n",
      " 5   5       11 non-null     float64\n",
      "dtypes: float64(6)\n",
      "memory usage: 616.0+ bytes\n"
     ]
    }
   ],
   "source": [
    "# Info\n",
    "pd_dataframe.info()"
   ]
  },
  {
   "cell_type": "code",
   "execution_count": 13,
   "metadata": {
    "colab": {
     "base_uri": "https://localhost:8080/",
     "height": 0
    },
    "executionInfo": {
     "elapsed": 400,
     "status": "ok",
     "timestamp": 1623511637782,
     "user": {
      "displayName": "Clash Clans",
      "photoUrl": "",
      "userId": "00562530571182710236"
     },
     "user_tz": -330
    },
    "id": "Oi4HR_nhkK5R",
    "outputId": "10b9c904-ea2e-42f6-843a-c7a18fa079aa"
   },
   "outputs": [
    {
     "data": {
      "text/html": [
       "<div>\n",
       "<style scoped>\n",
       "    .dataframe tbody tr th:only-of-type {\n",
       "        vertical-align: middle;\n",
       "    }\n",
       "\n",
       "    .dataframe tbody tr th {\n",
       "        vertical-align: top;\n",
       "    }\n",
       "\n",
       "    .dataframe thead th {\n",
       "        text-align: right;\n",
       "    }\n",
       "</style>\n",
       "<table border=\"1\" class=\"dataframe\">\n",
       "  <thead>\n",
       "    <tr style=\"text-align: right;\">\n",
       "      <th></th>\n",
       "      <th>0</th>\n",
       "      <th>1</th>\n",
       "      <th>2</th>\n",
       "      <th>3</th>\n",
       "      <th>4</th>\n",
       "      <th>5</th>\n",
       "    </tr>\n",
       "  </thead>\n",
       "  <tbody>\n",
       "    <tr>\n",
       "      <th>count</th>\n",
       "      <td>11.000000</td>\n",
       "      <td>11.000000</td>\n",
       "      <td>11.000000</td>\n",
       "      <td>11.000000</td>\n",
       "      <td>11.000000</td>\n",
       "      <td>11.000000</td>\n",
       "    </tr>\n",
       "    <tr>\n",
       "      <th>mean</th>\n",
       "      <td>0.374488</td>\n",
       "      <td>0.183626</td>\n",
       "      <td>0.169113</td>\n",
       "      <td>0.584370</td>\n",
       "      <td>-0.254118</td>\n",
       "      <td>-0.019051</td>\n",
       "    </tr>\n",
       "    <tr>\n",
       "      <th>std</th>\n",
       "      <td>1.205375</td>\n",
       "      <td>1.018732</td>\n",
       "      <td>0.847312</td>\n",
       "      <td>1.001085</td>\n",
       "      <td>0.865352</td>\n",
       "      <td>1.028576</td>\n",
       "    </tr>\n",
       "    <tr>\n",
       "      <th>min</th>\n",
       "      <td>-1.714833</td>\n",
       "      <td>-1.756106</td>\n",
       "      <td>-1.466091</td>\n",
       "      <td>-1.086108</td>\n",
       "      <td>-1.143799</td>\n",
       "      <td>-1.449565</td>\n",
       "    </tr>\n",
       "    <tr>\n",
       "      <th>25%</th>\n",
       "      <td>-0.482130</td>\n",
       "      <td>-0.442923</td>\n",
       "      <td>-0.396681</td>\n",
       "      <td>-0.095377</td>\n",
       "      <td>-0.863381</td>\n",
       "      <td>-0.725762</td>\n",
       "    </tr>\n",
       "    <tr>\n",
       "      <th>50%</th>\n",
       "      <td>0.698730</td>\n",
       "      <td>0.505114</td>\n",
       "      <td>0.255345</td>\n",
       "      <td>0.782199</td>\n",
       "      <td>-0.474910</td>\n",
       "      <td>-0.101689</td>\n",
       "    </tr>\n",
       "    <tr>\n",
       "      <th>75%</th>\n",
       "      <td>0.962831</td>\n",
       "      <td>0.959579</td>\n",
       "      <td>0.744448</td>\n",
       "      <td>1.209336</td>\n",
       "      <td>0.153526</td>\n",
       "      <td>0.599122</td>\n",
       "    </tr>\n",
       "    <tr>\n",
       "      <th>max</th>\n",
       "      <td>2.266374</td>\n",
       "      <td>1.493964</td>\n",
       "      <td>1.248999</td>\n",
       "      <td>2.235617</td>\n",
       "      <td>1.295685</td>\n",
       "      <td>1.535174</td>\n",
       "    </tr>\n",
       "  </tbody>\n",
       "</table>\n",
       "</div>"
      ],
      "text/plain": [
       "               0          1          2          3          4          5\n",
       "count  11.000000  11.000000  11.000000  11.000000  11.000000  11.000000\n",
       "mean    0.374488   0.183626   0.169113   0.584370  -0.254118  -0.019051\n",
       "std     1.205375   1.018732   0.847312   1.001085   0.865352   1.028576\n",
       "min    -1.714833  -1.756106  -1.466091  -1.086108  -1.143799  -1.449565\n",
       "25%    -0.482130  -0.442923  -0.396681  -0.095377  -0.863381  -0.725762\n",
       "50%     0.698730   0.505114   0.255345   0.782199  -0.474910  -0.101689\n",
       "75%     0.962831   0.959579   0.744448   1.209336   0.153526   0.599122\n",
       "max     2.266374   1.493964   1.248999   2.235617   1.295685   1.535174"
      ]
     },
     "execution_count": 13,
     "metadata": {
      "tags": []
     },
     "output_type": "execute_result"
    }
   ],
   "source": [
    "# Stats\n",
    "pd_dataframe.describe()"
   ]
  },
  {
   "cell_type": "code",
   "execution_count": 15,
   "metadata": {
    "colab": {
     "base_uri": "https://localhost:8080/"
    },
    "executionInfo": {
     "elapsed": 426,
     "status": "ok",
     "timestamp": 1623511759158,
     "user": {
      "displayName": "Clash Clans",
      "photoUrl": "",
      "userId": "00562530571182710236"
     },
     "user_tz": -330
    },
    "id": "zgEXnT69kSv7",
    "outputId": "549a319b-c9a1-4d0b-eb94-e0eb65ede9b9"
   },
   "outputs": [
    {
     "data": {
      "text/plain": [
       "0    0\n",
       "1    0\n",
       "2    0\n",
       "3    0\n",
       "4    0\n",
       "5    0\n",
       "dtype: int64"
      ]
     },
     "execution_count": 15,
     "metadata": {
      "tags": []
     },
     "output_type": "execute_result"
    }
   ],
   "source": [
    "# Null values \n",
    "pd_dataframe.isna().sum()"
   ]
  },
  {
   "cell_type": "code",
   "execution_count": 17,
   "metadata": {
    "colab": {
     "base_uri": "https://localhost:8080/",
     "height": 0
    },
    "executionInfo": {
     "elapsed": 401,
     "status": "ok",
     "timestamp": 1623511991194,
     "user": {
      "displayName": "Clash Clans",
      "photoUrl": "",
      "userId": "00562530571182710236"
     },
     "user_tz": -330
    },
    "id": "wVzzCKQ7LpNY",
    "outputId": "b1f54b9d-0fd0-4018-eeed-e80294d77606"
   },
   "outputs": [
    {
     "data": {
      "text/html": [
       "<div>\n",
       "<style scoped>\n",
       "    .dataframe tbody tr th:only-of-type {\n",
       "        vertical-align: middle;\n",
       "    }\n",
       "\n",
       "    .dataframe tbody tr th {\n",
       "        vertical-align: top;\n",
       "    }\n",
       "\n",
       "    .dataframe thead th {\n",
       "        text-align: right;\n",
       "    }\n",
       "</style>\n",
       "<table border=\"1\" class=\"dataframe\">\n",
       "  <thead>\n",
       "    <tr style=\"text-align: right;\">\n",
       "      <th></th>\n",
       "      <th>3</th>\n",
       "      <th>4</th>\n",
       "      <th>5</th>\n",
       "    </tr>\n",
       "  </thead>\n",
       "  <tbody>\n",
       "    <tr>\n",
       "      <th>0</th>\n",
       "      <td>0</td>\n",
       "      <td>1</td>\n",
       "      <td>2</td>\n",
       "    </tr>\n",
       "    <tr>\n",
       "      <th>1</th>\n",
       "      <td>3</td>\n",
       "      <td>4</td>\n",
       "      <td>5</td>\n",
       "    </tr>\n",
       "    <tr>\n",
       "      <th>2</th>\n",
       "      <td>6</td>\n",
       "      <td>7</td>\n",
       "      <td>8</td>\n",
       "    </tr>\n",
       "    <tr>\n",
       "      <th>3</th>\n",
       "      <td>9</td>\n",
       "      <td>10</td>\n",
       "      <td>11</td>\n",
       "    </tr>\n",
       "    <tr>\n",
       "      <th>4</th>\n",
       "      <td>12</td>\n",
       "      <td>13</td>\n",
       "      <td>14</td>\n",
       "    </tr>\n",
       "  </tbody>\n",
       "</table>\n",
       "</div>"
      ],
      "text/plain": [
       "    3   4   5\n",
       "0   0   1   2\n",
       "1   3   4   5\n",
       "2   6   7   8\n",
       "3   9  10  11\n",
       "4  12  13  14"
      ]
     },
     "execution_count": 17,
     "metadata": {
      "tags": []
     },
     "output_type": "execute_result"
    }
   ],
   "source": [
    "# mathematical operation\n",
    "sample_dataframe=pd.DataFrame(np.arange(0,15,1).reshape(5,3),columns=['a','b','c'])\n",
    "sample_dataframe"
   ]
  },
  {
   "cell_type": "code",
   "execution_count": 20,
   "metadata": {
    "colab": {
     "base_uri": "https://localhost:8080/",
     "height": 0
    },
    "executionInfo": {
     "elapsed": 666,
     "status": "ok",
     "timestamp": 1623512072238,
     "user": {
      "displayName": "Clash Clans",
      "photoUrl": "",
      "userId": "00562530571182710236"
     },
     "user_tz": -330
    },
    "id": "84ysAQ83MSXo",
    "outputId": "c0d25f41-4be5-485d-ab27-6d1144b038d2"
   },
   "outputs": [
    {
     "data": {
      "text/html": [
       "<div>\n",
       "<style scoped>\n",
       "    .dataframe tbody tr th:only-of-type {\n",
       "        vertical-align: middle;\n",
       "    }\n",
       "\n",
       "    .dataframe tbody tr th {\n",
       "        vertical-align: top;\n",
       "    }\n",
       "\n",
       "    .dataframe thead th {\n",
       "        text-align: right;\n",
       "    }\n",
       "</style>\n",
       "<table border=\"1\" class=\"dataframe\">\n",
       "  <thead>\n",
       "    <tr style=\"text-align: right;\">\n",
       "      <th></th>\n",
       "      <th>3</th>\n",
       "      <th>4</th>\n",
       "      <th>5</th>\n",
       "    </tr>\n",
       "  </thead>\n",
       "  <tbody>\n",
       "    <tr>\n",
       "      <th>0</th>\n",
       "      <td>0.0</td>\n",
       "      <td>0.333333</td>\n",
       "      <td>0.666667</td>\n",
       "    </tr>\n",
       "    <tr>\n",
       "      <th>1</th>\n",
       "      <td>1.0</td>\n",
       "      <td>1.333333</td>\n",
       "      <td>1.666667</td>\n",
       "    </tr>\n",
       "    <tr>\n",
       "      <th>2</th>\n",
       "      <td>2.0</td>\n",
       "      <td>2.333333</td>\n",
       "      <td>2.666667</td>\n",
       "    </tr>\n",
       "    <tr>\n",
       "      <th>3</th>\n",
       "      <td>3.0</td>\n",
       "      <td>3.333333</td>\n",
       "      <td>3.666667</td>\n",
       "    </tr>\n",
       "    <tr>\n",
       "      <th>4</th>\n",
       "      <td>4.0</td>\n",
       "      <td>4.333333</td>\n",
       "      <td>4.666667</td>\n",
       "    </tr>\n",
       "  </tbody>\n",
       "</table>\n",
       "</div>"
      ],
      "text/plain": [
       "     3         4         5\n",
       "0  0.0  0.333333  0.666667\n",
       "1  1.0  1.333333  1.666667\n",
       "2  2.0  2.333333  2.666667\n",
       "3  3.0  3.333333  3.666667\n",
       "4  4.0  4.333333  4.666667"
      ]
     },
     "execution_count": 20,
     "metadata": {
      "tags": []
     },
     "output_type": "execute_result"
    }
   ],
   "source": [
    "# opertion \n",
    "sample_dataframe+3  # not change original value "
   ]
  },
  {
   "cell_type": "code",
   "execution_count": 21,
   "metadata": {
    "colab": {
     "base_uri": "https://localhost:8080/",
     "height": 0
    },
    "executionInfo": {
     "elapsed": 412,
     "status": "ok",
     "timestamp": 1623512131823,
     "user": {
      "displayName": "Clash Clans",
      "photoUrl": "",
      "userId": "00562530571182710236"
     },
     "user_tz": -330
    },
    "id": "v7m8LAA7MhdW",
    "outputId": "d24eb055-e42f-4b16-d016-92eb06a5be13"
   },
   "outputs": [
    {
     "data": {
      "text/html": [
       "<div>\n",
       "<style scoped>\n",
       "    .dataframe tbody tr th:only-of-type {\n",
       "        vertical-align: middle;\n",
       "    }\n",
       "\n",
       "    .dataframe tbody tr th {\n",
       "        vertical-align: top;\n",
       "    }\n",
       "\n",
       "    .dataframe thead th {\n",
       "        text-align: right;\n",
       "    }\n",
       "</style>\n",
       "<table border=\"1\" class=\"dataframe\">\n",
       "  <thead>\n",
       "    <tr style=\"text-align: right;\">\n",
       "      <th></th>\n",
       "      <th>3</th>\n",
       "      <th>4</th>\n",
       "      <th>5</th>\n",
       "    </tr>\n",
       "  </thead>\n",
       "  <tbody>\n",
       "    <tr>\n",
       "      <th>0</th>\n",
       "      <td>3</td>\n",
       "      <td>4</td>\n",
       "      <td>5</td>\n",
       "    </tr>\n",
       "    <tr>\n",
       "      <th>1</th>\n",
       "      <td>6</td>\n",
       "      <td>7</td>\n",
       "      <td>8</td>\n",
       "    </tr>\n",
       "    <tr>\n",
       "      <th>2</th>\n",
       "      <td>9</td>\n",
       "      <td>10</td>\n",
       "      <td>11</td>\n",
       "    </tr>\n",
       "    <tr>\n",
       "      <th>3</th>\n",
       "      <td>12</td>\n",
       "      <td>13</td>\n",
       "      <td>14</td>\n",
       "    </tr>\n",
       "    <tr>\n",
       "      <th>4</th>\n",
       "      <td>15</td>\n",
       "      <td>16</td>\n",
       "      <td>17</td>\n",
       "    </tr>\n",
       "  </tbody>\n",
       "</table>\n",
       "</div>"
      ],
      "text/plain": [
       "    3   4   5\n",
       "0   3   4   5\n",
       "1   6   7   8\n",
       "2   9  10  11\n",
       "3  12  13  14\n",
       "4  15  16  17"
      ]
     },
     "execution_count": 21,
     "metadata": {
      "tags": []
     },
     "output_type": "execute_result"
    }
   ],
   "source": [
    "sample_dataframe+=3   # short-hand a=a+x -> a+=x \n",
    "sample_dataframe  # changed original value"
   ]
  },
  {
   "cell_type": "code",
   "execution_count": 23,
   "metadata": {
    "colab": {
     "base_uri": "https://localhost:8080/",
     "height": 0
    },
    "executionInfo": {
     "elapsed": 540,
     "status": "ok",
     "timestamp": 1623512197283,
     "user": {
      "displayName": "Clash Clans",
      "photoUrl": "",
      "userId": "00562530571182710236"
     },
     "user_tz": -330
    },
    "id": "GHUotN-eM5zB",
    "outputId": "1788c0bb-1d53-4037-e13a-ebed34aa6ef5"
   },
   "outputs": [
    {
     "data": {
      "text/html": [
       "<div>\n",
       "<style scoped>\n",
       "    .dataframe tbody tr th:only-of-type {\n",
       "        vertical-align: middle;\n",
       "    }\n",
       "\n",
       "    .dataframe tbody tr th {\n",
       "        vertical-align: top;\n",
       "    }\n",
       "\n",
       "    .dataframe thead th {\n",
       "        text-align: right;\n",
       "    }\n",
       "</style>\n",
       "<table border=\"1\" class=\"dataframe\">\n",
       "  <thead>\n",
       "    <tr style=\"text-align: right;\">\n",
       "      <th></th>\n",
       "      <th>3</th>\n",
       "      <th>4</th>\n",
       "      <th>5</th>\n",
       "    </tr>\n",
       "  </thead>\n",
       "  <tbody>\n",
       "    <tr>\n",
       "      <th>0</th>\n",
       "      <td>False</td>\n",
       "      <td>True</td>\n",
       "      <td>False</td>\n",
       "    </tr>\n",
       "    <tr>\n",
       "      <th>1</th>\n",
       "      <td>False</td>\n",
       "      <td>True</td>\n",
       "      <td>False</td>\n",
       "    </tr>\n",
       "    <tr>\n",
       "      <th>2</th>\n",
       "      <td>False</td>\n",
       "      <td>True</td>\n",
       "      <td>False</td>\n",
       "    </tr>\n",
       "    <tr>\n",
       "      <th>3</th>\n",
       "      <td>False</td>\n",
       "      <td>True</td>\n",
       "      <td>False</td>\n",
       "    </tr>\n",
       "    <tr>\n",
       "      <th>4</th>\n",
       "      <td>False</td>\n",
       "      <td>True</td>\n",
       "      <td>False</td>\n",
       "    </tr>\n",
       "  </tbody>\n",
       "</table>\n",
       "</div>"
      ],
      "text/plain": [
       "       3     4      5\n",
       "0  False  True  False\n",
       "1  False  True  False\n",
       "2  False  True  False\n",
       "3  False  True  False\n",
       "4  False  True  False"
      ]
     },
     "execution_count": 23,
     "metadata": {
      "tags": []
     },
     "output_type": "execute_result"
    }
   ],
   "source": [
    "sample_dataframe%3==1 # where reminder is 1 (one)"
   ]
  },
  {
   "cell_type": "code",
   "execution_count": 34,
   "metadata": {
    "executionInfo": {
     "elapsed": 423,
     "status": "ok",
     "timestamp": 1623512492479,
     "user": {
      "displayName": "Clash Clans",
      "photoUrl": "",
      "userId": "00562530571182710236"
     },
     "user_tz": -330
    },
    "id": "uneWKx9Tkhl0"
   },
   "outputs": [],
   "source": [
    "# Saving file as csv \n",
    "pd_dataframe.to_csv('my_test_file',sep='$')\n",
    "del pd_dataframe"
   ]
  },
  {
   "cell_type": "code",
   "execution_count": 38,
   "metadata": {
    "executionInfo": {
     "elapsed": 406,
     "status": "ok",
     "timestamp": 1623512583757,
     "user": {
      "displayName": "Clash Clans",
      "photoUrl": "",
      "userId": "00562530571182710236"
     },
     "user_tz": -330
    },
    "id": "6kYfhcGflF42"
   },
   "outputs": [],
   "source": [
    "# read file \n",
    "my_test_data=pd.read_csv('my_test_file',sep='$')\n",
    "my_test_data.to_json()"
   ]
  },
  {
   "cell_type": "markdown",
   "metadata": {
    "id": "oh3H911mxEvz"
   },
   "source": [
    "# About Dataset – Stock Portfolio Performance\n",
    "\n",
    "The dataset of performances of weighted scoring stock portfolios are obtained with mixture design from the US stock market historical database. \n",
    "\n",
    "Dataset source (UCI Machine Learning Repository):\t https://archive.ics.uci.edu/ml/datasets/Stock+portfolio+performance\n",
    "\n",
    "Dataset download link: [stock portfolio performance data set.xlsx](https://archive.ics.uci.edu/ml/machine-learning-databases/00390/stock%20portfolio%20performance%20data%20set.xlsx) \n"
   ]
  },
  {
   "cell_type": "code",
   "execution_count": 41,
   "metadata": {
    "executionInfo": {
     "elapsed": 1105,
     "status": "ok",
     "timestamp": 1623512839584,
     "user": {
      "displayName": "Clash Clans",
      "photoUrl": "",
      "userId": "00562530571182710236"
     },
     "user_tz": -330
    },
    "id": "B84iS2PVVw5O"
   },
   "outputs": [],
   "source": [
    "#!wget https://archive.ics.uci.edu/ml/machine-learning-databases/00390/stock%20portfolio%20performance%20data%20set.xlsx\n",
    "\n",
    "# Read dataset \n",
    "data_file_link_xlsx='https://archive.ics.uci.edu/ml/machine-learning-databases/00390/stock%20portfolio%20performance%20data%20set.xlsx'\n",
    "data=pd.read_excel(data_file_link_xlsx,sheet_name='4th period',header=1)"
   ]
  },
  {
   "cell_type": "code",
   "execution_count": 42,
   "metadata": {
    "colab": {
     "base_uri": "https://localhost:8080/",
     "height": 312
    },
    "executionInfo": {
     "elapsed": 409,
     "status": "ok",
     "timestamp": 1623512843093,
     "user": {
      "displayName": "Clash Clans",
      "photoUrl": "",
      "userId": "00562530571182710236"
     },
     "user_tz": -330
    },
    "id": "56INueqbV9XL",
    "outputId": "df4ed531-e917-4080-b5a1-d1b461f7c778"
   },
   "outputs": [
    {
     "data": {
      "text/html": [
       "<div>\n",
       "<style scoped>\n",
       "    .dataframe tbody tr th:only-of-type {\n",
       "        vertical-align: middle;\n",
       "    }\n",
       "\n",
       "    .dataframe tbody tr th {\n",
       "        vertical-align: top;\n",
       "    }\n",
       "\n",
       "    .dataframe thead th {\n",
       "        text-align: right;\n",
       "    }\n",
       "</style>\n",
       "<table border=\"1\" class=\"dataframe\">\n",
       "  <thead>\n",
       "    <tr style=\"text-align: right;\">\n",
       "      <th></th>\n",
       "      <th>ID</th>\n",
       "      <th>Large B/P</th>\n",
       "      <th>Large ROE</th>\n",
       "      <th>Large S/P</th>\n",
       "      <th>Large Return Rate in the last quarter</th>\n",
       "      <th>Large Market Value</th>\n",
       "      <th>Small systematic Risk</th>\n",
       "      <th>Annual Return</th>\n",
       "      <th>Excess Return</th>\n",
       "      <th>Systematic Risk</th>\n",
       "      <th>Total Risk</th>\n",
       "      <th>Abs. Win Rate</th>\n",
       "      <th>Rel. Win Rate</th>\n",
       "      <th>Annual Return.1</th>\n",
       "      <th>Excess Return.1</th>\n",
       "      <th>Systematic Risk.1</th>\n",
       "      <th>Total Risk.1</th>\n",
       "      <th>Abs. Win Rate.1</th>\n",
       "      <th>Rel. Win Rate.1</th>\n",
       "    </tr>\n",
       "  </thead>\n",
       "  <tbody>\n",
       "    <tr>\n",
       "      <th>0</th>\n",
       "      <td>1</td>\n",
       "      <td>1.0</td>\n",
       "      <td>0.0</td>\n",
       "      <td>0.0</td>\n",
       "      <td>0.0</td>\n",
       "      <td>0.0</td>\n",
       "      <td>0.0</td>\n",
       "      <td>0.019516</td>\n",
       "      <td>0.013399</td>\n",
       "      <td>1.902608</td>\n",
       "      <td>0.218617</td>\n",
       "      <td>0.60</td>\n",
       "      <td>0.40</td>\n",
       "      <td>0.488229</td>\n",
       "      <td>0.609445</td>\n",
       "      <td>0.780756</td>\n",
       "      <td>0.800000</td>\n",
       "      <td>0.68</td>\n",
       "      <td>0.333333</td>\n",
       "    </tr>\n",
       "    <tr>\n",
       "      <th>1</th>\n",
       "      <td>2</td>\n",
       "      <td>0.0</td>\n",
       "      <td>1.0</td>\n",
       "      <td>0.0</td>\n",
       "      <td>0.0</td>\n",
       "      <td>0.0</td>\n",
       "      <td>0.0</td>\n",
       "      <td>0.023829</td>\n",
       "      <td>0.006410</td>\n",
       "      <td>1.263287</td>\n",
       "      <td>0.128740</td>\n",
       "      <td>0.55</td>\n",
       "      <td>0.65</td>\n",
       "      <td>0.505279</td>\n",
       "      <td>0.508169</td>\n",
       "      <td>0.443776</td>\n",
       "      <td>0.414220</td>\n",
       "      <td>0.56</td>\n",
       "      <td>0.666667</td>\n",
       "    </tr>\n",
       "    <tr>\n",
       "      <th>2</th>\n",
       "      <td>3</td>\n",
       "      <td>0.0</td>\n",
       "      <td>0.0</td>\n",
       "      <td>1.0</td>\n",
       "      <td>0.0</td>\n",
       "      <td>0.0</td>\n",
       "      <td>0.0</td>\n",
       "      <td>0.080282</td>\n",
       "      <td>0.026548</td>\n",
       "      <td>1.894339</td>\n",
       "      <td>0.208272</td>\n",
       "      <td>0.55</td>\n",
       "      <td>0.50</td>\n",
       "      <td>0.728484</td>\n",
       "      <td>0.800000</td>\n",
       "      <td>0.776397</td>\n",
       "      <td>0.755594</td>\n",
       "      <td>0.56</td>\n",
       "      <td>0.466667</td>\n",
       "    </tr>\n",
       "    <tr>\n",
       "      <th>3</th>\n",
       "      <td>4</td>\n",
       "      <td>0.0</td>\n",
       "      <td>0.0</td>\n",
       "      <td>0.0</td>\n",
       "      <td>1.0</td>\n",
       "      <td>0.0</td>\n",
       "      <td>0.0</td>\n",
       "      <td>-0.006683</td>\n",
       "      <td>0.000728</td>\n",
       "      <td>1.425454</td>\n",
       "      <td>0.155526</td>\n",
       "      <td>0.55</td>\n",
       "      <td>0.35</td>\n",
       "      <td>0.384640</td>\n",
       "      <td>0.425836</td>\n",
       "      <td>0.529253</td>\n",
       "      <td>0.529196</td>\n",
       "      <td>0.56</td>\n",
       "      <td>0.266667</td>\n",
       "    </tr>\n",
       "    <tr>\n",
       "      <th>4</th>\n",
       "      <td>5</td>\n",
       "      <td>0.0</td>\n",
       "      <td>0.0</td>\n",
       "      <td>0.0</td>\n",
       "      <td>0.0</td>\n",
       "      <td>1.0</td>\n",
       "      <td>0.0</td>\n",
       "      <td>0.021999</td>\n",
       "      <td>0.004407</td>\n",
       "      <td>1.094579</td>\n",
       "      <td>0.106729</td>\n",
       "      <td>0.65</td>\n",
       "      <td>0.70</td>\n",
       "      <td>0.498046</td>\n",
       "      <td>0.479146</td>\n",
       "      <td>0.354852</td>\n",
       "      <td>0.319743</td>\n",
       "      <td>0.80</td>\n",
       "      <td>0.733333</td>\n",
       "    </tr>\n",
       "  </tbody>\n",
       "</table>\n",
       "</div>"
      ],
      "text/plain": [
       "   ID   Large B/P    Large ROE   ...  Total Risk.1  Abs. Win Rate.1  Rel. Win Rate.1\n",
       "0   1          1.0          0.0  ...      0.800000             0.68         0.333333\n",
       "1   2          0.0          1.0  ...      0.414220             0.56         0.666667\n",
       "2   3          0.0          0.0  ...      0.755594             0.56         0.466667\n",
       "3   4          0.0          0.0  ...      0.529196             0.56         0.266667\n",
       "4   5          0.0          0.0  ...      0.319743             0.80         0.733333\n",
       "\n",
       "[5 rows x 19 columns]"
      ]
     },
     "execution_count": 42,
     "metadata": {
      "tags": []
     },
     "output_type": "execute_result"
    }
   ],
   "source": [
    "data.head()"
   ]
  },
  {
   "cell_type": "code",
   "execution_count": 43,
   "metadata": {
    "colab": {
     "base_uri": "https://localhost:8080/"
    },
    "executionInfo": {
     "elapsed": 402,
     "status": "ok",
     "timestamp": 1623512926117,
     "user": {
      "displayName": "Clash Clans",
      "photoUrl": "",
      "userId": "00562530571182710236"
     },
     "user_tz": -330
    },
    "id": "iEdxXD2MP1__",
    "outputId": "84c7eed8-948c-4b3f-c6fb-77294ddef5cf"
   },
   "outputs": [
    {
     "data": {
      "text/plain": [
       "(63, 19)"
      ]
     },
     "execution_count": 43,
     "metadata": {
      "tags": []
     },
     "output_type": "execute_result"
    }
   ],
   "source": [
    "data.shape  # rows , columns "
   ]
  },
  {
   "cell_type": "code",
   "execution_count": 44,
   "metadata": {
    "executionInfo": {
     "elapsed": 701,
     "status": "ok",
     "timestamp": 1623513608268,
     "user": {
      "displayName": "Clash Clans",
      "photoUrl": "",
      "userId": "00562530571182710236"
     },
     "user_tz": -330
    },
    "id": "ecMASDGZbQbw"
   },
   "outputs": [],
   "source": [
    "column_dict={'ID':'id',\n",
    "             ' Large B/P ':'bp_large',\n",
    "             ' Large ROE ':'roe_large',\n",
    "             ' Large S/P ':'sp_large',\n",
    "             ' Large Return Rate in the last quarter ':'ror_large_last_quarter',\n",
    "             ' Large Market Value ':'mv_large',\n",
    "             ' Small systematic Risk':'systematic_risk_small',\n",
    "             'Annual Return':'annual_return',\n",
    "             'Excess Return':'excess_return',\n",
    "             'Systematic Risk':'systemtic_risk_actual',\n",
    "             'Total Risk':'total_risk',\n",
    "             'Abs. Win Rate':'abs_win_rate',\n",
    "             'Rel. Win Rate':'relative_win_rate',\n",
    "             'Annual Return.1':'annual_return_norm',\n",
    "             'Excess Return.1':'excess_return_norm',\n",
    "             'Systematic Risk.1':'systemtic_risk_actual_norm',\n",
    "             'Total Risk.1':'total_risk_norm',\n",
    "             'Abs. Win Rate.1':'abs_win_rate_norm',\n",
    "             'Rel. Win Rate.1':'relative_win_rate_norm'}"
   ]
  },
  {
   "cell_type": "code",
   "execution_count": 45,
   "metadata": {
    "colab": {
     "base_uri": "https://localhost:8080/",
     "height": 225
    },
    "executionInfo": {
     "elapsed": 11,
     "status": "ok",
     "timestamp": 1623513608682,
     "user": {
      "displayName": "Clash Clans",
      "photoUrl": "",
      "userId": "00562530571182710236"
     },
     "user_tz": -330
    },
    "id": "QScAKL1EhwV5",
    "outputId": "70cca8ad-372d-4249-e031-847a6e9dbe3e"
   },
   "outputs": [
    {
     "data": {
      "text/html": [
       "<div>\n",
       "<style scoped>\n",
       "    .dataframe tbody tr th:only-of-type {\n",
       "        vertical-align: middle;\n",
       "    }\n",
       "\n",
       "    .dataframe tbody tr th {\n",
       "        vertical-align: top;\n",
       "    }\n",
       "\n",
       "    .dataframe thead th {\n",
       "        text-align: right;\n",
       "    }\n",
       "</style>\n",
       "<table border=\"1\" class=\"dataframe\">\n",
       "  <thead>\n",
       "    <tr style=\"text-align: right;\">\n",
       "      <th></th>\n",
       "      <th>id</th>\n",
       "      <th>bp_large</th>\n",
       "      <th>roe_large</th>\n",
       "      <th>sp_large</th>\n",
       "      <th>ror_large_last_quarter</th>\n",
       "      <th>mv_large</th>\n",
       "      <th>systematic_risk_small</th>\n",
       "      <th>annual_return</th>\n",
       "      <th>excess_return</th>\n",
       "      <th>systemtic_risk_actual</th>\n",
       "      <th>total_risk</th>\n",
       "      <th>abs_win_rate</th>\n",
       "      <th>relative_win_rate</th>\n",
       "      <th>annual_return_norm</th>\n",
       "      <th>excess_return_norm</th>\n",
       "      <th>systemtic_risk_actual_norm</th>\n",
       "      <th>total_risk_norm</th>\n",
       "      <th>abs_win_rate_norm</th>\n",
       "      <th>relative_win_rate_norm</th>\n",
       "    </tr>\n",
       "  </thead>\n",
       "  <tbody>\n",
       "    <tr>\n",
       "      <th>58</th>\n",
       "      <td>59</td>\n",
       "      <td>0.200</td>\n",
       "      <td>0.200</td>\n",
       "      <td>0.200</td>\n",
       "      <td>0.000</td>\n",
       "      <td>0.200</td>\n",
       "      <td>0.200</td>\n",
       "      <td>0.034682</td>\n",
       "      <td>0.007396</td>\n",
       "      <td>1.010771</td>\n",
       "      <td>0.100845</td>\n",
       "      <td>0.55</td>\n",
       "      <td>0.65</td>\n",
       "      <td>0.548192</td>\n",
       "      <td>0.522462</td>\n",
       "      <td>0.310677</td>\n",
       "      <td>0.294491</td>\n",
       "      <td>0.56</td>\n",
       "      <td>0.666667</td>\n",
       "    </tr>\n",
       "    <tr>\n",
       "      <th>59</th>\n",
       "      <td>60</td>\n",
       "      <td>0.200</td>\n",
       "      <td>0.200</td>\n",
       "      <td>0.000</td>\n",
       "      <td>0.200</td>\n",
       "      <td>0.200</td>\n",
       "      <td>0.200</td>\n",
       "      <td>0.033733</td>\n",
       "      <td>0.006783</td>\n",
       "      <td>0.918444</td>\n",
       "      <td>0.092028</td>\n",
       "      <td>0.60</td>\n",
       "      <td>0.60</td>\n",
       "      <td>0.544438</td>\n",
       "      <td>0.513570</td>\n",
       "      <td>0.262013</td>\n",
       "      <td>0.256644</td>\n",
       "      <td>0.68</td>\n",
       "      <td>0.600000</td>\n",
       "    </tr>\n",
       "    <tr>\n",
       "      <th>60</th>\n",
       "      <td>61</td>\n",
       "      <td>0.200</td>\n",
       "      <td>0.000</td>\n",
       "      <td>0.200</td>\n",
       "      <td>0.200</td>\n",
       "      <td>0.200</td>\n",
       "      <td>0.200</td>\n",
       "      <td>0.044852</td>\n",
       "      <td>0.010413</td>\n",
       "      <td>1.162878</td>\n",
       "      <td>0.118172</td>\n",
       "      <td>0.55</td>\n",
       "      <td>0.50</td>\n",
       "      <td>0.588401</td>\n",
       "      <td>0.566175</td>\n",
       "      <td>0.390852</td>\n",
       "      <td>0.368861</td>\n",
       "      <td>0.56</td>\n",
       "      <td>0.466667</td>\n",
       "    </tr>\n",
       "    <tr>\n",
       "      <th>61</th>\n",
       "      <td>62</td>\n",
       "      <td>0.000</td>\n",
       "      <td>0.200</td>\n",
       "      <td>0.200</td>\n",
       "      <td>0.200</td>\n",
       "      <td>0.200</td>\n",
       "      <td>0.200</td>\n",
       "      <td>0.040456</td>\n",
       "      <td>0.008777</td>\n",
       "      <td>0.998392</td>\n",
       "      <td>0.100601</td>\n",
       "      <td>0.60</td>\n",
       "      <td>0.65</td>\n",
       "      <td>0.571021</td>\n",
       "      <td>0.542471</td>\n",
       "      <td>0.304153</td>\n",
       "      <td>0.293441</td>\n",
       "      <td>0.68</td>\n",
       "      <td>0.666667</td>\n",
       "    </tr>\n",
       "    <tr>\n",
       "      <th>62</th>\n",
       "      <td>63</td>\n",
       "      <td>0.167</td>\n",
       "      <td>0.167</td>\n",
       "      <td>0.167</td>\n",
       "      <td>0.167</td>\n",
       "      <td>0.167</td>\n",
       "      <td>0.167</td>\n",
       "      <td>0.057510</td>\n",
       "      <td>0.012866</td>\n",
       "      <td>1.048489</td>\n",
       "      <td>0.104970</td>\n",
       "      <td>0.55</td>\n",
       "      <td>0.75</td>\n",
       "      <td>0.638448</td>\n",
       "      <td>0.601735</td>\n",
       "      <td>0.330558</td>\n",
       "      <td>0.312193</td>\n",
       "      <td>0.56</td>\n",
       "      <td>0.800000</td>\n",
       "    </tr>\n",
       "  </tbody>\n",
       "</table>\n",
       "</div>"
      ],
      "text/plain": [
       "    id  bp_large  ...  abs_win_rate_norm  relative_win_rate_norm\n",
       "58  59     0.200  ...               0.56                0.666667\n",
       "59  60     0.200  ...               0.68                0.600000\n",
       "60  61     0.200  ...               0.56                0.466667\n",
       "61  62     0.000  ...               0.68                0.666667\n",
       "62  63     0.167  ...               0.56                0.800000\n",
       "\n",
       "[5 rows x 19 columns]"
      ]
     },
     "execution_count": 45,
     "metadata": {
      "tags": []
     },
     "output_type": "execute_result"
    }
   ],
   "source": [
    "data.rename(index=None,columns=column_dict,axis=None,copy=True,inplace=True)\n",
    "data.tail()"
   ]
  },
  {
   "cell_type": "markdown",
   "metadata": {
    "id": "Wnd0P_jdykUp"
   },
   "source": [
    "### basic "
   ]
  },
  {
   "cell_type": "code",
   "execution_count": 46,
   "metadata": {
    "colab": {
     "base_uri": "https://localhost:8080/"
    },
    "executionInfo": {
     "elapsed": 417,
     "status": "ok",
     "timestamp": 1623513628071,
     "user": {
      "displayName": "Clash Clans",
      "photoUrl": "",
      "userId": "00562530571182710236"
     },
     "user_tz": -330
    },
    "id": "KS86l_4ppkB6",
    "outputId": "495b5561-5a98-40be-b58e-1f674bb2b9d4"
   },
   "outputs": [
    {
     "name": "stdout",
     "output_type": "stream",
     "text": [
      "<class 'pandas.core.frame.DataFrame'>\n",
      "RangeIndex: 63 entries, 0 to 62\n",
      "Data columns (total 19 columns):\n",
      " #   Column                      Non-Null Count  Dtype  \n",
      "---  ------                      --------------  -----  \n",
      " 0   id                          63 non-null     int64  \n",
      " 1   bp_large                    63 non-null     float64\n",
      " 2   roe_large                   63 non-null     float64\n",
      " 3   sp_large                    63 non-null     float64\n",
      " 4   ror_large_last_quarter      63 non-null     float64\n",
      " 5   mv_large                    63 non-null     float64\n",
      " 6   systematic_risk_small       63 non-null     float64\n",
      " 7   annual_return               63 non-null     float64\n",
      " 8   excess_return               63 non-null     float64\n",
      " 9   systemtic_risk_actual       63 non-null     float64\n",
      " 10  total_risk                  63 non-null     float64\n",
      " 11  abs_win_rate                63 non-null     float64\n",
      " 12  relative_win_rate           63 non-null     float64\n",
      " 13  annual_return_norm          63 non-null     float64\n",
      " 14  excess_return_norm          63 non-null     float64\n",
      " 15  systemtic_risk_actual_norm  63 non-null     float64\n",
      " 16  total_risk_norm             63 non-null     float64\n",
      " 17  abs_win_rate_norm           63 non-null     float64\n",
      " 18  relative_win_rate_norm      63 non-null     float64\n",
      "dtypes: float64(18), int64(1)\n",
      "memory usage: 9.5 KB\n"
     ]
    }
   ],
   "source": [
    "# info \n",
    "data.info()"
   ]
  },
  {
   "cell_type": "code",
   "execution_count": 47,
   "metadata": {
    "colab": {
     "base_uri": "https://localhost:8080/"
    },
    "executionInfo": {
     "elapsed": 400,
     "status": "ok",
     "timestamp": 1623513640902,
     "user": {
      "displayName": "Clash Clans",
      "photoUrl": "",
      "userId": "00562530571182710236"
     },
     "user_tz": -330
    },
    "id": "fbfDENjkqCGX",
    "outputId": "c08d6de3-a1b5-4c26-b6c9-55abec308581"
   },
   "outputs": [
    {
     "data": {
      "text/plain": [
       "id                            0\n",
       "bp_large                      0\n",
       "roe_large                     0\n",
       "sp_large                      0\n",
       "ror_large_last_quarter        0\n",
       "mv_large                      0\n",
       "systematic_risk_small         0\n",
       "annual_return                 0\n",
       "excess_return                 0\n",
       "systemtic_risk_actual         0\n",
       "total_risk                    0\n",
       "abs_win_rate                  0\n",
       "relative_win_rate             0\n",
       "annual_return_norm            0\n",
       "excess_return_norm            0\n",
       "systemtic_risk_actual_norm    0\n",
       "total_risk_norm               0\n",
       "abs_win_rate_norm             0\n",
       "relative_win_rate_norm        0\n",
       "dtype: int64"
      ]
     },
     "execution_count": 47,
     "metadata": {
      "tags": []
     },
     "output_type": "execute_result"
    }
   ],
   "source": [
    "# null values \n",
    "data.isna().sum()"
   ]
  },
  {
   "cell_type": "code",
   "execution_count": 51,
   "metadata": {
    "colab": {
     "base_uri": "https://localhost:8080/",
     "height": 643
    },
    "executionInfo": {
     "elapsed": 432,
     "status": "ok",
     "timestamp": 1623513723480,
     "user": {
      "displayName": "Clash Clans",
      "photoUrl": "",
      "userId": "00562530571182710236"
     },
     "user_tz": -330
    },
    "id": "pYgkTiCVqS1X",
    "outputId": "7fba6737-f221-4374-8ee2-314ebc37fa33"
   },
   "outputs": [
    {
     "data": {
      "text/html": [
       "<div>\n",
       "<style scoped>\n",
       "    .dataframe tbody tr th:only-of-type {\n",
       "        vertical-align: middle;\n",
       "    }\n",
       "\n",
       "    .dataframe tbody tr th {\n",
       "        vertical-align: top;\n",
       "    }\n",
       "\n",
       "    .dataframe thead th {\n",
       "        text-align: right;\n",
       "    }\n",
       "</style>\n",
       "<table border=\"1\" class=\"dataframe\">\n",
       "  <thead>\n",
       "    <tr style=\"text-align: right;\">\n",
       "      <th></th>\n",
       "      <th>count</th>\n",
       "      <th>mean</th>\n",
       "      <th>std</th>\n",
       "      <th>min</th>\n",
       "      <th>25%</th>\n",
       "      <th>50%</th>\n",
       "      <th>75%</th>\n",
       "      <th>max</th>\n",
       "    </tr>\n",
       "  </thead>\n",
       "  <tbody>\n",
       "    <tr>\n",
       "      <th>id</th>\n",
       "      <td>63.0</td>\n",
       "      <td>32.000000</td>\n",
       "      <td>18.330303</td>\n",
       "      <td>1.000000</td>\n",
       "      <td>16.500000</td>\n",
       "      <td>32.000000</td>\n",
       "      <td>47.500000</td>\n",
       "      <td>63.000000</td>\n",
       "    </tr>\n",
       "    <tr>\n",
       "      <th>bp_large</th>\n",
       "      <td>63.0</td>\n",
       "      <td>0.166619</td>\n",
       "      <td>0.199304</td>\n",
       "      <td>0.000000</td>\n",
       "      <td>0.000000</td>\n",
       "      <td>0.167000</td>\n",
       "      <td>0.291500</td>\n",
       "      <td>1.000000</td>\n",
       "    </tr>\n",
       "    <tr>\n",
       "      <th>roe_large</th>\n",
       "      <td>63.0</td>\n",
       "      <td>0.166619</td>\n",
       "      <td>0.199304</td>\n",
       "      <td>0.000000</td>\n",
       "      <td>0.000000</td>\n",
       "      <td>0.167000</td>\n",
       "      <td>0.291500</td>\n",
       "      <td>1.000000</td>\n",
       "    </tr>\n",
       "    <tr>\n",
       "      <th>sp_large</th>\n",
       "      <td>63.0</td>\n",
       "      <td>0.166619</td>\n",
       "      <td>0.199304</td>\n",
       "      <td>0.000000</td>\n",
       "      <td>0.000000</td>\n",
       "      <td>0.167000</td>\n",
       "      <td>0.291500</td>\n",
       "      <td>1.000000</td>\n",
       "    </tr>\n",
       "    <tr>\n",
       "      <th>ror_large_last_quarter</th>\n",
       "      <td>63.0</td>\n",
       "      <td>0.166619</td>\n",
       "      <td>0.199304</td>\n",
       "      <td>0.000000</td>\n",
       "      <td>0.000000</td>\n",
       "      <td>0.167000</td>\n",
       "      <td>0.291500</td>\n",
       "      <td>1.000000</td>\n",
       "    </tr>\n",
       "    <tr>\n",
       "      <th>mv_large</th>\n",
       "      <td>63.0</td>\n",
       "      <td>0.166619</td>\n",
       "      <td>0.199304</td>\n",
       "      <td>0.000000</td>\n",
       "      <td>0.000000</td>\n",
       "      <td>0.167000</td>\n",
       "      <td>0.291500</td>\n",
       "      <td>1.000000</td>\n",
       "    </tr>\n",
       "    <tr>\n",
       "      <th>systematic_risk_small</th>\n",
       "      <td>63.0</td>\n",
       "      <td>0.166619</td>\n",
       "      <td>0.199304</td>\n",
       "      <td>0.000000</td>\n",
       "      <td>0.000000</td>\n",
       "      <td>0.167000</td>\n",
       "      <td>0.291500</td>\n",
       "      <td>1.000000</td>\n",
       "    </tr>\n",
       "    <tr>\n",
       "      <th>annual_return</th>\n",
       "      <td>63.0</td>\n",
       "      <td>0.040384</td>\n",
       "      <td>0.028337</td>\n",
       "      <td>-0.053382</td>\n",
       "      <td>0.021405</td>\n",
       "      <td>0.042629</td>\n",
       "      <td>0.061776</td>\n",
       "      <td>0.098369</td>\n",
       "    </tr>\n",
       "    <tr>\n",
       "      <th>excess_return</th>\n",
       "      <td>63.0</td>\n",
       "      <td>0.010196</td>\n",
       "      <td>0.007972</td>\n",
       "      <td>-0.014856</td>\n",
       "      <td>0.004378</td>\n",
       "      <td>0.010413</td>\n",
       "      <td>0.015840</td>\n",
       "      <td>0.026548</td>\n",
       "    </tr>\n",
       "    <tr>\n",
       "      <th>systemtic_risk_actual</th>\n",
       "      <td>63.0</td>\n",
       "      <td>1.206636</td>\n",
       "      <td>0.271843</td>\n",
       "      <td>0.800792</td>\n",
       "      <td>0.997674</td>\n",
       "      <td>1.181784</td>\n",
       "      <td>1.363218</td>\n",
       "      <td>1.939118</td>\n",
       "    </tr>\n",
       "    <tr>\n",
       "      <th>total_risk</th>\n",
       "      <td>63.0</td>\n",
       "      <td>0.124854</td>\n",
       "      <td>0.031626</td>\n",
       "      <td>0.078831</td>\n",
       "      <td>0.100883</td>\n",
       "      <td>0.119563</td>\n",
       "      <td>0.139269</td>\n",
       "      <td>0.218617</td>\n",
       "    </tr>\n",
       "    <tr>\n",
       "      <th>abs_win_rate</th>\n",
       "      <td>63.0</td>\n",
       "      <td>0.578571</td>\n",
       "      <td>0.043731</td>\n",
       "      <td>0.400000</td>\n",
       "      <td>0.550000</td>\n",
       "      <td>0.550000</td>\n",
       "      <td>0.600000</td>\n",
       "      <td>0.650000</td>\n",
       "    </tr>\n",
       "    <tr>\n",
       "      <th>relative_win_rate</th>\n",
       "      <td>63.0</td>\n",
       "      <td>0.552381</td>\n",
       "      <td>0.100975</td>\n",
       "      <td>0.300000</td>\n",
       "      <td>0.500000</td>\n",
       "      <td>0.550000</td>\n",
       "      <td>0.650000</td>\n",
       "      <td>0.750000</td>\n",
       "    </tr>\n",
       "    <tr>\n",
       "      <th>annual_return_norm</th>\n",
       "      <td>63.0</td>\n",
       "      <td>0.570737</td>\n",
       "      <td>0.112040</td>\n",
       "      <td>0.200000</td>\n",
       "      <td>0.495695</td>\n",
       "      <td>0.579611</td>\n",
       "      <td>0.655315</td>\n",
       "      <td>0.800000</td>\n",
       "    </tr>\n",
       "    <tr>\n",
       "      <th>excess_return_norm</th>\n",
       "      <td>63.0</td>\n",
       "      <td>0.563039</td>\n",
       "      <td>0.115526</td>\n",
       "      <td>0.200000</td>\n",
       "      <td>0.478730</td>\n",
       "      <td>0.566175</td>\n",
       "      <td>0.644828</td>\n",
       "      <td>0.800000</td>\n",
       "    </tr>\n",
       "    <tr>\n",
       "      <th>systemtic_risk_actual_norm</th>\n",
       "      <td>63.0</td>\n",
       "      <td>0.413916</td>\n",
       "      <td>0.143286</td>\n",
       "      <td>0.200000</td>\n",
       "      <td>0.303774</td>\n",
       "      <td>0.400817</td>\n",
       "      <td>0.496449</td>\n",
       "      <td>0.800000</td>\n",
       "    </tr>\n",
       "    <tr>\n",
       "      <th>total_risk_norm</th>\n",
       "      <td>63.0</td>\n",
       "      <td>0.397544</td>\n",
       "      <td>0.135746</td>\n",
       "      <td>0.200000</td>\n",
       "      <td>0.294651</td>\n",
       "      <td>0.374831</td>\n",
       "      <td>0.459415</td>\n",
       "      <td>0.800000</td>\n",
       "    </tr>\n",
       "    <tr>\n",
       "      <th>abs_win_rate_norm</th>\n",
       "      <td>63.0</td>\n",
       "      <td>0.628571</td>\n",
       "      <td>0.104956</td>\n",
       "      <td>0.200000</td>\n",
       "      <td>0.560000</td>\n",
       "      <td>0.560000</td>\n",
       "      <td>0.680000</td>\n",
       "      <td>0.800000</td>\n",
       "    </tr>\n",
       "    <tr>\n",
       "      <th>relative_win_rate_norm</th>\n",
       "      <td>63.0</td>\n",
       "      <td>0.536508</td>\n",
       "      <td>0.134633</td>\n",
       "      <td>0.200000</td>\n",
       "      <td>0.466667</td>\n",
       "      <td>0.533333</td>\n",
       "      <td>0.666667</td>\n",
       "      <td>0.800000</td>\n",
       "    </tr>\n",
       "  </tbody>\n",
       "</table>\n",
       "</div>"
      ],
      "text/plain": [
       "                            count       mean  ...        75%        max\n",
       "id                           63.0  32.000000  ...  47.500000  63.000000\n",
       "bp_large                     63.0   0.166619  ...   0.291500   1.000000\n",
       "roe_large                    63.0   0.166619  ...   0.291500   1.000000\n",
       "sp_large                     63.0   0.166619  ...   0.291500   1.000000\n",
       "ror_large_last_quarter       63.0   0.166619  ...   0.291500   1.000000\n",
       "mv_large                     63.0   0.166619  ...   0.291500   1.000000\n",
       "systematic_risk_small        63.0   0.166619  ...   0.291500   1.000000\n",
       "annual_return                63.0   0.040384  ...   0.061776   0.098369\n",
       "excess_return                63.0   0.010196  ...   0.015840   0.026548\n",
       "systemtic_risk_actual        63.0   1.206636  ...   1.363218   1.939118\n",
       "total_risk                   63.0   0.124854  ...   0.139269   0.218617\n",
       "abs_win_rate                 63.0   0.578571  ...   0.600000   0.650000\n",
       "relative_win_rate            63.0   0.552381  ...   0.650000   0.750000\n",
       "annual_return_norm           63.0   0.570737  ...   0.655315   0.800000\n",
       "excess_return_norm           63.0   0.563039  ...   0.644828   0.800000\n",
       "systemtic_risk_actual_norm   63.0   0.413916  ...   0.496449   0.800000\n",
       "total_risk_norm              63.0   0.397544  ...   0.459415   0.800000\n",
       "abs_win_rate_norm            63.0   0.628571  ...   0.680000   0.800000\n",
       "relative_win_rate_norm       63.0   0.536508  ...   0.666667   0.800000\n",
       "\n",
       "[19 rows x 8 columns]"
      ]
     },
     "execution_count": 51,
     "metadata": {
      "tags": []
     },
     "output_type": "execute_result"
    }
   ],
   "source": [
    "# stats - Transpose\n",
    "data.describe().T"
   ]
  },
  {
   "cell_type": "markdown",
   "metadata": {
    "id": "PLLVhRxaUrhv"
   },
   "source": [
    "### sort "
   ]
  },
  {
   "cell_type": "code",
   "execution_count": 52,
   "metadata": {
    "colab": {
     "base_uri": "https://localhost:8080/",
     "height": 163
    },
    "executionInfo": {
     "elapsed": 425,
     "status": "ok",
     "timestamp": 1623513749948,
     "user": {
      "displayName": "Clash Clans",
      "photoUrl": "",
      "userId": "00562530571182710236"
     },
     "user_tz": -330
    },
    "id": "uNb7qVF-UrLH",
    "outputId": "e52e7c32-1e82-4c2e-c596-6fd8f54607d7"
   },
   "outputs": [
    {
     "data": {
      "text/html": [
       "<div>\n",
       "<style scoped>\n",
       "    .dataframe tbody tr th:only-of-type {\n",
       "        vertical-align: middle;\n",
       "    }\n",
       "\n",
       "    .dataframe tbody tr th {\n",
       "        vertical-align: top;\n",
       "    }\n",
       "\n",
       "    .dataframe thead th {\n",
       "        text-align: right;\n",
       "    }\n",
       "</style>\n",
       "<table border=\"1\" class=\"dataframe\">\n",
       "  <thead>\n",
       "    <tr style=\"text-align: right;\">\n",
       "      <th></th>\n",
       "      <th>abs_win_rate</th>\n",
       "      <th>abs_win_rate_norm</th>\n",
       "      <th>annual_return</th>\n",
       "      <th>annual_return_norm</th>\n",
       "      <th>bp_large</th>\n",
       "      <th>excess_return</th>\n",
       "      <th>excess_return_norm</th>\n",
       "      <th>id</th>\n",
       "      <th>mv_large</th>\n",
       "      <th>relative_win_rate</th>\n",
       "      <th>relative_win_rate_norm</th>\n",
       "      <th>roe_large</th>\n",
       "      <th>ror_large_last_quarter</th>\n",
       "      <th>sp_large</th>\n",
       "      <th>systematic_risk_small</th>\n",
       "      <th>systemtic_risk_actual</th>\n",
       "      <th>systemtic_risk_actual_norm</th>\n",
       "      <th>total_risk</th>\n",
       "      <th>total_risk_norm</th>\n",
       "    </tr>\n",
       "  </thead>\n",
       "  <tbody>\n",
       "    <tr>\n",
       "      <th>0</th>\n",
       "      <td>0.60</td>\n",
       "      <td>0.68</td>\n",
       "      <td>0.019516</td>\n",
       "      <td>0.488229</td>\n",
       "      <td>1.0</td>\n",
       "      <td>0.013399</td>\n",
       "      <td>0.609445</td>\n",
       "      <td>1</td>\n",
       "      <td>0.0</td>\n",
       "      <td>0.40</td>\n",
       "      <td>0.333333</td>\n",
       "      <td>0.0</td>\n",
       "      <td>0.0</td>\n",
       "      <td>0.0</td>\n",
       "      <td>0.0</td>\n",
       "      <td>1.902608</td>\n",
       "      <td>0.780756</td>\n",
       "      <td>0.218617</td>\n",
       "      <td>0.800000</td>\n",
       "    </tr>\n",
       "    <tr>\n",
       "      <th>1</th>\n",
       "      <td>0.55</td>\n",
       "      <td>0.56</td>\n",
       "      <td>0.023829</td>\n",
       "      <td>0.505279</td>\n",
       "      <td>0.0</td>\n",
       "      <td>0.006410</td>\n",
       "      <td>0.508169</td>\n",
       "      <td>2</td>\n",
       "      <td>0.0</td>\n",
       "      <td>0.65</td>\n",
       "      <td>0.666667</td>\n",
       "      <td>1.0</td>\n",
       "      <td>0.0</td>\n",
       "      <td>0.0</td>\n",
       "      <td>0.0</td>\n",
       "      <td>1.263287</td>\n",
       "      <td>0.443776</td>\n",
       "      <td>0.128740</td>\n",
       "      <td>0.414220</td>\n",
       "    </tr>\n",
       "    <tr>\n",
       "      <th>2</th>\n",
       "      <td>0.55</td>\n",
       "      <td>0.56</td>\n",
       "      <td>0.080282</td>\n",
       "      <td>0.728484</td>\n",
       "      <td>0.0</td>\n",
       "      <td>0.026548</td>\n",
       "      <td>0.800000</td>\n",
       "      <td>3</td>\n",
       "      <td>0.0</td>\n",
       "      <td>0.50</td>\n",
       "      <td>0.466667</td>\n",
       "      <td>0.0</td>\n",
       "      <td>0.0</td>\n",
       "      <td>1.0</td>\n",
       "      <td>0.0</td>\n",
       "      <td>1.894339</td>\n",
       "      <td>0.776397</td>\n",
       "      <td>0.208272</td>\n",
       "      <td>0.755594</td>\n",
       "    </tr>\n",
       "  </tbody>\n",
       "</table>\n",
       "</div>"
      ],
      "text/plain": [
       "   abs_win_rate  abs_win_rate_norm  ...  total_risk  total_risk_norm\n",
       "0          0.60               0.68  ...    0.218617         0.800000\n",
       "1          0.55               0.56  ...    0.128740         0.414220\n",
       "2          0.55               0.56  ...    0.208272         0.755594\n",
       "\n",
       "[3 rows x 19 columns]"
      ]
     },
     "execution_count": 52,
     "metadata": {
      "tags": []
     },
     "output_type": "execute_result"
    }
   ],
   "source": [
    "# sort columns by names\n",
    "data.reindex(sorted(data.columns,reverse=False),axis='columns').head(3) # or axis=0; inplace -> X\n",
    "# pandas.DataFrame.sort_index -> https://pandas.pydata.org/docs/reference/api/pandas.DataFrame.sort_index.htm"
   ]
  },
  {
   "cell_type": "code",
   "execution_count": 53,
   "metadata": {
    "colab": {
     "base_uri": "https://localhost:8080/",
     "height": 288
    },
    "executionInfo": {
     "elapsed": 437,
     "status": "ok",
     "timestamp": 1623513867358,
     "user": {
      "displayName": "Clash Clans",
      "photoUrl": "",
      "userId": "00562530571182710236"
     },
     "user_tz": -330
    },
    "id": "Vxq35cIVW9AB",
    "outputId": "377af361-664e-4788-e14d-2f8b6fefad34"
   },
   "outputs": [
    {
     "data": {
      "text/html": [
       "<div>\n",
       "<style scoped>\n",
       "    .dataframe tbody tr th:only-of-type {\n",
       "        vertical-align: middle;\n",
       "    }\n",
       "\n",
       "    .dataframe tbody tr th {\n",
       "        vertical-align: top;\n",
       "    }\n",
       "\n",
       "    .dataframe thead th {\n",
       "        text-align: right;\n",
       "    }\n",
       "</style>\n",
       "<table border=\"1\" class=\"dataframe\">\n",
       "  <thead>\n",
       "    <tr style=\"text-align: right;\">\n",
       "      <th></th>\n",
       "      <th>id</th>\n",
       "      <th>bp_large</th>\n",
       "      <th>roe_large</th>\n",
       "      <th>sp_large</th>\n",
       "      <th>ror_large_last_quarter</th>\n",
       "      <th>mv_large</th>\n",
       "      <th>systematic_risk_small</th>\n",
       "      <th>annual_return</th>\n",
       "      <th>excess_return</th>\n",
       "      <th>systemtic_risk_actual</th>\n",
       "      <th>total_risk</th>\n",
       "      <th>abs_win_rate</th>\n",
       "      <th>relative_win_rate</th>\n",
       "      <th>annual_return_norm</th>\n",
       "      <th>excess_return_norm</th>\n",
       "      <th>systemtic_risk_actual_norm</th>\n",
       "      <th>total_risk_norm</th>\n",
       "      <th>abs_win_rate_norm</th>\n",
       "      <th>relative_win_rate_norm</th>\n",
       "    </tr>\n",
       "  </thead>\n",
       "  <tbody>\n",
       "    <tr>\n",
       "      <th>31</th>\n",
       "      <td>32</td>\n",
       "      <td>0.333</td>\n",
       "      <td>0.333</td>\n",
       "      <td>0.0</td>\n",
       "      <td>0.0</td>\n",
       "      <td>0.0</td>\n",
       "      <td>0.333</td>\n",
       "      <td>0.016851</td>\n",
       "      <td>0.003217</td>\n",
       "      <td>0.911258</td>\n",
       "      <td>0.096577</td>\n",
       "      <td>0.65</td>\n",
       "      <td>0.45</td>\n",
       "      <td>0.477689</td>\n",
       "      <td>0.461894</td>\n",
       "      <td>0.258225</td>\n",
       "      <td>0.276172</td>\n",
       "      <td>0.80</td>\n",
       "      <td>0.400000</td>\n",
       "    </tr>\n",
       "    <tr>\n",
       "      <th>7</th>\n",
       "      <td>8</td>\n",
       "      <td>0.500</td>\n",
       "      <td>0.000</td>\n",
       "      <td>0.5</td>\n",
       "      <td>0.0</td>\n",
       "      <td>0.0</td>\n",
       "      <td>0.000</td>\n",
       "      <td>0.061700</td>\n",
       "      <td>0.023370</td>\n",
       "      <td>1.939118</td>\n",
       "      <td>0.218238</td>\n",
       "      <td>0.60</td>\n",
       "      <td>0.50</td>\n",
       "      <td>0.655017</td>\n",
       "      <td>0.753942</td>\n",
       "      <td>0.800000</td>\n",
       "      <td>0.798371</td>\n",
       "      <td>0.68</td>\n",
       "      <td>0.466667</td>\n",
       "    </tr>\n",
       "    <tr>\n",
       "      <th>9</th>\n",
       "      <td>10</td>\n",
       "      <td>0.500</td>\n",
       "      <td>0.000</td>\n",
       "      <td>0.0</td>\n",
       "      <td>0.5</td>\n",
       "      <td>0.0</td>\n",
       "      <td>0.000</td>\n",
       "      <td>0.068515</td>\n",
       "      <td>0.019034</td>\n",
       "      <td>1.524957</td>\n",
       "      <td>0.162835</td>\n",
       "      <td>0.55</td>\n",
       "      <td>0.40</td>\n",
       "      <td>0.681960</td>\n",
       "      <td>0.691107</td>\n",
       "      <td>0.581700</td>\n",
       "      <td>0.560565</td>\n",
       "      <td>0.56</td>\n",
       "      <td>0.333333</td>\n",
       "    </tr>\n",
       "    <tr>\n",
       "      <th>12</th>\n",
       "      <td>13</td>\n",
       "      <td>0.500</td>\n",
       "      <td>0.000</td>\n",
       "      <td>0.0</td>\n",
       "      <td>0.0</td>\n",
       "      <td>0.5</td>\n",
       "      <td>0.000</td>\n",
       "      <td>0.025587</td>\n",
       "      <td>0.007369</td>\n",
       "      <td>1.420759</td>\n",
       "      <td>0.145995</td>\n",
       "      <td>0.55</td>\n",
       "      <td>0.50</td>\n",
       "      <td>0.512232</td>\n",
       "      <td>0.522063</td>\n",
       "      <td>0.526778</td>\n",
       "      <td>0.488286</td>\n",
       "      <td>0.56</td>\n",
       "      <td>0.466667</td>\n",
       "    </tr>\n",
       "    <tr>\n",
       "      <th>16</th>\n",
       "      <td>17</td>\n",
       "      <td>0.500</td>\n",
       "      <td>0.000</td>\n",
       "      <td>0.0</td>\n",
       "      <td>0.0</td>\n",
       "      <td>0.0</td>\n",
       "      <td>0.500</td>\n",
       "      <td>-0.023439</td>\n",
       "      <td>-0.006177</td>\n",
       "      <td>0.977325</td>\n",
       "      <td>0.106924</td>\n",
       "      <td>0.65</td>\n",
       "      <td>0.45</td>\n",
       "      <td>0.318389</td>\n",
       "      <td>0.325766</td>\n",
       "      <td>0.293048</td>\n",
       "      <td>0.320582</td>\n",
       "      <td>0.80</td>\n",
       "      <td>0.400000</td>\n",
       "    </tr>\n",
       "    <tr>\n",
       "      <th>6</th>\n",
       "      <td>7</td>\n",
       "      <td>0.500</td>\n",
       "      <td>0.500</td>\n",
       "      <td>0.0</td>\n",
       "      <td>0.0</td>\n",
       "      <td>0.0</td>\n",
       "      <td>0.000</td>\n",
       "      <td>0.061851</td>\n",
       "      <td>0.016324</td>\n",
       "      <td>1.392192</td>\n",
       "      <td>0.144132</td>\n",
       "      <td>0.55</td>\n",
       "      <td>0.65</td>\n",
       "      <td>0.655613</td>\n",
       "      <td>0.651840</td>\n",
       "      <td>0.511721</td>\n",
       "      <td>0.480288</td>\n",
       "      <td>0.56</td>\n",
       "      <td>0.666667</td>\n",
       "    </tr>\n",
       "    <tr>\n",
       "      <th>0</th>\n",
       "      <td>1</td>\n",
       "      <td>1.000</td>\n",
       "      <td>0.000</td>\n",
       "      <td>0.0</td>\n",
       "      <td>0.0</td>\n",
       "      <td>0.0</td>\n",
       "      <td>0.000</td>\n",
       "      <td>0.019516</td>\n",
       "      <td>0.013399</td>\n",
       "      <td>1.902608</td>\n",
       "      <td>0.218617</td>\n",
       "      <td>0.60</td>\n",
       "      <td>0.40</td>\n",
       "      <td>0.488229</td>\n",
       "      <td>0.609445</td>\n",
       "      <td>0.780756</td>\n",
       "      <td>0.800000</td>\n",
       "      <td>0.68</td>\n",
       "      <td>0.333333</td>\n",
       "    </tr>\n",
       "  </tbody>\n",
       "</table>\n",
       "</div>"
      ],
      "text/plain": [
       "    id  bp_large  ...  abs_win_rate_norm  relative_win_rate_norm\n",
       "31  32     0.333  ...               0.80                0.400000\n",
       "7    8     0.500  ...               0.68                0.466667\n",
       "9   10     0.500  ...               0.56                0.333333\n",
       "12  13     0.500  ...               0.56                0.466667\n",
       "16  17     0.500  ...               0.80                0.400000\n",
       "6    7     0.500  ...               0.56                0.666667\n",
       "0    1     1.000  ...               0.68                0.333333\n",
       "\n",
       "[7 rows x 19 columns]"
      ]
     },
     "execution_count": 53,
     "metadata": {
      "tags": []
     },
     "output_type": "execute_result"
    }
   ],
   "source": [
    "# sort by column \n",
    "data.sort_values(['bp_large','roe_large'],axis=0,ascending=True,inplace=False,kind='quicksort',na_position='last').tail(7)\n",
    "# for more look - https://pandas.pydata.org/docs/reference/api/pandas.DataFrame.sort_values.html"
   ]
  },
  {
   "cell_type": "code",
   "execution_count": null,
   "metadata": {
    "id": "I3jV4e01YTWm"
   },
   "outputs": [],
   "source": [
    "# sort by row\n",
    "data.sort_values([0,2],axis=1).head(3)"
   ]
  },
  {
   "cell_type": "markdown",
   "metadata": {
    "id": "Lyc9v-jxy00N"
   },
   "source": [
    "### convert "
   ]
  },
  {
   "cell_type": "code",
   "execution_count": null,
   "metadata": {
    "id": "mYaiSgk-vwaS"
   },
   "outputs": [],
   "source": [
    "# to locate all column values as numpy array\n",
    "data.bp_large.to_numpy()    # or to_json or to_csv , also can save values\n",
    "#data.bp_large.values"
   ]
  },
  {
   "cell_type": "code",
   "execution_count": null,
   "metadata": {
    "id": "wYT6gCLNzE8D"
   },
   "outputs": [],
   "source": [
    "# save as csv\n",
    "data.describe().to_csv('data_stats.csv')"
   ]
  },
  {
   "cell_type": "markdown",
   "metadata": {
    "id": "w_NdXyQZzVIp"
   },
   "source": [
    "### locating values "
   ]
  },
  {
   "cell_type": "code",
   "execution_count": null,
   "metadata": {
    "id": "zY31EoOlqgku"
   },
   "outputs": [],
   "source": [
    "# stats - Transpose\n",
    "data.describe().loc[['count','mean','std','min','max'],data.columns[1:]]   # locate values by names (rows, columns) "
   ]
  },
  {
   "cell_type": "code",
   "execution_count": null,
   "metadata": {
    "id": "NlrZ4Ju7vP6d"
   },
   "outputs": [],
   "source": [
    "# to locate row\n",
    "data.loc[1]"
   ]
  },
  {
   "cell_type": "code",
   "execution_count": null,
   "metadata": {
    "id": "ThyyhHNwvciM"
   },
   "outputs": [],
   "source": [
    "# to locate all column values\n",
    "data.bp_large  # or data['bp_large'] "
   ]
  },
  {
   "cell_type": "code",
   "execution_count": null,
   "metadata": {
    "id": "cmwt0SfqsgE_"
   },
   "outputs": [],
   "source": [
    "# for single value \n",
    "\n",
    "# method 1\n",
    "print('method 1 -')\n",
    "%timeit data.loc[7,'bp_large']\n",
    "\n",
    "# method 2\n",
    "print('method 2 -')\n",
    "%timeit data.bp_large[7] # data.bp_large -> pandas.series\n",
    "\n",
    "# method 2.2\n",
    "print('method 3 -')\n",
    "%timeit data.bp_large.loc[7]\n",
    "\n",
    "# method 3 - fast \n",
    "print('method 4 -')\n",
    "%timeit data.at[7,'bp_large']\n",
    "\n",
    "print('value:',data.at[7,'bp_large'])"
   ]
  },
  {
   "cell_type": "markdown",
   "metadata": {
    "id": "x1nBmA35zdzY"
   },
   "source": [
    "### Boolean indexing (locating)"
   ]
  },
  {
   "cell_type": "code",
   "execution_count": null,
   "metadata": {
    "id": "s_OMHxGcu2Vh"
   },
   "outputs": [],
   "source": [
    "# all negative values in dataset\n",
    "data[data<0]"
   ]
  },
  {
   "cell_type": "code",
   "execution_count": null,
   "metadata": {
    "id": "YQ4NxfTT0t_s"
   },
   "outputs": [],
   "source": [
    "data[data.annual_return<0]    # negtaive annual return, column wise, all values"
   ]
  },
  {
   "cell_type": "code",
   "execution_count": null,
   "metadata": {
    "id": "lC5fNZm0BmKT"
   },
   "outputs": [],
   "source": [
    "data.id[data.annual_return<0]   # id of stocks with negtaive annual return "
   ]
  },
  {
   "cell_type": "code",
   "execution_count": null,
   "metadata": {
    "id": "bF6-vwSL_9z_"
   },
   "outputs": [],
   "source": [
    "data.loc[3,data.loc[3]<0] # get row wise value, single "
   ]
  },
  {
   "cell_type": "code",
   "execution_count": null,
   "metadata": {
    "id": "2R2_U2O-G-Xa"
   },
   "outputs": [],
   "source": [
    "# check for multiple columns \n",
    "data[data.loc[:,['sp_large','bp_large','roe_large']]<0.5].loc[:,['sp_large','bp_large','roe_large']]"
   ]
  },
  {
   "cell_type": "code",
   "execution_count": null,
   "metadata": {
    "id": "vRRAfIwbAi7A"
   },
   "outputs": [],
   "source": [
    "data[data.iloc[3:7]<0].iloc[3:7].dropna(axis=0,how='all') # axis : {0 or 'index', 1 or 'columns'}, default 0"
   ]
  },
  {
   "cell_type": "code",
   "execution_count": null,
   "metadata": {
    "id": "vbJOmOB1BSeP"
   },
   "outputs": [],
   "source": [
    "data[data.iloc[3:7]<0].iloc[3:7].dropna(axis=0,how='all').dropna(axis=1,how='all') # more filtering "
   ]
  },
  {
   "cell_type": "markdown",
   "metadata": {
    "id": "ARJvKRl3JsI2"
   },
   "source": [
    "### pd.dataframe.where ?"
   ]
  },
  {
   "cell_type": "code",
   "execution_count": null,
   "metadata": {
    "id": "5K8qkilhI1zX"
   },
   "outputs": [],
   "source": [
    "data.where(data.iloc[3:7]<0,other=np.nan,inplace=False,axis=None) # check particular condition "
   ]
  },
  {
   "cell_type": "code",
   "execution_count": null,
   "metadata": {
    "id": "Uvl7RNdMKu_G"
   },
   "outputs": [],
   "source": [
    "data.where(data.iloc[3:7]<0,other=np.nan,inplace=False,axis=None).dropna(axis=0,how='all') # check particular condition "
   ]
  },
  {
   "cell_type": "code",
   "execution_count": null,
   "metadata": {
    "id": "_Vl9A63fPu70"
   },
   "outputs": [],
   "source": [
    "data.iloc[3:7].where(data.iloc[3:7]<0,other=np.nan,inplace=False,axis=None) # check particular condition , sub-datsset"
   ]
  },
  {
   "cell_type": "code",
   "execution_count": null,
   "metadata": {
    "id": "Ti68FhvzQ6yR"
   },
   "outputs": [],
   "source": [
    "#data.loc[data.iloc[3:7].where(data.iloc[3:7]<0,other=np.nan,inplace=False,axis=None).index] # see all values of particular condition\n",
    "# or \n",
    "data.iloc[3:7].where(data.iloc[3:7]<0,other=data+9,inplace=False,axis=None)"
   ]
  },
  {
   "cell_type": "markdown",
   "metadata": {
    "id": "NdGxyk--Oh8N"
   },
   "source": [
    "### drop rows or columns "
   ]
  },
  {
   "cell_type": "code",
   "execution_count": null,
   "metadata": {
    "id": "fGqAN-HRLFtS"
   },
   "outputs": [],
   "source": [
    "data.drop(labels=None,axis=0,index=None,columns=data.columns[-6:],inplace=False).head(4)  # all normalized columns "
   ]
  },
  {
   "cell_type": "code",
   "execution_count": null,
   "metadata": {
    "id": "6uQsZdoLPLCF"
   },
   "outputs": [],
   "source": [
    "data.drop(labels=None,axis=0,index=data.index[5:],columns=data.columns[-6:],inplace=False).head(4)  # both columns and rows "
   ]
  },
  {
   "cell_type": "markdown",
   "metadata": {
    "id": "WXniqy_xStqB"
   },
   "source": [
    "### pd.dataframe.isin() # find multiple values "
   ]
  },
  {
   "cell_type": "code",
   "execution_count": null,
   "metadata": {
    "id": "oRgxknKSSpAj"
   },
   "outputs": [],
   "source": [
    "data[data.isin([0.333,0.250])].dropna(how='all').dropna(axis=1,how='all').head()"
   ]
  },
  {
   "cell_type": "code",
   "execution_count": null,
   "metadata": {
    "id": "dRe4eSe1T5O6"
   },
   "outputs": [],
   "source": [
    "data[data.isin([0.333,0.250])].dropna(how='all').dropna(axis=1,how='all').tail()"
   ]
  },
  {
   "cell_type": "markdown",
   "metadata": {
    "id": "3u7ucTI1WqOD"
   },
   "source": [
    "### stats "
   ]
  },
  {
   "cell_type": "code",
   "execution_count": null,
   "metadata": {
    "id": "0OepT_4eWr2c"
   },
   "outputs": [],
   "source": [
    "# mean \n",
    "data.mean(axis=None,skipna=True,level=None,numeric_only=True) # get mean for numeric data only "
   ]
  },
  {
   "cell_type": "code",
   "execution_count": null,
   "metadata": {
    "id": "7ijvZTNVXdR5"
   },
   "outputs": [],
   "source": [
    "# median \n",
    "data.median(axis=1,skipna=None,level=None,numeric_only=None)"
   ]
  },
  {
   "cell_type": "code",
   "execution_count": null,
   "metadata": {
    "id": "-mU8lsTEX5l_"
   },
   "outputs": [],
   "source": [
    "# max, min\n",
    "data.loc[[3,9,23],['bp_large','roe_large']].max() # row wise "
   ]
  },
  {
   "cell_type": "code",
   "execution_count": null,
   "metadata": {
    "id": "rd8wbEKcYjRF"
   },
   "outputs": [],
   "source": [
    "# max, min\n",
    "data.loc[:,['bp_large','roe_large']].T.min() # column wise"
   ]
  },
  {
   "cell_type": "markdown",
   "metadata": {
    "id": "SEwxSZtHUup6"
   },
   "source": [
    "### Setting or assigning values"
   ]
  },
  {
   "cell_type": "code",
   "execution_count": null,
   "metadata": {
    "id": "ej9jNutEUkEo"
   },
   "outputs": [],
   "source": [
    "data_small=data.drop(columns=data.columns[-12:]) # return copy "
   ]
  },
  {
   "cell_type": "code",
   "execution_count": null,
   "metadata": {
    "id": "6dDA2ECfV2AP"
   },
   "outputs": [],
   "source": [
    "# adding column \n",
    "data_small['mean_value']=data_small[['bp_large','roe_large','sp_large']].mean(axis=1)"
   ]
  },
  {
   "cell_type": "code",
   "execution_count": null,
   "metadata": {
    "id": "xLj1khKzV3v6"
   },
   "outputs": [],
   "source": [
    "data_small.head()"
   ]
  },
  {
   "cell_type": "code",
   "execution_count": null,
   "metadata": {
    "id": "dIwnRpPoV5eS"
   },
   "outputs": [],
   "source": [
    "# adding row \n",
    "data_small.loc['median_value']=data_small.median(axis=0)"
   ]
  },
  {
   "cell_type": "code",
   "execution_count": null,
   "metadata": {
    "id": "6B_TrZ_UWGXs"
   },
   "outputs": [],
   "source": [
    "data_small.tail()"
   ]
  },
  {
   "cell_type": "markdown",
   "metadata": {
    "id": "Uq7g-XPTa4AL"
   },
   "source": [
    "### pd.dataframe.apply"
   ]
  },
  {
   "cell_type": "code",
   "execution_count": null,
   "metadata": {
    "id": "QJXZth4Wa8MW"
   },
   "outputs": [],
   "source": [
    "# apply pre-define function\n",
    "data_small.apply(np.log).head()     # all values "
   ]
  },
  {
   "cell_type": "code",
   "execution_count": null,
   "metadata": {
    "id": "K4uxda3ZdPw9"
   },
   "outputs": [],
   "source": [
    "# user define function \n",
    "def my_magic_function(value,custom_value):\n",
    "  if round(value,3)>0.134:\n",
    "    return custom_value\n",
    "  else: return value\n",
    "\n",
    "# apply \n",
    "data_small.mean_value.apply(my_magic_function,convert_dtype=True,args=(-1,)).tail()"
   ]
  },
  {
   "cell_type": "markdown",
   "metadata": {
    "id": "jK3dPSgTfdqh"
   },
   "source": [
    "### data normalization "
   ]
  },
  {
   "cell_type": "code",
   "execution_count": 55,
   "metadata": {
    "executionInfo": {
     "elapsed": 1259,
     "status": "ok",
     "timestamp": 1623514966314,
     "user": {
      "displayName": "Clash Clans",
      "photoUrl": "",
      "userId": "00562530571182710236"
     },
     "user_tz": -330
    },
    "id": "bHkhR-bBeRsE"
   },
   "outputs": [],
   "source": [
    "# import function \n",
    "from sklearn.preprocessing import normalize\n",
    "# doc -> https://scikit-learn.org/stable/modules/generated/sklearn.preprocessing.Normalizer.html#sklearn.preprocessing.Normalizer\n",
    "# axis -> # 0:column; 1:rows \n",
    "# l1 -> value/sum(respective row or column) --> norm_value -> sum axis wise\n",
    "# l2 -> value/sqrt(sum of square of each element wise of respective row or column))  --> norm_value -> square_root(sum(axis wise element square))\n",
    "# 'max' -> value/max(respective row or column) --> norm_value -> maximum value of axis "
   ]
  },
  {
   "cell_type": "code",
   "execution_count": 56,
   "metadata": {
    "colab": {
     "base_uri": "https://localhost:8080/"
    },
    "executionInfo": {
     "elapsed": 501,
     "status": "ok",
     "timestamp": 1623514968452,
     "user": {
      "displayName": "Clash Clans",
      "photoUrl": "",
      "userId": "00562530571182710236"
     },
     "user_tz": -330
    },
    "id": "tOZnV70onMSi",
    "outputId": "fe78f3e0-cee0-4af5-f049-3a2a078b7913"
   },
   "outputs": [
    {
     "name": "stdout",
     "output_type": "stream",
     "text": [
      "[[0 1 2]\n",
      " [3 4 5]\n",
      " [6 7 8]]\n",
      "--x----x----x----x----x----x----x----x----x----x----x----x----x----x----x----x----x----x----x----x----x----x----x----x----x----x----x----x----x----x--\n",
      "[6.70820393 8.1240384  9.64365076]\n",
      "--x----x----x----x----x----x----x----x----x----x----x----x----x----x----x----x----x----x----x----x----x----x----x----x----x----x----x----x----x----x--\n"
     ]
    },
    {
     "data": {
      "text/plain": [
       "array([[0.        , 0.12309149, 0.20739034],\n",
       "       [0.4472136 , 0.49236596, 0.51847585],\n",
       "       [0.89442719, 0.86164044, 0.82956136]])"
      ]
     },
     "execution_count": 56,
     "metadata": {
      "tags": []
     },
     "output_type": "execute_result"
    }
   ],
   "source": [
    "# Smaple example ---\n",
    "sample_matrix=np.arange(0,9).reshape(3,3)\n",
    "print(sample_matrix,'\\n','--x--'*30,sep='')\n",
    "norm_sample_matrix,norms=normalize(sample_matrix,norm='l2',axis=0,copy=True,return_norm=True)\n",
    "print(norms)\n",
    "print('--x--'*30)\n",
    "norm_sample_matrix"
   ]
  },
  {
   "cell_type": "code",
   "execution_count": 62,
   "metadata": {
    "colab": {
     "base_uri": "https://localhost:8080/",
     "height": 422
    },
    "executionInfo": {
     "elapsed": 401,
     "status": "ok",
     "timestamp": 1623515241269,
     "user": {
      "displayName": "Clash Clans",
      "photoUrl": "",
      "userId": "00562530571182710236"
     },
     "user_tz": -330
    },
    "id": "aficLKohCXak",
    "outputId": "4119f4d8-2154-40d4-ba84-1cb7a7934c50"
   },
   "outputs": [
    {
     "data": {
      "text/html": [
       "<div>\n",
       "<style scoped>\n",
       "    .dataframe tbody tr th:only-of-type {\n",
       "        vertical-align: middle;\n",
       "    }\n",
       "\n",
       "    .dataframe tbody tr th {\n",
       "        vertical-align: top;\n",
       "    }\n",
       "\n",
       "    .dataframe thead th {\n",
       "        text-align: right;\n",
       "    }\n",
       "</style>\n",
       "<table border=\"1\" class=\"dataframe\">\n",
       "  <thead>\n",
       "    <tr style=\"text-align: right;\">\n",
       "      <th></th>\n",
       "      <th>bp_large</th>\n",
       "      <th>roe_large</th>\n",
       "      <th>sp_large</th>\n",
       "      <th>ror_large_last_quarter</th>\n",
       "      <th>mv_large</th>\n",
       "      <th>systematic_risk_small</th>\n",
       "    </tr>\n",
       "  </thead>\n",
       "  <tbody>\n",
       "    <tr>\n",
       "      <th>0</th>\n",
       "      <td>1.000</td>\n",
       "      <td>0.000</td>\n",
       "      <td>0.000</td>\n",
       "      <td>0.000</td>\n",
       "      <td>0.000</td>\n",
       "      <td>0.000</td>\n",
       "    </tr>\n",
       "    <tr>\n",
       "      <th>1</th>\n",
       "      <td>0.000</td>\n",
       "      <td>1.000</td>\n",
       "      <td>0.000</td>\n",
       "      <td>0.000</td>\n",
       "      <td>0.000</td>\n",
       "      <td>0.000</td>\n",
       "    </tr>\n",
       "    <tr>\n",
       "      <th>2</th>\n",
       "      <td>0.000</td>\n",
       "      <td>0.000</td>\n",
       "      <td>1.000</td>\n",
       "      <td>0.000</td>\n",
       "      <td>0.000</td>\n",
       "      <td>0.000</td>\n",
       "    </tr>\n",
       "    <tr>\n",
       "      <th>3</th>\n",
       "      <td>0.000</td>\n",
       "      <td>0.000</td>\n",
       "      <td>0.000</td>\n",
       "      <td>1.000</td>\n",
       "      <td>0.000</td>\n",
       "      <td>0.000</td>\n",
       "    </tr>\n",
       "    <tr>\n",
       "      <th>4</th>\n",
       "      <td>0.000</td>\n",
       "      <td>0.000</td>\n",
       "      <td>0.000</td>\n",
       "      <td>0.000</td>\n",
       "      <td>1.000</td>\n",
       "      <td>0.000</td>\n",
       "    </tr>\n",
       "    <tr>\n",
       "      <th>...</th>\n",
       "      <td>...</td>\n",
       "      <td>...</td>\n",
       "      <td>...</td>\n",
       "      <td>...</td>\n",
       "      <td>...</td>\n",
       "      <td>...</td>\n",
       "    </tr>\n",
       "    <tr>\n",
       "      <th>58</th>\n",
       "      <td>0.200</td>\n",
       "      <td>0.200</td>\n",
       "      <td>0.200</td>\n",
       "      <td>0.000</td>\n",
       "      <td>0.200</td>\n",
       "      <td>0.200</td>\n",
       "    </tr>\n",
       "    <tr>\n",
       "      <th>59</th>\n",
       "      <td>0.200</td>\n",
       "      <td>0.200</td>\n",
       "      <td>0.000</td>\n",
       "      <td>0.200</td>\n",
       "      <td>0.200</td>\n",
       "      <td>0.200</td>\n",
       "    </tr>\n",
       "    <tr>\n",
       "      <th>60</th>\n",
       "      <td>0.200</td>\n",
       "      <td>0.000</td>\n",
       "      <td>0.200</td>\n",
       "      <td>0.200</td>\n",
       "      <td>0.200</td>\n",
       "      <td>0.200</td>\n",
       "    </tr>\n",
       "    <tr>\n",
       "      <th>61</th>\n",
       "      <td>0.000</td>\n",
       "      <td>0.200</td>\n",
       "      <td>0.200</td>\n",
       "      <td>0.200</td>\n",
       "      <td>0.200</td>\n",
       "      <td>0.200</td>\n",
       "    </tr>\n",
       "    <tr>\n",
       "      <th>62</th>\n",
       "      <td>0.167</td>\n",
       "      <td>0.167</td>\n",
       "      <td>0.167</td>\n",
       "      <td>0.167</td>\n",
       "      <td>0.167</td>\n",
       "      <td>0.167</td>\n",
       "    </tr>\n",
       "  </tbody>\n",
       "</table>\n",
       "<p>63 rows × 6 columns</p>\n",
       "</div>"
      ],
      "text/plain": [
       "    bp_large  roe_large  ...  mv_large  systematic_risk_small\n",
       "0      1.000      0.000  ...     0.000                  0.000\n",
       "1      0.000      1.000  ...     0.000                  0.000\n",
       "2      0.000      0.000  ...     0.000                  0.000\n",
       "3      0.000      0.000  ...     0.000                  0.000\n",
       "4      0.000      0.000  ...     1.000                  0.000\n",
       "..       ...        ...  ...       ...                    ...\n",
       "58     0.200      0.200  ...     0.200                  0.200\n",
       "59     0.200      0.200  ...     0.200                  0.200\n",
       "60     0.200      0.000  ...     0.200                  0.200\n",
       "61     0.000      0.200  ...     0.200                  0.200\n",
       "62     0.167      0.167  ...     0.167                  0.167\n",
       "\n",
       "[63 rows x 6 columns]"
      ]
     },
     "execution_count": 62,
     "metadata": {
      "tags": []
     },
     "output_type": "execute_result"
    }
   ],
   "source": [
    "data_small=data[data.columns[1:7]]\n",
    "data_small"
   ]
  },
  {
   "cell_type": "code",
   "execution_count": 63,
   "metadata": {
    "colab": {
     "base_uri": "https://localhost:8080/",
     "height": 205
    },
    "executionInfo": {
     "elapsed": 425,
     "status": "ok",
     "timestamp": 1623515256797,
     "user": {
      "displayName": "Clash Clans",
      "photoUrl": "",
      "userId": "00562530571182710236"
     },
     "user_tz": -330
    },
    "id": "CUMVSZtx1UZI",
    "outputId": "ee6304dc-13c5-4618-b3ec-9ef5306a02d9"
   },
   "outputs": [
    {
     "data": {
      "text/html": [
       "<div>\n",
       "<style scoped>\n",
       "    .dataframe tbody tr th:only-of-type {\n",
       "        vertical-align: middle;\n",
       "    }\n",
       "\n",
       "    .dataframe tbody tr th {\n",
       "        vertical-align: top;\n",
       "    }\n",
       "\n",
       "    .dataframe thead th {\n",
       "        text-align: right;\n",
       "    }\n",
       "</style>\n",
       "<table border=\"1\" class=\"dataframe\">\n",
       "  <thead>\n",
       "    <tr style=\"text-align: right;\">\n",
       "      <th></th>\n",
       "      <th>roe_large</th>\n",
       "      <th>sp_large</th>\n",
       "      <th>ror_large_last_quarter</th>\n",
       "      <th>mv_large</th>\n",
       "      <th>systematic_risk_small</th>\n",
       "    </tr>\n",
       "  </thead>\n",
       "  <tbody>\n",
       "    <tr>\n",
       "      <th>0</th>\n",
       "      <td>0.000000</td>\n",
       "      <td>0.000000</td>\n",
       "      <td>0.000000</td>\n",
       "      <td>0.000000</td>\n",
       "      <td>0.0</td>\n",
       "    </tr>\n",
       "    <tr>\n",
       "      <th>1</th>\n",
       "      <td>0.487267</td>\n",
       "      <td>0.000000</td>\n",
       "      <td>0.000000</td>\n",
       "      <td>0.000000</td>\n",
       "      <td>0.0</td>\n",
       "    </tr>\n",
       "    <tr>\n",
       "      <th>2</th>\n",
       "      <td>0.000000</td>\n",
       "      <td>0.487267</td>\n",
       "      <td>0.000000</td>\n",
       "      <td>0.000000</td>\n",
       "      <td>0.0</td>\n",
       "    </tr>\n",
       "    <tr>\n",
       "      <th>3</th>\n",
       "      <td>0.000000</td>\n",
       "      <td>0.000000</td>\n",
       "      <td>0.487267</td>\n",
       "      <td>0.000000</td>\n",
       "      <td>0.0</td>\n",
       "    </tr>\n",
       "    <tr>\n",
       "      <th>4</th>\n",
       "      <td>0.000000</td>\n",
       "      <td>0.000000</td>\n",
       "      <td>0.000000</td>\n",
       "      <td>0.487267</td>\n",
       "      <td>0.0</td>\n",
       "    </tr>\n",
       "  </tbody>\n",
       "</table>\n",
       "</div>"
      ],
      "text/plain": [
       "   roe_large  sp_large  ror_large_last_quarter  mv_large  systematic_risk_small\n",
       "0   0.000000  0.000000                0.000000  0.000000                    0.0\n",
       "1   0.487267  0.000000                0.000000  0.000000                    0.0\n",
       "2   0.000000  0.487267                0.000000  0.000000                    0.0\n",
       "3   0.000000  0.000000                0.487267  0.000000                    0.0\n",
       "4   0.000000  0.000000                0.000000  0.487267                    0.0"
      ]
     },
     "execution_count": 63,
     "metadata": {
      "tags": []
     },
     "output_type": "execute_result"
    }
   ],
   "source": [
    "# Method 1 - direct \n",
    "data_small_norm_matrix,_=normalize(data_small[data_small.columns[1:]].values,norm='l2',axis=0,copy=True,return_norm=True)\n",
    "data_small_norm=pd.DataFrame(data=data_small_norm_matrix,index=None,columns=data_small.columns[1:],\n",
    "                             dtype=None,copy=True)\n",
    "#data_small_norm['id']=data_small.id\n",
    "data_small_norm.head()"
   ]
  },
  {
   "cell_type": "code",
   "execution_count": 64,
   "metadata": {
    "executionInfo": {
     "elapsed": 473,
     "status": "ok",
     "timestamp": 1623515278121,
     "user": {
      "displayName": "Clash Clans",
      "photoUrl": "",
      "userId": "00562530571182710236"
     },
     "user_tz": -330
    },
    "id": "wSv1dkdtCxF3"
   },
   "outputs": [],
   "source": [
    "# data x\n",
    "x=data_small_norm.to_numpy()"
   ]
  },
  {
   "cell_type": "code",
   "execution_count": 65,
   "metadata": {
    "executionInfo": {
     "elapsed": 9,
     "status": "ok",
     "timestamp": 1623515345509,
     "user": {
      "displayName": "Clash Clans",
      "photoUrl": "",
      "userId": "00562530571182710236"
     },
     "user_tz": -330
    },
    "id": "piy0FRteDTk5"
   },
   "outputs": [],
   "source": [
    "# label y\n",
    "y=data.annual_return_norm.to_numpy()"
   ]
  },
  {
   "cell_type": "code",
   "execution_count": 69,
   "metadata": {
    "executionInfo": {
     "elapsed": 417,
     "status": "ok",
     "timestamp": 1623515656490,
     "user": {
      "displayName": "Clash Clans",
      "photoUrl": "",
      "userId": "00562530571182710236"
     },
     "user_tz": -330
    },
    "id": "xzqraX4qDn13"
   },
   "outputs": [],
   "source": [
    "from sklearn.model_selection import train_test_split\n",
    "\n",
    "x_train,x_test,y_train,y_test=train_test_split(x,y,test_size=0.1)"
   ]
  },
  {
   "cell_type": "code",
   "execution_count": 71,
   "metadata": {
    "executionInfo": {
     "elapsed": 406,
     "status": "ok",
     "timestamp": 1623515751545,
     "user": {
      "displayName": "Clash Clans",
      "photoUrl": "",
      "userId": "00562530571182710236"
     },
     "user_tz": -330
    },
    "id": "xwv39r6oEvmr"
   },
   "outputs": [],
   "source": [
    "from sklearn.linear_model import LinearRegression\n",
    "\n",
    "reg=LinearRegression()"
   ]
  },
  {
   "cell_type": "code",
   "execution_count": 72,
   "metadata": {
    "colab": {
     "base_uri": "https://localhost:8080/"
    },
    "executionInfo": {
     "elapsed": 436,
     "status": "ok",
     "timestamp": 1623515793003,
     "user": {
      "displayName": "Clash Clans",
      "photoUrl": "",
      "userId": "00562530571182710236"
     },
     "user_tz": -330
    },
    "id": "N3-iemyvFGjc",
    "outputId": "98cad86f-167d-4b20-8a5f-2ad5cff91c80"
   },
   "outputs": [
    {
     "data": {
      "text/plain": [
       "LinearRegression(copy_X=True, fit_intercept=True, n_jobs=None, normalize=False)"
      ]
     },
     "execution_count": 72,
     "metadata": {
      "tags": []
     },
     "output_type": "execute_result"
    }
   ],
   "source": [
    "reg.fit(x_train,y_train)"
   ]
  },
  {
   "cell_type": "code",
   "execution_count": 74,
   "metadata": {
    "executionInfo": {
     "elapsed": 424,
     "status": "ok",
     "timestamp": 1623515833571,
     "user": {
      "displayName": "Clash Clans",
      "photoUrl": "",
      "userId": "00562530571182710236"
     },
     "user_tz": -330
    },
    "id": "OZSLB2-DFRI8"
   },
   "outputs": [],
   "source": [
    "y_pred=reg.predict(x_test)"
   ]
  },
  {
   "cell_type": "code",
   "execution_count": 77,
   "metadata": {
    "colab": {
     "base_uri": "https://localhost:8080/"
    },
    "executionInfo": {
     "elapsed": 487,
     "status": "ok",
     "timestamp": 1623515912617,
     "user": {
      "displayName": "Clash Clans",
      "photoUrl": "",
      "userId": "00562530571182710236"
     },
     "user_tz": -330
    },
    "id": "g0zeuizXFqcX",
    "outputId": "ec319a13-0ec2-4e96-ce61-9cd6d6367a51"
   },
   "outputs": [
    {
     "data": {
      "text/plain": [
       "(array([0.55046766, 0.48970155, 0.64257627, 0.64889429, 0.43820467,\n",
       "        0.60185568, 0.57948087]),\n",
       " array([0.55911677, 0.5332737 , 0.64021539, 0.7229442 , 0.43566399,\n",
       "        0.57961118, 0.60937582]))"
      ]
     },
     "execution_count": 77,
     "metadata": {
      "tags": []
     },
     "output_type": "execute_result"
    }
   ],
   "source": [
    "y_pred,y_test"
   ]
  },
  {
   "cell_type": "code",
   "execution_count": 78,
   "metadata": {
    "colab": {
     "base_uri": "https://localhost:8080/"
    },
    "executionInfo": {
     "elapsed": 475,
     "status": "ok",
     "timestamp": 1623516041645,
     "user": {
      "displayName": "Clash Clans",
      "photoUrl": "",
      "userId": "00562530571182710236"
     },
     "user_tz": -330
    },
    "id": "j-uFOExiFa4G",
    "outputId": "2b332326-62e7-442b-ed45-a1310097befd"
   },
   "outputs": [
    {
     "data": {
      "text/plain": [
       "0.008857282211017461"
      ]
     },
     "execution_count": 78,
     "metadata": {
      "tags": []
     },
     "output_type": "execute_result"
    }
   ],
   "source": [
    "sum((y_pred-y_test)**2)"
   ]
  },
  {
   "cell_type": "code",
   "execution_count": null,
   "metadata": {
    "id": "DsYTID6oGRtF"
   },
   "outputs": [],
   "source": []
  },
  {
   "cell_type": "code",
   "execution_count": null,
   "metadata": {
    "id": "LmtqcpU1RxyE"
   },
   "outputs": [],
   "source": [
    "# re-arrange columns \n",
    "re_columns=list(data_small_norm.columns)\n",
    "# -Method -1 \n",
    "re_columns=re_columns[-1:]+re_columns[:-1]\n",
    "# -Method -2\n",
    "#re_columns.insert(0,re_columns.pop())\n",
    "print(re_columns)\n",
    "data_small_norm=data_small_norm[re_columns]\n",
    "data_small_norm.head()"
   ]
  }
 ],
 "metadata": {
  "colab": {
   "authorship_tag": "ABX9TyOMOfLaFPnES1wwqa4BJkGg",
   "collapsed_sections": [
    "Wnd0P_jdykUp",
    "Lyc9v-jxy00N",
    "w_NdXyQZzVIp",
    "x1nBmA35zdzY",
    "ARJvKRl3JsI2",
    "NdGxyk--Oh8N",
    "WXniqy_xStqB",
    "3u7ucTI1WqOD"
   ],
   "name": "day_1_data_analysis_stock_portfolio.ipynb",
   "provenance": []
  },
  "kernelspec": {
   "display_name": "Python 3",
   "language": "python",
   "name": "python3"
  },
  "language_info": {
   "codemirror_mode": {
    "name": "ipython",
    "version": 3
   },
   "file_extension": ".py",
   "mimetype": "text/x-python",
   "name": "python",
   "nbconvert_exporter": "python",
   "pygments_lexer": "ipython3",
   "version": "3.8.3"
  },
  "toc": {
   "base_numbering": 1,
   "nav_menu": {},
   "number_sections": true,
   "sideBar": true,
   "skip_h1_title": false,
   "title_cell": "Table of Contents",
   "title_sidebar": "Contents",
   "toc_cell": false,
   "toc_position": {},
   "toc_section_display": true,
   "toc_window_display": false
  }
 },
 "nbformat": 4,
 "nbformat_minor": 1
}
