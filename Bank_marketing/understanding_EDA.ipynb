{
 "cells": [
  {
   "cell_type": "markdown",
   "metadata": {
    "id": "BDR-6t_fBzbY"
   },
   "source": [
    "# Bank marketing"
   ]
  },
  {
   "cell_type": "code",
   "execution_count": 2,
   "metadata": {
    "colab": {
     "base_uri": "https://localhost:8080/"
    },
    "executionInfo": {
     "elapsed": 1858,
     "status": "ok",
     "timestamp": 1625305701205,
     "user": {
      "displayName": "Clash Clans",
      "photoUrl": "",
      "userId": "00562530571182710236"
     },
     "user_tz": -330
    },
    "id": "gC1HMHhLyX5g",
    "outputId": "c5f223a4-a3a8-49ca-912b-ce4e2caad0e3"
   },
   "outputs": [
    {
     "name": "stdout",
     "output_type": "stream",
     "text": [
      "Python 3.7.10\n",
      "numpy version: 1.19.5\n",
      "pandas version:  1.1.5\n",
      "pyplot:  <module 'matplotlib.pyplot' from '/usr/local/lib/python3.7/dist-packages/matplotlib/pyplot.py'>\n"
     ]
    }
   ],
   "source": [
    "!python --version   # Python version\n",
    "\n",
    "# About python:  https://www.python.org/\n",
    "#                Python is powerful... and fast; plays well with others; runs everywhere; is friendly & easy to learn; \n",
    "#                is Open –> https://www.python.org/about/.\n",
    "#     Python docs: https://docs.python.org/3/ (all documentation); \n",
    "#                  https://docs.python.org/3.7/ (Recommended version – 3.7). \n",
    "# The Python Tutorial (python3.7): https://docs.python.org/3.7/tutorial/index.html \n",
    "\n",
    "# Load Module ---\n",
    "import numpy as np, pandas as pd, matplotlib.pyplot as plt, seaborn as sns \n",
    "# NumPy : The fundamental package for scientific computing with Python. NumPy is the fundamental package for scientific \n",
    "#         computing in Python. It is a Python library that provides a multidimensional array object, various derived \n",
    "#         objects (such as masked arrays and matrices), and an assortment of routines for fast operations on arrays, \n",
    "#         including mathematical, logical, shape manipulation, sorting, selecting, I/O, discrete Fourier transforms,\n",
    "#         basic linear algebra, basic statistical operations, random simulation and much more.\n",
    "#     About: https://numpy.org/\n",
    "#     Docs: https://numpy.org/doc/stable/\n",
    "#     NumPy quickstart: https://numpy.org/doc/stable/user/quickstart.html\n",
    "\n",
    "# Pandas: pandas is a fast, powerful, flexible and easy to use open source data analysis and manipulation tool, \n",
    "#         built on top of the Python programming language.\n",
    "#     About: https://pandas.pydata.org/ \n",
    "#     Docs: https://pandas.pydata.org/docs/ \n",
    "#     Getting started: https://pandas.pydata.org/docs/getting_started/index.html \n",
    "#     User Guide: https://pandas.pydata.org/docs/user_guide/index.html#user-guide \n",
    "\n",
    "# Seaborn: Seaborn is a Python data visualization library based on matplotlib. It provides a \n",
    "#          high-level interface for drawing attractive and informative statistical graphics.\n",
    "#   About: https://seaborn.pydata.org/\n",
    "\n",
    "print('numpy version:',np.__version__)\n",
    "print('pandas version: ',pd.__version__)\n",
    "print('pyplot: ',plt)"
   ]
  },
  {
   "cell_type": "markdown",
   "metadata": {
    "id": "p_9xvsa9eF-K"
   },
   "source": [
    "# Numpy and pandas warmup\n",
    "\n",
    "Gentle Introduction"
   ]
  },
  {
   "cell_type": "code",
   "execution_count": 3,
   "metadata": {
    "colab": {
     "base_uri": "https://localhost:8080/"
    },
    "executionInfo": {
     "elapsed": 23,
     "status": "ok",
     "timestamp": 1625305701618,
     "user": {
      "displayName": "Clash Clans",
      "photoUrl": "",
      "userId": "00562530571182710236"
     },
     "user_tz": -330
    },
    "id": "ziRto9qceMJR",
    "outputId": "d6674773-d195-4342-e5de-bf2de7aacc4e"
   },
   "outputs": [
    {
     "name": "stdout",
     "output_type": "stream",
     "text": [
      "one_d_data: [0.32843148 0.2572863  0.06900206 0.7274129  0.22219525 0.11927003]\n"
     ]
    },
    {
     "data": {
      "text/plain": [
       "0    0.328431\n",
       "1    0.257286\n",
       "2    0.069002\n",
       "3    0.727413\n",
       "4    0.222195\n",
       "5    0.119270\n",
       "dtype: float64"
      ]
     },
     "execution_count": 3,
     "metadata": {
      "tags": []
     },
     "output_type": "execute_result"
    }
   ],
   "source": [
    "# Genrate one dimension data - Series\n",
    "one_d_data=np.random.rand(6) #  uniform distribution (in the range [0,1))\n",
    "print('one_d_data:', one_d_data)\n",
    "# pandas series\n",
    "pd_series=pd.Series(data=one_d_data,index=None,dtype=None,name=None,copy=False)\n",
    "pd_series"
   ]
  },
  {
   "cell_type": "code",
   "execution_count": 4,
   "metadata": {
    "colab": {
     "base_uri": "https://localhost:8080/"
    },
    "executionInfo": {
     "elapsed": 22,
     "status": "ok",
     "timestamp": 1625305701620,
     "user": {
      "displayName": "Clash Clans",
      "photoUrl": "",
      "userId": "00562530571182710236"
     },
     "user_tz": -330
    },
    "id": "kYWxg6-wg7Yk",
    "outputId": "51f6506f-9896-4bab-ca07-ab85aba0c8e9"
   },
   "outputs": [
    {
     "name": "stdout",
     "output_type": "stream",
     "text": [
      "two_d_data:\n",
      "[[ 0.10903124  2.12054635 -0.11459846 -0.8588045  -0.34590807 -0.61463625]\n",
      " [-1.19586721  0.56807744 -0.57231223 -1.54066807 -0.30709952 -0.00937328]\n",
      " [ 1.15989455 -0.55233931  0.61876943  0.83913842 -0.12178352  0.5238981 ]\n",
      " [-0.03553352 -0.02469795 -1.6716551  -0.16321495 -0.43621324  0.81949363]\n",
      " [-0.32693587 -0.2758125  -0.51009775 -0.02489122 -2.50190841 -0.56230809]\n",
      " [ 1.95243549 -0.24606238  0.71224015  0.86837006 -0.41210236  0.01181613]\n",
      " [ 0.09271792 -0.63450493  1.24464358  0.44978894 -0.63054863  0.19322631]\n",
      " [ 1.73492561 -1.45541054 -0.8478252  -0.09810979 -0.70892315 -0.18739473]\n",
      " [-2.11304675 -0.34175897 -1.37821722  1.05313978  0.36221381 -0.28208996]\n",
      " [ 1.92986196  0.49774263  1.14056928 -0.18688822 -0.51460632 -0.40690427]\n",
      " [ 0.86918388  0.59216897  1.8061643   0.48561481  1.01547265 -0.56774653]]\n"
     ]
    }
   ],
   "source": [
    "# Genrate two dimension data - dataframe (rows and columns)\n",
    "two_d_data=np.random.randn(11,6) # normal distribution (random variable with a Gaussian distribution)\n",
    "print('two_d_data:\\n',two_d_data,sep='')"
   ]
  },
  {
   "cell_type": "code",
   "execution_count": 5,
   "metadata": {
    "colab": {
     "base_uri": "https://localhost:8080/",
     "height": 0
    },
    "executionInfo": {
     "elapsed": 23,
     "status": "ok",
     "timestamp": 1625305701622,
     "user": {
      "displayName": "Clash Clans",
      "photoUrl": "",
      "userId": "00562530571182710236"
     },
     "user_tz": -330
    },
    "id": "3Ej1sa8djreH",
    "outputId": "88a97248-1f1c-4ca4-9e7c-75acc51a0a02"
   },
   "outputs": [
    {
     "data": {
      "text/html": [
       "<div>\n",
       "<style scoped>\n",
       "    .dataframe tbody tr th:only-of-type {\n",
       "        vertical-align: middle;\n",
       "    }\n",
       "\n",
       "    .dataframe tbody tr th {\n",
       "        vertical-align: top;\n",
       "    }\n",
       "\n",
       "    .dataframe thead th {\n",
       "        text-align: right;\n",
       "    }\n",
       "</style>\n",
       "<table border=\"1\" class=\"dataframe\">\n",
       "  <thead>\n",
       "    <tr style=\"text-align: right;\">\n",
       "      <th></th>\n",
       "      <th>0</th>\n",
       "      <th>1</th>\n",
       "      <th>2</th>\n",
       "      <th>3</th>\n",
       "      <th>4</th>\n",
       "      <th>5</th>\n",
       "    </tr>\n",
       "  </thead>\n",
       "  <tbody>\n",
       "    <tr>\n",
       "      <th>a</th>\n",
       "      <td>0.109031</td>\n",
       "      <td>2.120546</td>\n",
       "      <td>-0.114598</td>\n",
       "      <td>-0.858805</td>\n",
       "      <td>-0.345908</td>\n",
       "      <td>-0.614636</td>\n",
       "    </tr>\n",
       "    <tr>\n",
       "      <th>b</th>\n",
       "      <td>-1.195867</td>\n",
       "      <td>0.568077</td>\n",
       "      <td>-0.572312</td>\n",
       "      <td>-1.540668</td>\n",
       "      <td>-0.307100</td>\n",
       "      <td>-0.009373</td>\n",
       "    </tr>\n",
       "    <tr>\n",
       "      <th>c</th>\n",
       "      <td>1.159895</td>\n",
       "      <td>-0.552339</td>\n",
       "      <td>0.618769</td>\n",
       "      <td>0.839138</td>\n",
       "      <td>-0.121784</td>\n",
       "      <td>0.523898</td>\n",
       "    </tr>\n",
       "    <tr>\n",
       "      <th>d</th>\n",
       "      <td>-0.035534</td>\n",
       "      <td>-0.024698</td>\n",
       "      <td>-1.671655</td>\n",
       "      <td>-0.163215</td>\n",
       "      <td>-0.436213</td>\n",
       "      <td>0.819494</td>\n",
       "    </tr>\n",
       "    <tr>\n",
       "      <th>e</th>\n",
       "      <td>-0.326936</td>\n",
       "      <td>-0.275812</td>\n",
       "      <td>-0.510098</td>\n",
       "      <td>-0.024891</td>\n",
       "      <td>-2.501908</td>\n",
       "      <td>-0.562308</td>\n",
       "    </tr>\n",
       "  </tbody>\n",
       "</table>\n",
       "</div>"
      ],
      "text/plain": [
       "          0         1         2         3         4         5\n",
       "a  0.109031  2.120546 -0.114598 -0.858805 -0.345908 -0.614636\n",
       "b -1.195867  0.568077 -0.572312 -1.540668 -0.307100 -0.009373\n",
       "c  1.159895 -0.552339  0.618769  0.839138 -0.121784  0.523898\n",
       "d -0.035534 -0.024698 -1.671655 -0.163215 -0.436213  0.819494\n",
       "e -0.326936 -0.275812 -0.510098 -0.024891 -2.501908 -0.562308"
      ]
     },
     "execution_count": 5,
     "metadata": {
      "tags": []
     },
     "output_type": "execute_result"
    }
   ],
   "source": [
    "# pandas dataframe \n",
    "pd_dataframe=pd.DataFrame(data=two_d_data,index=['a','b','c','d','e',1,2,3,4,5,6],columns=range(6),\n",
    "                          dtype=None,copy=False)\n",
    "pd_dataframe.head() # returns top five values"
   ]
  },
  {
   "cell_type": "code",
   "execution_count": 6,
   "metadata": {
    "colab": {
     "base_uri": "https://localhost:8080/",
     "height": 0
    },
    "executionInfo": {
     "elapsed": 1717,
     "status": "ok",
     "timestamp": 1625305703317,
     "user": {
      "displayName": "Clash Clans",
      "photoUrl": "",
      "userId": "00562530571182710236"
     },
     "user_tz": -330
    },
    "id": "g6H9uk6DjwcG",
    "outputId": "c544d1db-838f-46ef-9be4-a0a3d562891c"
   },
   "outputs": [
    {
     "data": {
      "text/html": [
       "<div>\n",
       "<style scoped>\n",
       "    .dataframe tbody tr th:only-of-type {\n",
       "        vertical-align: middle;\n",
       "    }\n",
       "\n",
       "    .dataframe tbody tr th {\n",
       "        vertical-align: top;\n",
       "    }\n",
       "\n",
       "    .dataframe thead th {\n",
       "        text-align: right;\n",
       "    }\n",
       "</style>\n",
       "<table border=\"1\" class=\"dataframe\">\n",
       "  <thead>\n",
       "    <tr style=\"text-align: right;\">\n",
       "      <th></th>\n",
       "      <th>0</th>\n",
       "      <th>1</th>\n",
       "      <th>2</th>\n",
       "      <th>3</th>\n",
       "      <th>4</th>\n",
       "      <th>5</th>\n",
       "    </tr>\n",
       "  </thead>\n",
       "  <tbody>\n",
       "    <tr>\n",
       "      <th>4</th>\n",
       "      <td>-2.113047</td>\n",
       "      <td>-0.341759</td>\n",
       "      <td>-1.378217</td>\n",
       "      <td>1.053140</td>\n",
       "      <td>0.362214</td>\n",
       "      <td>-0.282090</td>\n",
       "    </tr>\n",
       "    <tr>\n",
       "      <th>5</th>\n",
       "      <td>1.929862</td>\n",
       "      <td>0.497743</td>\n",
       "      <td>1.140569</td>\n",
       "      <td>-0.186888</td>\n",
       "      <td>-0.514606</td>\n",
       "      <td>-0.406904</td>\n",
       "    </tr>\n",
       "    <tr>\n",
       "      <th>6</th>\n",
       "      <td>0.869184</td>\n",
       "      <td>0.592169</td>\n",
       "      <td>1.806164</td>\n",
       "      <td>0.485615</td>\n",
       "      <td>1.015473</td>\n",
       "      <td>-0.567747</td>\n",
       "    </tr>\n",
       "  </tbody>\n",
       "</table>\n",
       "</div>"
      ],
      "text/plain": [
       "          0         1         2         3         4         5\n",
       "4 -2.113047 -0.341759 -1.378217  1.053140  0.362214 -0.282090\n",
       "5  1.929862  0.497743  1.140569 -0.186888 -0.514606 -0.406904\n",
       "6  0.869184  0.592169  1.806164  0.485615  1.015473 -0.567747"
      ]
     },
     "execution_count": 6,
     "metadata": {
      "tags": []
     },
     "output_type": "execute_result"
    }
   ],
   "source": [
    "pd_dataframe.tail(3) # returns bottom three values"
   ]
  },
  {
   "cell_type": "code",
   "execution_count": 7,
   "metadata": {
    "colab": {
     "base_uri": "https://localhost:8080/"
    },
    "executionInfo": {
     "elapsed": 1748,
     "status": "ok",
     "timestamp": 1625305703351,
     "user": {
      "displayName": "Clash Clans",
      "photoUrl": "",
      "userId": "00562530571182710236"
     },
     "user_tz": -330
    },
    "id": "kStOeGigj649",
    "outputId": "ab9c776c-8eb2-4a84-ee9c-341650bd5289"
   },
   "outputs": [
    {
     "name": "stdout",
     "output_type": "stream",
     "text": [
      "<class 'pandas.core.frame.DataFrame'>\n",
      "Index: 11 entries, a to 6\n",
      "Data columns (total 6 columns):\n",
      " #   Column  Non-Null Count  Dtype  \n",
      "---  ------  --------------  -----  \n",
      " 0   0       11 non-null     float64\n",
      " 1   1       11 non-null     float64\n",
      " 2   2       11 non-null     float64\n",
      " 3   3       11 non-null     float64\n",
      " 4   4       11 non-null     float64\n",
      " 5   5       11 non-null     float64\n",
      "dtypes: float64(6)\n",
      "memory usage: 616.0+ bytes\n"
     ]
    }
   ],
   "source": [
    "# Info\n",
    "pd_dataframe.info()"
   ]
  },
  {
   "cell_type": "code",
   "execution_count": 8,
   "metadata": {
    "colab": {
     "base_uri": "https://localhost:8080/",
     "height": 0
    },
    "executionInfo": {
     "elapsed": 79,
     "status": "ok",
     "timestamp": 1625305703355,
     "user": {
      "displayName": "Clash Clans",
      "photoUrl": "",
      "userId": "00562530571182710236"
     },
     "user_tz": -330
    },
    "id": "Oi4HR_nhkK5R",
    "outputId": "0b9259c3-fd7f-42b3-e925-cb0f38cdd880"
   },
   "outputs": [
    {
     "data": {
      "text/html": [
       "<div>\n",
       "<style scoped>\n",
       "    .dataframe tbody tr th:only-of-type {\n",
       "        vertical-align: middle;\n",
       "    }\n",
       "\n",
       "    .dataframe tbody tr th {\n",
       "        vertical-align: top;\n",
       "    }\n",
       "\n",
       "    .dataframe thead th {\n",
       "        text-align: right;\n",
       "    }\n",
       "</style>\n",
       "<table border=\"1\" class=\"dataframe\">\n",
       "  <thead>\n",
       "    <tr style=\"text-align: right;\">\n",
       "      <th></th>\n",
       "      <th>0</th>\n",
       "      <th>1</th>\n",
       "      <th>2</th>\n",
       "      <th>3</th>\n",
       "      <th>4</th>\n",
       "      <th>5</th>\n",
       "    </tr>\n",
       "  </thead>\n",
       "  <tbody>\n",
       "    <tr>\n",
       "      <th>count</th>\n",
       "      <td>11.000000</td>\n",
       "      <td>11.000000</td>\n",
       "      <td>11.000000</td>\n",
       "      <td>11.000000</td>\n",
       "      <td>11.000000</td>\n",
       "      <td>11.000000</td>\n",
       "    </tr>\n",
       "    <tr>\n",
       "      <th>mean</th>\n",
       "      <td>0.379697</td>\n",
       "      <td>0.022541</td>\n",
       "      <td>0.038880</td>\n",
       "      <td>0.074861</td>\n",
       "      <td>-0.418310</td>\n",
       "      <td>-0.098365</td>\n",
       "    </tr>\n",
       "    <tr>\n",
       "      <th>std</th>\n",
       "      <td>1.307096</td>\n",
       "      <td>0.921530</td>\n",
       "      <td>1.140149</td>\n",
       "      <td>0.782740</td>\n",
       "      <td>0.851528</td>\n",
       "      <td>0.466233</td>\n",
       "    </tr>\n",
       "    <tr>\n",
       "      <th>min</th>\n",
       "      <td>-2.113047</td>\n",
       "      <td>-1.455411</td>\n",
       "      <td>-1.671655</td>\n",
       "      <td>-1.540668</td>\n",
       "      <td>-2.501908</td>\n",
       "      <td>-0.614636</td>\n",
       "    </tr>\n",
       "    <tr>\n",
       "      <th>25%</th>\n",
       "      <td>-0.181235</td>\n",
       "      <td>-0.447049</td>\n",
       "      <td>-0.710069</td>\n",
       "      <td>-0.175052</td>\n",
       "      <td>-0.572577</td>\n",
       "      <td>-0.484606</td>\n",
       "    </tr>\n",
       "    <tr>\n",
       "      <th>50%</th>\n",
       "      <td>0.109031</td>\n",
       "      <td>-0.246062</td>\n",
       "      <td>-0.114598</td>\n",
       "      <td>-0.024891</td>\n",
       "      <td>-0.412102</td>\n",
       "      <td>-0.187395</td>\n",
       "    </tr>\n",
       "    <tr>\n",
       "      <th>75%</th>\n",
       "      <td>1.447410</td>\n",
       "      <td>0.532910</td>\n",
       "      <td>0.926405</td>\n",
       "      <td>0.662377</td>\n",
       "      <td>-0.214442</td>\n",
       "      <td>0.102521</td>\n",
       "    </tr>\n",
       "    <tr>\n",
       "      <th>max</th>\n",
       "      <td>1.952435</td>\n",
       "      <td>2.120546</td>\n",
       "      <td>1.806164</td>\n",
       "      <td>1.053140</td>\n",
       "      <td>1.015473</td>\n",
       "      <td>0.819494</td>\n",
       "    </tr>\n",
       "  </tbody>\n",
       "</table>\n",
       "</div>"
      ],
      "text/plain": [
       "               0          1          2          3          4          5\n",
       "count  11.000000  11.000000  11.000000  11.000000  11.000000  11.000000\n",
       "mean    0.379697   0.022541   0.038880   0.074861  -0.418310  -0.098365\n",
       "std     1.307096   0.921530   1.140149   0.782740   0.851528   0.466233\n",
       "min    -2.113047  -1.455411  -1.671655  -1.540668  -2.501908  -0.614636\n",
       "25%    -0.181235  -0.447049  -0.710069  -0.175052  -0.572577  -0.484606\n",
       "50%     0.109031  -0.246062  -0.114598  -0.024891  -0.412102  -0.187395\n",
       "75%     1.447410   0.532910   0.926405   0.662377  -0.214442   0.102521\n",
       "max     1.952435   2.120546   1.806164   1.053140   1.015473   0.819494"
      ]
     },
     "execution_count": 8,
     "metadata": {
      "tags": []
     },
     "output_type": "execute_result"
    }
   ],
   "source": [
    "# Stats\n",
    "pd_dataframe.describe()"
   ]
  },
  {
   "cell_type": "code",
   "execution_count": 9,
   "metadata": {
    "colab": {
     "base_uri": "https://localhost:8080/"
    },
    "executionInfo": {
     "elapsed": 80,
     "status": "ok",
     "timestamp": 1625305703358,
     "user": {
      "displayName": "Clash Clans",
      "photoUrl": "",
      "userId": "00562530571182710236"
     },
     "user_tz": -330
    },
    "id": "zgEXnT69kSv7",
    "outputId": "dd56d77e-6a83-4b04-c091-27daabb521d8"
   },
   "outputs": [
    {
     "data": {
      "text/plain": [
       "0    0\n",
       "1    0\n",
       "2    0\n",
       "3    0\n",
       "4    0\n",
       "5    0\n",
       "dtype: int64"
      ]
     },
     "execution_count": 9,
     "metadata": {
      "tags": []
     },
     "output_type": "execute_result"
    }
   ],
   "source": [
    "# Null values \n",
    "pd_dataframe.isna().sum()"
   ]
  },
  {
   "cell_type": "code",
   "execution_count": 10,
   "metadata": {
    "colab": {
     "base_uri": "https://localhost:8080/",
     "height": 0
    },
    "executionInfo": {
     "elapsed": 80,
     "status": "ok",
     "timestamp": 1625305703359,
     "user": {
      "displayName": "Clash Clans",
      "photoUrl": "",
      "userId": "00562530571182710236"
     },
     "user_tz": -330
    },
    "id": "wVzzCKQ7LpNY",
    "outputId": "bf45b01d-50ed-406e-d951-37463cf741e4"
   },
   "outputs": [
    {
     "data": {
      "text/html": [
       "<div>\n",
       "<style scoped>\n",
       "    .dataframe tbody tr th:only-of-type {\n",
       "        vertical-align: middle;\n",
       "    }\n",
       "\n",
       "    .dataframe tbody tr th {\n",
       "        vertical-align: top;\n",
       "    }\n",
       "\n",
       "    .dataframe thead th {\n",
       "        text-align: right;\n",
       "    }\n",
       "</style>\n",
       "<table border=\"1\" class=\"dataframe\">\n",
       "  <thead>\n",
       "    <tr style=\"text-align: right;\">\n",
       "      <th></th>\n",
       "      <th>a</th>\n",
       "      <th>b</th>\n",
       "      <th>c</th>\n",
       "    </tr>\n",
       "  </thead>\n",
       "  <tbody>\n",
       "    <tr>\n",
       "      <th>0</th>\n",
       "      <td>0</td>\n",
       "      <td>1</td>\n",
       "      <td>2</td>\n",
       "    </tr>\n",
       "    <tr>\n",
       "      <th>1</th>\n",
       "      <td>3</td>\n",
       "      <td>4</td>\n",
       "      <td>5</td>\n",
       "    </tr>\n",
       "    <tr>\n",
       "      <th>2</th>\n",
       "      <td>6</td>\n",
       "      <td>7</td>\n",
       "      <td>8</td>\n",
       "    </tr>\n",
       "    <tr>\n",
       "      <th>3</th>\n",
       "      <td>9</td>\n",
       "      <td>10</td>\n",
       "      <td>11</td>\n",
       "    </tr>\n",
       "    <tr>\n",
       "      <th>4</th>\n",
       "      <td>12</td>\n",
       "      <td>13</td>\n",
       "      <td>14</td>\n",
       "    </tr>\n",
       "  </tbody>\n",
       "</table>\n",
       "</div>"
      ],
      "text/plain": [
       "    a   b   c\n",
       "0   0   1   2\n",
       "1   3   4   5\n",
       "2   6   7   8\n",
       "3   9  10  11\n",
       "4  12  13  14"
      ]
     },
     "execution_count": 10,
     "metadata": {
      "tags": []
     },
     "output_type": "execute_result"
    }
   ],
   "source": [
    "# mathematical operation\n",
    "sample_dataframe=pd.DataFrame(np.arange(0,15,1).reshape(5,3),columns=['a','b','c'])\n",
    "sample_dataframe"
   ]
  },
  {
   "cell_type": "code",
   "execution_count": 11,
   "metadata": {
    "colab": {
     "base_uri": "https://localhost:8080/",
     "height": 0
    },
    "executionInfo": {
     "elapsed": 78,
     "status": "ok",
     "timestamp": 1625305703360,
     "user": {
      "displayName": "Clash Clans",
      "photoUrl": "",
      "userId": "00562530571182710236"
     },
     "user_tz": -330
    },
    "id": "84ysAQ83MSXo",
    "outputId": "94bb7a49-139d-4c0f-eba1-ac56907a06de"
   },
   "outputs": [
    {
     "data": {
      "text/html": [
       "<div>\n",
       "<style scoped>\n",
       "    .dataframe tbody tr th:only-of-type {\n",
       "        vertical-align: middle;\n",
       "    }\n",
       "\n",
       "    .dataframe tbody tr th {\n",
       "        vertical-align: top;\n",
       "    }\n",
       "\n",
       "    .dataframe thead th {\n",
       "        text-align: right;\n",
       "    }\n",
       "</style>\n",
       "<table border=\"1\" class=\"dataframe\">\n",
       "  <thead>\n",
       "    <tr style=\"text-align: right;\">\n",
       "      <th></th>\n",
       "      <th>a</th>\n",
       "      <th>b</th>\n",
       "      <th>c</th>\n",
       "    </tr>\n",
       "  </thead>\n",
       "  <tbody>\n",
       "    <tr>\n",
       "      <th>0</th>\n",
       "      <td>3</td>\n",
       "      <td>4</td>\n",
       "      <td>5</td>\n",
       "    </tr>\n",
       "    <tr>\n",
       "      <th>1</th>\n",
       "      <td>6</td>\n",
       "      <td>7</td>\n",
       "      <td>8</td>\n",
       "    </tr>\n",
       "    <tr>\n",
       "      <th>2</th>\n",
       "      <td>9</td>\n",
       "      <td>10</td>\n",
       "      <td>11</td>\n",
       "    </tr>\n",
       "    <tr>\n",
       "      <th>3</th>\n",
       "      <td>12</td>\n",
       "      <td>13</td>\n",
       "      <td>14</td>\n",
       "    </tr>\n",
       "    <tr>\n",
       "      <th>4</th>\n",
       "      <td>15</td>\n",
       "      <td>16</td>\n",
       "      <td>17</td>\n",
       "    </tr>\n",
       "  </tbody>\n",
       "</table>\n",
       "</div>"
      ],
      "text/plain": [
       "    a   b   c\n",
       "0   3   4   5\n",
       "1   6   7   8\n",
       "2   9  10  11\n",
       "3  12  13  14\n",
       "4  15  16  17"
      ]
     },
     "execution_count": 11,
     "metadata": {
      "tags": []
     },
     "output_type": "execute_result"
    }
   ],
   "source": [
    "# opertion \n",
    "sample_dataframe+3  # not change original value "
   ]
  },
  {
   "cell_type": "code",
   "execution_count": 12,
   "metadata": {
    "colab": {
     "base_uri": "https://localhost:8080/",
     "height": 0
    },
    "executionInfo": {
     "elapsed": 78,
     "status": "ok",
     "timestamp": 1625305703362,
     "user": {
      "displayName": "Clash Clans",
      "photoUrl": "",
      "userId": "00562530571182710236"
     },
     "user_tz": -330
    },
    "id": "v7m8LAA7MhdW",
    "outputId": "52bbb064-cf62-45d9-c6cd-e59c0f2a7bcc"
   },
   "outputs": [
    {
     "data": {
      "text/html": [
       "<div>\n",
       "<style scoped>\n",
       "    .dataframe tbody tr th:only-of-type {\n",
       "        vertical-align: middle;\n",
       "    }\n",
       "\n",
       "    .dataframe tbody tr th {\n",
       "        vertical-align: top;\n",
       "    }\n",
       "\n",
       "    .dataframe thead th {\n",
       "        text-align: right;\n",
       "    }\n",
       "</style>\n",
       "<table border=\"1\" class=\"dataframe\">\n",
       "  <thead>\n",
       "    <tr style=\"text-align: right;\">\n",
       "      <th></th>\n",
       "      <th>a</th>\n",
       "      <th>b</th>\n",
       "      <th>c</th>\n",
       "    </tr>\n",
       "  </thead>\n",
       "  <tbody>\n",
       "    <tr>\n",
       "      <th>0</th>\n",
       "      <td>3</td>\n",
       "      <td>4</td>\n",
       "      <td>5</td>\n",
       "    </tr>\n",
       "    <tr>\n",
       "      <th>1</th>\n",
       "      <td>6</td>\n",
       "      <td>7</td>\n",
       "      <td>8</td>\n",
       "    </tr>\n",
       "    <tr>\n",
       "      <th>2</th>\n",
       "      <td>9</td>\n",
       "      <td>10</td>\n",
       "      <td>11</td>\n",
       "    </tr>\n",
       "    <tr>\n",
       "      <th>3</th>\n",
       "      <td>12</td>\n",
       "      <td>13</td>\n",
       "      <td>14</td>\n",
       "    </tr>\n",
       "    <tr>\n",
       "      <th>4</th>\n",
       "      <td>15</td>\n",
       "      <td>16</td>\n",
       "      <td>17</td>\n",
       "    </tr>\n",
       "  </tbody>\n",
       "</table>\n",
       "</div>"
      ],
      "text/plain": [
       "    a   b   c\n",
       "0   3   4   5\n",
       "1   6   7   8\n",
       "2   9  10  11\n",
       "3  12  13  14\n",
       "4  15  16  17"
      ]
     },
     "execution_count": 12,
     "metadata": {
      "tags": []
     },
     "output_type": "execute_result"
    }
   ],
   "source": [
    "sample_dataframe+=3   # short-hand a=a+x -> a+=x \n",
    "sample_dataframe  # changed original value"
   ]
  },
  {
   "cell_type": "code",
   "execution_count": 13,
   "metadata": {
    "colab": {
     "base_uri": "https://localhost:8080/",
     "height": 0
    },
    "executionInfo": {
     "elapsed": 78,
     "status": "ok",
     "timestamp": 1625305703363,
     "user": {
      "displayName": "Clash Clans",
      "photoUrl": "",
      "userId": "00562530571182710236"
     },
     "user_tz": -330
    },
    "id": "GHUotN-eM5zB",
    "outputId": "446ee2e2-c5ef-4eab-ed1f-4ed284c02b3e"
   },
   "outputs": [
    {
     "data": {
      "text/html": [
       "<div>\n",
       "<style scoped>\n",
       "    .dataframe tbody tr th:only-of-type {\n",
       "        vertical-align: middle;\n",
       "    }\n",
       "\n",
       "    .dataframe tbody tr th {\n",
       "        vertical-align: top;\n",
       "    }\n",
       "\n",
       "    .dataframe thead th {\n",
       "        text-align: right;\n",
       "    }\n",
       "</style>\n",
       "<table border=\"1\" class=\"dataframe\">\n",
       "  <thead>\n",
       "    <tr style=\"text-align: right;\">\n",
       "      <th></th>\n",
       "      <th>a</th>\n",
       "      <th>b</th>\n",
       "      <th>c</th>\n",
       "    </tr>\n",
       "  </thead>\n",
       "  <tbody>\n",
       "    <tr>\n",
       "      <th>0</th>\n",
       "      <td>False</td>\n",
       "      <td>True</td>\n",
       "      <td>False</td>\n",
       "    </tr>\n",
       "    <tr>\n",
       "      <th>1</th>\n",
       "      <td>False</td>\n",
       "      <td>True</td>\n",
       "      <td>False</td>\n",
       "    </tr>\n",
       "    <tr>\n",
       "      <th>2</th>\n",
       "      <td>False</td>\n",
       "      <td>True</td>\n",
       "      <td>False</td>\n",
       "    </tr>\n",
       "    <tr>\n",
       "      <th>3</th>\n",
       "      <td>False</td>\n",
       "      <td>True</td>\n",
       "      <td>False</td>\n",
       "    </tr>\n",
       "    <tr>\n",
       "      <th>4</th>\n",
       "      <td>False</td>\n",
       "      <td>True</td>\n",
       "      <td>False</td>\n",
       "    </tr>\n",
       "  </tbody>\n",
       "</table>\n",
       "</div>"
      ],
      "text/plain": [
       "       a     b      c\n",
       "0  False  True  False\n",
       "1  False  True  False\n",
       "2  False  True  False\n",
       "3  False  True  False\n",
       "4  False  True  False"
      ]
     },
     "execution_count": 13,
     "metadata": {
      "tags": []
     },
     "output_type": "execute_result"
    }
   ],
   "source": [
    "sample_dataframe%3==1 # where reminder is 1 (one)"
   ]
  },
  {
   "cell_type": "code",
   "execution_count": 14,
   "metadata": {
    "executionInfo": {
     "elapsed": 77,
     "status": "ok",
     "timestamp": 1625305703364,
     "user": {
      "displayName": "Clash Clans",
      "photoUrl": "",
      "userId": "00562530571182710236"
     },
     "user_tz": -330
    },
    "id": "uneWKx9Tkhl0"
   },
   "outputs": [],
   "source": [
    "# Saving file as csv \n",
    "pd_dataframe.to_csv('my_test_file',sep='$')\n",
    "del pd_dataframe"
   ]
  },
  {
   "cell_type": "code",
   "execution_count": 15,
   "metadata": {
    "colab": {
     "base_uri": "https://localhost:8080/",
     "height": 0
    },
    "executionInfo": {
     "elapsed": 79,
     "status": "ok",
     "timestamp": 1625305703366,
     "user": {
      "displayName": "Clash Clans",
      "photoUrl": "",
      "userId": "00562530571182710236"
     },
     "user_tz": -330
    },
    "id": "6kYfhcGflF42",
    "outputId": "22111f76-aec9-4551-864c-3bd793a27b65"
   },
   "outputs": [
    {
     "data": {
      "application/vnd.google.colaboratory.intrinsic+json": {
       "type": "string"
      },
      "text/plain": [
       "'{\"Unnamed: 0\":{\"0\":\"a\",\"1\":\"b\",\"2\":\"c\",\"3\":\"d\",\"4\":\"e\",\"5\":\"1\",\"6\":\"2\",\"7\":\"3\",\"8\":\"4\",\"9\":\"5\",\"10\":\"6\"},\"0\":{\"0\":0.1090312414,\"1\":-1.1958672119,\"2\":1.1598945492,\"3\":-0.0355335157,\"4\":-0.326935867,\"5\":1.9524354888,\"6\":0.0927179204,\"7\":1.7349256086,\"8\":-2.1130467516,\"9\":1.9298619624,\"10\":0.8691838809},\"1\":{\"0\":2.1205463514,\"1\":0.5680774431,\"2\":-0.5523393107,\"3\":-0.0246979546,\"4\":-0.2758124952,\"5\":-0.2460623834,\"6\":-0.6345049275,\"7\":-1.4554105421,\"8\":-0.3417589681,\"9\":0.4977426325,\"10\":0.5921689708},\"2\":{\"0\":-0.1145984589,\"1\":-0.5723122297,\"2\":0.6187694281,\"3\":-1.6716550994,\"4\":-0.5100977544,\"5\":0.712240149,\"6\":1.244643583,\"7\":-0.8478252028,\"8\":-1.3782172151,\"9\":1.1405692767,\"10\":1.8061642977},\"3\":{\"0\":-0.8588045044,\"1\":-1.5406680747,\"2\":0.8391384236,\"3\":-0.1632149519,\"4\":-0.0248912212,\"5\":0.8683700585,\"6\":0.4497889375,\"7\":-0.0981097915,\"8\":1.0531397837,\"9\":-0.1868882198,\"10\":0.4856148135},\"4\":{\"0\":-0.3459080679,\"1\":-0.307099519,\"2\":-0.1217835211,\"3\":-0.4362132389,\"4\":-2.5019084056,\"5\":-0.4121023572,\"6\":-0.6305486262,\"7\":-0.7089231456,\"8\":0.3622138124,\"9\":-0.5146063207,\"10\":1.0154726517},\"5\":{\"0\":-0.6146362461,\"1\":-0.0093732792,\"2\":0.5238980964,\"3\":0.8194936341,\"4\":-0.5623080865,\"5\":0.0118161255,\"6\":0.1932263113,\"7\":-0.187394733,\"8\":-0.2820899559,\"9\":-0.4069042713,\"10\":-0.5677465285}}'"
      ]
     },
     "execution_count": 15,
     "metadata": {
      "tags": []
     },
     "output_type": "execute_result"
    }
   ],
   "source": [
    "# read file \n",
    "my_test_data=pd.read_csv('my_test_file',sep='$')\n",
    "my_test_data.to_json()"
   ]
  },
  {
   "cell_type": "markdown",
   "metadata": {
    "id": "3YaEecKRdWAx"
   },
   "source": [
    "# About Dataset – Bank Marketing Dataset\n",
    "\n",
    "Description: The data is related with direct marketing campaigns (phone calls) of a Portuguese banking institution. The classification goal is to predict if the client will subscribe a term deposit. \n",
    "\n",
    "Dataset source ([ics.uci.edu](https://archive.ics.uci.edu/ml/index.php)): https://archive.ics.uci.edu/ml/datasets/Bank+Marketing\n",
    "\n",
    "Dataset download [links](https://archive.ics.uci.edu/ml/machine-learning-databases/00222/), direct link: [bank-additional.zip](https://archive.ics.uci.edu/ml/machine-learning-databases/00222/bank-additional.zip) (bank-additional-full.csv, bank-additional.csv), [bank.zip](https://archive.ics.uci.edu/ml/machine-learning-databases/00222/bank.zip) (bank-full.csv, bank.csv).\n",
    "\n",
    "NOTE: Data is available under education license only. Don’t use dataset other than educational purposes.\n",
    "\n",
    "## [Exploratory Data Analysis](https://www.ibm.com/cloud/learn/exploratory-data-analysis) - \n",
    "\n",
    "Exploratory data analysis (EDA) is used by data scientists to analyze and investigate data sets and summarize their main characteristics, often employing data visualization methods. It helps determine how best to manipulate data sources to get the answers you need, making it easier for data scientists to discover patterns, spot anomalies, test a hypothesis, or check assumptions."
   ]
  },
  {
   "cell_type": "code",
   "execution_count": 16,
   "metadata": {
    "colab": {
     "base_uri": "https://localhost:8080/"
    },
    "executionInfo": {
     "elapsed": 79,
     "status": "ok",
     "timestamp": 1625305703367,
     "user": {
      "displayName": "Clash Clans",
      "photoUrl": "",
      "userId": "00562530571182710236"
     },
     "user_tz": -330
    },
    "id": "1ggLcGDseify",
    "outputId": "1ee49acc-8881-4cc0-d99c-77a946904380"
   },
   "outputs": [
    {
     "name": "stdout",
     "output_type": "stream",
     "text": [
      "--2021-07-03 09:48:21--  https://archive.ics.uci.edu/ml/machine-learning-databases/00222/bank-additional.zip\n",
      "Resolving archive.ics.uci.edu (archive.ics.uci.edu)... 128.195.10.252\n",
      "Connecting to archive.ics.uci.edu (archive.ics.uci.edu)|128.195.10.252|:443... connected.\n",
      "HTTP request sent, awaiting response... 200 OK\n",
      "Length: 444572 (434K) [application/x-httpd-php]\n",
      "Saving to: ‘bank-additional.zip’\n",
      "\n",
      "\r",
      "bank-additional.zip   0%[                    ]       0  --.-KB/s               \r",
      "bank-additional.zip 100%[===================>] 434.15K  --.-KB/s    in 0.05s   \n",
      "\n",
      "2021-07-03 09:48:21 (9.13 MB/s) - ‘bank-additional.zip’ saved [444572/444572]\n",
      "\n",
      "Archive:  /content/bank-additional.zip\n",
      "   creating: bank-additional/\n",
      "  inflating: bank-additional/.DS_Store  \n",
      "   creating: __MACOSX/\n",
      "   creating: __MACOSX/bank-additional/\n",
      "  inflating: __MACOSX/bank-additional/._.DS_Store  \n",
      "  inflating: bank-additional/.Rhistory  \n",
      "  inflating: bank-additional/bank-additional-full.csv  \n",
      "  inflating: bank-additional/bank-additional-names.txt  \n",
      "  inflating: bank-additional/bank-additional.csv  \n",
      "  inflating: __MACOSX/._bank-additional  \n"
     ]
    }
   ],
   "source": [
    "# Download data - https://archive.ics.uci.edu/ml/machine-learning-databases/00222/bank-additional.zip\n",
    "!wget https://archive.ics.uci.edu/ml/machine-learning-databases/00222/bank-additional.zip\n",
    "# unzip data \n",
    "!unzip /content/bank-additional.zip \n",
    "# move / take usefull data \n",
    "!mv /content/bank-additional/bank-additional-full.csv /content/bank_additional_full.csv\n",
    "!mv /content/bank-additional/bank-additional-names.txt /content/bank_additional_names.txt\n",
    "!mv /content/bank-additional/bank-additional.csv /content/bank_additional.csv\n",
    "# delete left overs \n",
    "!rm -R /content/__MACOSX \n",
    "!rm -R /content/bank-additional\n",
    "!rm -R /content/bank-additional.zip\n",
    "!rm -R /content/sample_data"
   ]
  },
  {
   "cell_type": "code",
   "execution_count": 17,
   "metadata": {
    "colab": {
     "base_uri": "https://localhost:8080/",
     "height": 224
    },
    "executionInfo": {
     "elapsed": 71,
     "status": "ok",
     "timestamp": 1625305703369,
     "user": {
      "displayName": "Clash Clans",
      "photoUrl": "",
      "userId": "00562530571182710236"
     },
     "user_tz": -330
    },
    "id": "Fscn8AdGfHcy",
    "outputId": "0c803399-16f9-490c-968a-f2ef855e2207"
   },
   "outputs": [
    {
     "data": {
      "text/html": [
       "<div>\n",
       "<style scoped>\n",
       "    .dataframe tbody tr th:only-of-type {\n",
       "        vertical-align: middle;\n",
       "    }\n",
       "\n",
       "    .dataframe tbody tr th {\n",
       "        vertical-align: top;\n",
       "    }\n",
       "\n",
       "    .dataframe thead th {\n",
       "        text-align: right;\n",
       "    }\n",
       "</style>\n",
       "<table border=\"1\" class=\"dataframe\">\n",
       "  <thead>\n",
       "    <tr style=\"text-align: right;\">\n",
       "      <th></th>\n",
       "      <th>age</th>\n",
       "      <th>job</th>\n",
       "      <th>marital</th>\n",
       "      <th>education</th>\n",
       "      <th>default</th>\n",
       "      <th>housing</th>\n",
       "      <th>loan</th>\n",
       "      <th>contact</th>\n",
       "      <th>month</th>\n",
       "      <th>day_of_week</th>\n",
       "      <th>duration</th>\n",
       "      <th>campaign</th>\n",
       "      <th>pdays</th>\n",
       "      <th>previous</th>\n",
       "      <th>poutcome</th>\n",
       "      <th>emp.var.rate</th>\n",
       "      <th>cons.price.idx</th>\n",
       "      <th>cons.conf.idx</th>\n",
       "      <th>euribor3m</th>\n",
       "      <th>nr.employed</th>\n",
       "      <th>y</th>\n",
       "    </tr>\n",
       "  </thead>\n",
       "  <tbody>\n",
       "    <tr>\n",
       "      <th>0</th>\n",
       "      <td>56</td>\n",
       "      <td>housemaid</td>\n",
       "      <td>married</td>\n",
       "      <td>basic.4y</td>\n",
       "      <td>no</td>\n",
       "      <td>no</td>\n",
       "      <td>no</td>\n",
       "      <td>telephone</td>\n",
       "      <td>may</td>\n",
       "      <td>mon</td>\n",
       "      <td>261</td>\n",
       "      <td>1</td>\n",
       "      <td>999</td>\n",
       "      <td>0</td>\n",
       "      <td>nonexistent</td>\n",
       "      <td>1.1</td>\n",
       "      <td>93.994</td>\n",
       "      <td>-36.4</td>\n",
       "      <td>4.857</td>\n",
       "      <td>5191.0</td>\n",
       "      <td>no</td>\n",
       "    </tr>\n",
       "    <tr>\n",
       "      <th>1</th>\n",
       "      <td>57</td>\n",
       "      <td>services</td>\n",
       "      <td>married</td>\n",
       "      <td>high.school</td>\n",
       "      <td>unknown</td>\n",
       "      <td>no</td>\n",
       "      <td>no</td>\n",
       "      <td>telephone</td>\n",
       "      <td>may</td>\n",
       "      <td>mon</td>\n",
       "      <td>149</td>\n",
       "      <td>1</td>\n",
       "      <td>999</td>\n",
       "      <td>0</td>\n",
       "      <td>nonexistent</td>\n",
       "      <td>1.1</td>\n",
       "      <td>93.994</td>\n",
       "      <td>-36.4</td>\n",
       "      <td>4.857</td>\n",
       "      <td>5191.0</td>\n",
       "      <td>no</td>\n",
       "    </tr>\n",
       "    <tr>\n",
       "      <th>2</th>\n",
       "      <td>37</td>\n",
       "      <td>services</td>\n",
       "      <td>married</td>\n",
       "      <td>high.school</td>\n",
       "      <td>no</td>\n",
       "      <td>yes</td>\n",
       "      <td>no</td>\n",
       "      <td>telephone</td>\n",
       "      <td>may</td>\n",
       "      <td>mon</td>\n",
       "      <td>226</td>\n",
       "      <td>1</td>\n",
       "      <td>999</td>\n",
       "      <td>0</td>\n",
       "      <td>nonexistent</td>\n",
       "      <td>1.1</td>\n",
       "      <td>93.994</td>\n",
       "      <td>-36.4</td>\n",
       "      <td>4.857</td>\n",
       "      <td>5191.0</td>\n",
       "      <td>no</td>\n",
       "    </tr>\n",
       "    <tr>\n",
       "      <th>3</th>\n",
       "      <td>40</td>\n",
       "      <td>admin.</td>\n",
       "      <td>married</td>\n",
       "      <td>basic.6y</td>\n",
       "      <td>no</td>\n",
       "      <td>no</td>\n",
       "      <td>no</td>\n",
       "      <td>telephone</td>\n",
       "      <td>may</td>\n",
       "      <td>mon</td>\n",
       "      <td>151</td>\n",
       "      <td>1</td>\n",
       "      <td>999</td>\n",
       "      <td>0</td>\n",
       "      <td>nonexistent</td>\n",
       "      <td>1.1</td>\n",
       "      <td>93.994</td>\n",
       "      <td>-36.4</td>\n",
       "      <td>4.857</td>\n",
       "      <td>5191.0</td>\n",
       "      <td>no</td>\n",
       "    </tr>\n",
       "    <tr>\n",
       "      <th>4</th>\n",
       "      <td>56</td>\n",
       "      <td>services</td>\n",
       "      <td>married</td>\n",
       "      <td>high.school</td>\n",
       "      <td>no</td>\n",
       "      <td>no</td>\n",
       "      <td>yes</td>\n",
       "      <td>telephone</td>\n",
       "      <td>may</td>\n",
       "      <td>mon</td>\n",
       "      <td>307</td>\n",
       "      <td>1</td>\n",
       "      <td>999</td>\n",
       "      <td>0</td>\n",
       "      <td>nonexistent</td>\n",
       "      <td>1.1</td>\n",
       "      <td>93.994</td>\n",
       "      <td>-36.4</td>\n",
       "      <td>4.857</td>\n",
       "      <td>5191.0</td>\n",
       "      <td>no</td>\n",
       "    </tr>\n",
       "  </tbody>\n",
       "</table>\n",
       "</div>"
      ],
      "text/plain": [
       "   age        job  marital  ... euribor3m nr.employed   y\n",
       "0   56  housemaid  married  ...     4.857      5191.0  no\n",
       "1   57   services  married  ...     4.857      5191.0  no\n",
       "2   37   services  married  ...     4.857      5191.0  no\n",
       "3   40     admin.  married  ...     4.857      5191.0  no\n",
       "4   56   services  married  ...     4.857      5191.0  no\n",
       "\n",
       "[5 rows x 21 columns]"
      ]
     },
     "execution_count": 17,
     "metadata": {
      "tags": []
     },
     "output_type": "execute_result"
    }
   ],
   "source": [
    "# read data \n",
    "data=pd.read_csv('/content/bank_additional_full.csv',sep=';')\n",
    "# look head \n",
    "data.head()"
   ]
  },
  {
   "cell_type": "code",
   "execution_count": 18,
   "metadata": {
    "colab": {
     "base_uri": "https://localhost:8080/"
    },
    "executionInfo": {
     "elapsed": 71,
     "status": "ok",
     "timestamp": 1625305703371,
     "user": {
      "displayName": "Clash Clans",
      "photoUrl": "",
      "userId": "00562530571182710236"
     },
     "user_tz": -330
    },
    "id": "vPKI-zM18ACy",
    "outputId": "e56e5aca-5b10-4b2f-9385-8ea0125653ec"
   },
   "outputs": [
    {
     "data": {
      "text/plain": [
       "Index(['age', 'job', 'marital', 'education', 'default', 'housing', 'loan',\n",
       "       'contact', 'month', 'day_of_week', 'duration', 'campaign', 'pdays',\n",
       "       'previous', 'poutcome', 'emp_var_rate', 'cons_price_idx',\n",
       "       'cons_conf_idx', 'euribor3m', 'nr_employed', 'y'],\n",
       "      dtype='object')"
      ]
     },
     "execution_count": 18,
     "metadata": {
      "tags": []
     },
     "output_type": "execute_result"
    }
   ],
   "source": [
    "data.rename(columns={'emp.var.rate':'emp_var_rate','cons.price.idx':'cons_price_idx',\n",
    "                     'cons.conf.idx':'cons_conf_idx','nr.employed':'nr_employed'},\n",
    "            inplace=True)\n",
    "\n",
    "data.columns"
   ]
  },
  {
   "cell_type": "markdown",
   "metadata": {
    "id": "B4rcM5nW9EXa"
   },
   "source": [
    "### Data stats "
   ]
  },
  {
   "cell_type": "code",
   "execution_count": 19,
   "metadata": {
    "colab": {
     "base_uri": "https://localhost:8080/"
    },
    "executionInfo": {
     "elapsed": 68,
     "status": "ok",
     "timestamp": 1625305703372,
     "user": {
      "displayName": "Clash Clans",
      "photoUrl": "",
      "userId": "00562530571182710236"
     },
     "user_tz": -330
    },
    "id": "5l6OsWtTB2qh",
    "outputId": "c7971735-e125-4a21-f1c7-b8a11e6a566a"
   },
   "outputs": [
    {
     "data": {
      "text/plain": [
       "(41188, 21)"
      ]
     },
     "execution_count": 19,
     "metadata": {
      "tags": []
     },
     "output_type": "execute_result"
    }
   ],
   "source": [
    "data.shape"
   ]
  },
  {
   "cell_type": "code",
   "execution_count": 20,
   "metadata": {
    "colab": {
     "base_uri": "https://localhost:8080/"
    },
    "executionInfo": {
     "elapsed": 67,
     "status": "ok",
     "timestamp": 1625305703374,
     "user": {
      "displayName": "Clash Clans",
      "photoUrl": "",
      "userId": "00562530571182710236"
     },
     "user_tz": -330
    },
    "id": "yCJwanAL9BeZ",
    "outputId": "b16d6ccc-f23c-4ac5-9a0d-42d7c23d47c2"
   },
   "outputs": [
    {
     "name": "stdout",
     "output_type": "stream",
     "text": [
      "<class 'pandas.core.frame.DataFrame'>\n",
      "RangeIndex: 41188 entries, 0 to 41187\n",
      "Data columns (total 21 columns):\n",
      " #   Column          Non-Null Count  Dtype  \n",
      "---  ------          --------------  -----  \n",
      " 0   age             41188 non-null  int64  \n",
      " 1   job             41188 non-null  object \n",
      " 2   marital         41188 non-null  object \n",
      " 3   education       41188 non-null  object \n",
      " 4   default         41188 non-null  object \n",
      " 5   housing         41188 non-null  object \n",
      " 6   loan            41188 non-null  object \n",
      " 7   contact         41188 non-null  object \n",
      " 8   month           41188 non-null  object \n",
      " 9   day_of_week     41188 non-null  object \n",
      " 10  duration        41188 non-null  int64  \n",
      " 11  campaign        41188 non-null  int64  \n",
      " 12  pdays           41188 non-null  int64  \n",
      " 13  previous        41188 non-null  int64  \n",
      " 14  poutcome        41188 non-null  object \n",
      " 15  emp_var_rate    41188 non-null  float64\n",
      " 16  cons_price_idx  41188 non-null  float64\n",
      " 17  cons_conf_idx   41188 non-null  float64\n",
      " 18  euribor3m       41188 non-null  float64\n",
      " 19  nr_employed     41188 non-null  float64\n",
      " 20  y               41188 non-null  object \n",
      "dtypes: float64(5), int64(5), object(11)\n",
      "memory usage: 6.6+ MB\n"
     ]
    }
   ],
   "source": [
    "# data info \n",
    "data.info()"
   ]
  },
  {
   "cell_type": "code",
   "execution_count": 21,
   "metadata": {
    "colab": {
     "base_uri": "https://localhost:8080/"
    },
    "executionInfo": {
     "elapsed": 65,
     "status": "ok",
     "timestamp": 1625305703375,
     "user": {
      "displayName": "Clash Clans",
      "photoUrl": "",
      "userId": "00562530571182710236"
     },
     "user_tz": -330
    },
    "id": "3kVZMTY59NIe",
    "outputId": "64393e29-bd84-434c-b807-6a172d26b3bd"
   },
   "outputs": [
    {
     "data": {
      "text/plain": [
       "age               0\n",
       "job               0\n",
       "marital           0\n",
       "education         0\n",
       "default           0\n",
       "housing           0\n",
       "loan              0\n",
       "contact           0\n",
       "month             0\n",
       "day_of_week       0\n",
       "duration          0\n",
       "campaign          0\n",
       "pdays             0\n",
       "previous          0\n",
       "poutcome          0\n",
       "emp_var_rate      0\n",
       "cons_price_idx    0\n",
       "cons_conf_idx     0\n",
       "euribor3m         0\n",
       "nr_employed       0\n",
       "y                 0\n",
       "dtype: int64"
      ]
     },
     "execution_count": 21,
     "metadata": {
      "tags": []
     },
     "output_type": "execute_result"
    }
   ],
   "source": [
    "# null value \n",
    "data.isna().sum()\n",
    "# but Missing Attribute Values: There are several missing values in some categorical attributes, all coded with the \"unknown\" label. \n",
    "# These missing values can be treated as a possible class label or using deletion or imputation techniques. "
   ]
  },
  {
   "cell_type": "code",
   "execution_count": 22,
   "metadata": {
    "colab": {
     "base_uri": "https://localhost:8080/"
    },
    "executionInfo": {
     "elapsed": 1401,
     "status": "ok",
     "timestamp": 1625305704715,
     "user": {
      "displayName": "Clash Clans",
      "photoUrl": "",
      "userId": "00562530571182710236"
     },
     "user_tz": -330
    },
    "id": "E3v-s2mGD_3T",
    "outputId": "8cbc5057-f250-4455-a00e-5becf14b7f9a"
   },
   "outputs": [
    {
     "name": "stdout",
     "output_type": "stream",
     "text": [
      "job -> 330 ; missing percentage: 0.8\n",
      "marital -> 80 ; missing percentage: 0.19\n",
      "education -> 1731 ; missing percentage: 4.2\n",
      "default -> 8597 ; missing percentage: 20.87\n",
      "housing -> 990 ; missing percentage: 2.4\n",
      "loan -> 990 ; missing percentage: 2.4\n"
     ]
    }
   ],
   "source": [
    "# Missing Attribute Values\n",
    "for clmn in data.columns:\n",
    "  got_unknowns=data[clmn].where(data[clmn]==\"unknown\").dropna(how='any').shape\n",
    "  if got_unknowns[0]:\n",
    "    print(clmn,'->',got_unknowns[0],'; missing percentage:',round(got_unknowns[0]/data.shape[0]*100,2))"
   ]
  },
  {
   "cell_type": "code",
   "execution_count": 23,
   "metadata": {
    "colab": {
     "base_uri": "https://localhost:8080/",
     "height": 297
    },
    "executionInfo": {
     "elapsed": 16,
     "status": "ok",
     "timestamp": 1625305704718,
     "user": {
      "displayName": "Clash Clans",
      "photoUrl": "",
      "userId": "00562530571182710236"
     },
     "user_tz": -330
    },
    "id": "J2XKgwBG9Zj9",
    "outputId": "91cce285-fff7-4958-837e-d0246507fd92"
   },
   "outputs": [
    {
     "data": {
      "text/html": [
       "<div>\n",
       "<style scoped>\n",
       "    .dataframe tbody tr th:only-of-type {\n",
       "        vertical-align: middle;\n",
       "    }\n",
       "\n",
       "    .dataframe tbody tr th {\n",
       "        vertical-align: top;\n",
       "    }\n",
       "\n",
       "    .dataframe thead th {\n",
       "        text-align: right;\n",
       "    }\n",
       "</style>\n",
       "<table border=\"1\" class=\"dataframe\">\n",
       "  <thead>\n",
       "    <tr style=\"text-align: right;\">\n",
       "      <th></th>\n",
       "      <th>age</th>\n",
       "      <th>duration</th>\n",
       "      <th>campaign</th>\n",
       "      <th>pdays</th>\n",
       "      <th>previous</th>\n",
       "      <th>emp_var_rate</th>\n",
       "      <th>cons_price_idx</th>\n",
       "      <th>cons_conf_idx</th>\n",
       "      <th>euribor3m</th>\n",
       "      <th>nr_employed</th>\n",
       "    </tr>\n",
       "  </thead>\n",
       "  <tbody>\n",
       "    <tr>\n",
       "      <th>count</th>\n",
       "      <td>41188.00000</td>\n",
       "      <td>41188.000000</td>\n",
       "      <td>41188.000000</td>\n",
       "      <td>41188.000000</td>\n",
       "      <td>41188.000000</td>\n",
       "      <td>41188.000000</td>\n",
       "      <td>41188.000000</td>\n",
       "      <td>41188.000000</td>\n",
       "      <td>41188.000000</td>\n",
       "      <td>41188.000000</td>\n",
       "    </tr>\n",
       "    <tr>\n",
       "      <th>mean</th>\n",
       "      <td>40.02406</td>\n",
       "      <td>258.285010</td>\n",
       "      <td>2.567593</td>\n",
       "      <td>962.475454</td>\n",
       "      <td>0.172963</td>\n",
       "      <td>0.081886</td>\n",
       "      <td>93.575664</td>\n",
       "      <td>-40.502600</td>\n",
       "      <td>3.621291</td>\n",
       "      <td>5167.035911</td>\n",
       "    </tr>\n",
       "    <tr>\n",
       "      <th>std</th>\n",
       "      <td>10.42125</td>\n",
       "      <td>259.279249</td>\n",
       "      <td>2.770014</td>\n",
       "      <td>186.910907</td>\n",
       "      <td>0.494901</td>\n",
       "      <td>1.570960</td>\n",
       "      <td>0.578840</td>\n",
       "      <td>4.628198</td>\n",
       "      <td>1.734447</td>\n",
       "      <td>72.251528</td>\n",
       "    </tr>\n",
       "    <tr>\n",
       "      <th>min</th>\n",
       "      <td>17.00000</td>\n",
       "      <td>0.000000</td>\n",
       "      <td>1.000000</td>\n",
       "      <td>0.000000</td>\n",
       "      <td>0.000000</td>\n",
       "      <td>-3.400000</td>\n",
       "      <td>92.201000</td>\n",
       "      <td>-50.800000</td>\n",
       "      <td>0.634000</td>\n",
       "      <td>4963.600000</td>\n",
       "    </tr>\n",
       "    <tr>\n",
       "      <th>25%</th>\n",
       "      <td>32.00000</td>\n",
       "      <td>102.000000</td>\n",
       "      <td>1.000000</td>\n",
       "      <td>999.000000</td>\n",
       "      <td>0.000000</td>\n",
       "      <td>-1.800000</td>\n",
       "      <td>93.075000</td>\n",
       "      <td>-42.700000</td>\n",
       "      <td>1.344000</td>\n",
       "      <td>5099.100000</td>\n",
       "    </tr>\n",
       "    <tr>\n",
       "      <th>50%</th>\n",
       "      <td>38.00000</td>\n",
       "      <td>180.000000</td>\n",
       "      <td>2.000000</td>\n",
       "      <td>999.000000</td>\n",
       "      <td>0.000000</td>\n",
       "      <td>1.100000</td>\n",
       "      <td>93.749000</td>\n",
       "      <td>-41.800000</td>\n",
       "      <td>4.857000</td>\n",
       "      <td>5191.000000</td>\n",
       "    </tr>\n",
       "    <tr>\n",
       "      <th>75%</th>\n",
       "      <td>47.00000</td>\n",
       "      <td>319.000000</td>\n",
       "      <td>3.000000</td>\n",
       "      <td>999.000000</td>\n",
       "      <td>0.000000</td>\n",
       "      <td>1.400000</td>\n",
       "      <td>93.994000</td>\n",
       "      <td>-36.400000</td>\n",
       "      <td>4.961000</td>\n",
       "      <td>5228.100000</td>\n",
       "    </tr>\n",
       "    <tr>\n",
       "      <th>max</th>\n",
       "      <td>98.00000</td>\n",
       "      <td>4918.000000</td>\n",
       "      <td>56.000000</td>\n",
       "      <td>999.000000</td>\n",
       "      <td>7.000000</td>\n",
       "      <td>1.400000</td>\n",
       "      <td>94.767000</td>\n",
       "      <td>-26.900000</td>\n",
       "      <td>5.045000</td>\n",
       "      <td>5228.100000</td>\n",
       "    </tr>\n",
       "  </tbody>\n",
       "</table>\n",
       "</div>"
      ],
      "text/plain": [
       "               age      duration  ...     euribor3m   nr_employed\n",
       "count  41188.00000  41188.000000  ...  41188.000000  41188.000000\n",
       "mean      40.02406    258.285010  ...      3.621291   5167.035911\n",
       "std       10.42125    259.279249  ...      1.734447     72.251528\n",
       "min       17.00000      0.000000  ...      0.634000   4963.600000\n",
       "25%       32.00000    102.000000  ...      1.344000   5099.100000\n",
       "50%       38.00000    180.000000  ...      4.857000   5191.000000\n",
       "75%       47.00000    319.000000  ...      4.961000   5228.100000\n",
       "max       98.00000   4918.000000  ...      5.045000   5228.100000\n",
       "\n",
       "[8 rows x 10 columns]"
      ]
     },
     "execution_count": 23,
     "metadata": {
      "tags": []
     },
     "output_type": "execute_result"
    }
   ],
   "source": [
    "# data stats \n",
    "data.describe()"
   ]
  },
  {
   "cell_type": "markdown",
   "metadata": {
    "id": "BDo9yvox7tTJ"
   },
   "source": [
    "### Bar plots ---"
   ]
  },
  {
   "cell_type": "code",
   "execution_count": 24,
   "metadata": {
    "colab": {
     "base_uri": "https://localhost:8080/",
     "height": 608
    },
    "executionInfo": {
     "elapsed": 1220,
     "status": "ok",
     "timestamp": 1625305705924,
     "user": {
      "displayName": "Clash Clans",
      "photoUrl": "",
      "userId": "00562530571182710236"
     },
     "user_tz": -330
    },
    "id": "VgQVPyNg_mW2",
    "outputId": "898864fb-32a1-4cdb-b68d-931b4d82a6b7"
   },
   "outputs": [
    {
     "data": {
      "image/png": "[encoded data removed]",
      "text/plain": [
       "<Figure size 1080x720 with 4 Axes>"
      ]
     },
     "metadata": {
      "needs_background": "light",
      "tags": []
     },
     "output_type": "display_data"
    }
   ],
   "source": [
    "plt.figure(figsize=(15,10))\n",
    "for plot_number in range(4):\n",
    "  plt.subplot(2,2,plot_number+1)\n",
    "  # plot histoplot \n",
    "  # kde = True; Add a kernel density estimate to smooth the histogram, providing complementary \n",
    "  # for more on kde -> https://en.wikipedia.org/wiki/Kernel_density_estimation\n",
    "  # information about the shape of the distribution:\n",
    "  sns.histplot(data=data,x=data.columns[-(plot_number+2)],hue='y',element='step',kde=True) \n",
    "  # stat->{\"count\",\"frequency\",\"density\",\"probability\"}; element->{\"bars\", \"step\", \"poly\"}\n",
    "  # Aggregate statistic to compute in each bin ->\n",
    "  #     count: shows the number of observations\n",
    "  #     frequency: shows the number of observations divided by the bin width\n",
    "  #     density: normalizes counts so that the area of the histogram is 1\n",
    "  #     probability: normalizes counts so that the sum of the bar heights is 1\n",
    "  plt.grid();"
   ]
  },
  {
   "cell_type": "markdown",
   "metadata": {
    "id": "TRdLMZp0Cf8S"
   },
   "source": [
    "### divide - \"yes\" and \"no\""
   ]
  },
  {
   "cell_type": "code",
   "execution_count": 25,
   "metadata": {
    "colab": {
     "base_uri": "https://localhost:8080/"
    },
    "executionInfo": {
     "elapsed": 32,
     "status": "ok",
     "timestamp": 1625305705926,
     "user": {
      "displayName": "Clash Clans",
      "photoUrl": "",
      "userId": "00562530571182710236"
     },
     "user_tz": -330
    },
    "id": "GAaoLlRQBh-o",
    "outputId": "5e2a9ade-a409-4d7d-c9f6-f1ddbc172666"
   },
   "outputs": [
    {
     "name": "stdout",
     "output_type": "stream",
     "text": [
      "data_yes.shape: (4640, 21) ; percentage (by all data): 11.27 %\n",
      "data_no.shape: (36548, 21) ; percentage (by all data): 88.73 %\n",
      "ratio yes / no: 0.127\n"
     ]
    }
   ],
   "source": [
    "# yes -> subscribe a term deposit\n",
    "data_yes=data[data.y=='yes']\n",
    "print('data_yes.shape:',data_yes.shape,'; percentage (by all data):',round(data_yes.shape[0]/data.shape[0]*100,2),'%')\n",
    "# no -> not subscribe a term deposit\n",
    "data_no=data[data.y=='no']\n",
    "print('data_no.shape:',data_no.shape,'; percentage (by all data):',round(data_no.shape[0]/data.shape[0]*100,2),'%')\n",
    "print(r'ratio yes / no:',round(data_yes.shape[0]/data_no.shape[0],4))"
   ]
  },
  {
   "cell_type": "markdown",
   "metadata": {
    "id": "wgQncpOxHlXm"
   },
   "source": [
    "### Centeral limit theorm --"
   ]
  },
  {
   "cell_type": "code",
   "execution_count": 26,
   "metadata": {
    "colab": {
     "base_uri": "https://localhost:8080/"
    },
    "executionInfo": {
     "elapsed": 28,
     "status": "ok",
     "timestamp": 1625305705928,
     "user": {
      "displayName": "Clash Clans",
      "photoUrl": "",
      "userId": "00562530571182710236"
     },
     "user_tz": -330
    },
    "id": "fgnALReTRcyq",
    "outputId": "7004408d-b439-4d4c-efee-10122a41aab3"
   },
   "outputs": [
    {
     "data": {
      "text/plain": [
       "(40, 4, 116.0, 9137.0)"
      ]
     },
     "execution_count": 26,
     "metadata": {
      "tags": []
     },
     "output_type": "execute_result"
    }
   ],
   "source": [
    "# numbers of sample to took average -- GCD <-> Greatest Common Denominator\n",
    "#n_=np.gcd(data_yes.shape[0],data_no.shape[0])\n",
    "#n_ # or n_ / factor of n_\n",
    "\n",
    "# way - 2 \n",
    "n_yes_=40 # should be factor of data_yes.shape[0] \n",
    "# n_no_ -> calcualtion \n",
    "n_no_=int(data_no.shape[0]/(data_yes.shape[0]/n_yes_))\n",
    "shift=1\n",
    "while True:\n",
    "  if data_no.shape[0]%n_no_==0:\n",
    "    break\n",
    "  elif data_no.shape[0]%(n_no_+shift)==0:\n",
    "    n_no_+=shift\n",
    "    break\n",
    "  elif data_no.shape[0]%(n_no_-shift)==0:\n",
    "    n_no_-=shift\n",
    "    break\n",
    "  elif (shift<=0) or (shift>=data_no.shape[0]):\n",
    "    print('fail to find n_no_ --> shift:',shift)\n",
    "    break\n",
    "  else:\n",
    "    shift+=1\n",
    "\n",
    "# results -->\n",
    "n_yes_,n_no_,data_yes.shape[0]/n_yes_,data_no.shape[0]/n_no_"
   ]
  },
  {
   "cell_type": "code",
   "execution_count": 27,
   "metadata": {
    "colab": {
     "base_uri": "https://localhost:8080/"
    },
    "executionInfo": {
     "elapsed": 24,
     "status": "ok",
     "timestamp": 1625305705929,
     "user": {
      "displayName": "Clash Clans",
      "photoUrl": "",
      "userId": "00562530571182710236"
     },
     "user_tz": -330
    },
    "id": "wJC27fWyIAeP",
    "outputId": "ace3d58a-7dcd-49ad-9a5e-85295bc45a79"
   },
   "outputs": [
    {
     "name": "stdout",
     "output_type": "stream",
     "text": [
      "shape of data_yes: (4640,)\n",
      "reduced shape: (116, 40)\n",
      "mean data shape: (116,)\n",
      "over all mean: -1.233 ; meaned maean: -1.233\n",
      "std. dev. all yes -> 1.623  -> spread of data.\n",
      "std. dev. meaned yes -> 1.619  -> spread of data.\n",
      "\n",
      "shape of data_no: (36548,)\n",
      "reduced shape: (9137, 4)\n",
      "mean data shape: (9137,)\n",
      "over all mean: 0.249 ; meaned maean: 0.249\n",
      "std. dev. no -> 1.483  -> spread of data.\n",
      "std. dev. meaned no -> 1.483  -> spread of data.\n"
     ]
    }
   ],
   "source": [
    "# calculation for emp_var_rate \n",
    "cal_4='emp_var_rate'\n",
    "\n",
    "# for yes - data \n",
    "foo_x_yes=data_yes[cal_4].values\n",
    "print('shape of data_yes:',foo_x_yes.shape)\n",
    "# reduced to average \n",
    "print('reduced shape:',foo_x_yes.reshape(-1,n_yes_).shape)\n",
    "# find mean - row wise \n",
    "foo_x_yes_mean=foo_x_yes.reshape(-1,n_yes_).mean(axis=1)  # row wise\n",
    "print('mean data shape:',foo_x_yes_mean.shape)\n",
    "print('over all mean:',round(foo_x_yes.mean(),3),'; meaned maean:',round(foo_x_yes_mean.mean(),3))\n",
    "print('std. dev. all yes ->',round(foo_x_yes.std(),3),' -> spread of data.')\n",
    "print('std. dev. meaned yes ->',round(foo_x_yes_mean.std(),3),' -> spread of data.')\n",
    "print()\n",
    "# for no - data \n",
    "foo_x_no=data_no[cal_4].values\n",
    "print('shape of data_no:',foo_x_no.shape)\n",
    "# reduced to average \n",
    "print('reduced shape:',foo_x_no.reshape(-1,n_no_).shape)\n",
    "# find mean - row wise \n",
    "foo_x_no_mean=foo_x_no.reshape(-1,n_no_).mean(axis=1)  # row wise\n",
    "print('mean data shape:',foo_x_no_mean.shape)\n",
    "print('over all mean:',round(foo_x_no.mean(),3),'; meaned maean:',round(foo_x_no_mean.mean(),3))\n",
    "print('std. dev. no ->',round(foo_x_no.std(),3),' -> spread of data.')\n",
    "print('std. dev. meaned no ->',round(foo_x_no_mean.std(),3),' -> spread of data.')"
   ]
  },
  {
   "cell_type": "code",
   "execution_count": 28,
   "metadata": {
    "colab": {
     "base_uri": "https://localhost:8080/",
     "height": 459
    },
    "executionInfo": {
     "elapsed": 2081,
     "status": "ok",
     "timestamp": 1625305707991,
     "user": {
      "displayName": "Clash Clans",
      "photoUrl": "",
      "userId": "00562530571182710236"
     },
     "user_tz": -330
    },
    "id": "rLx4SXQxIdgy",
    "outputId": "0e1e7abb-01ba-4333-f43d-9d251780ca53"
   },
   "outputs": [
    {
     "data": {
      "image/png": "[encoded data removed]",
      "text/plain": [
       "<Figure size 1080x504 with 2 Axes>"
      ]
     },
     "metadata": {
      "needs_background": "light",
      "tags": []
     },
     "output_type": "display_data"
    }
   ],
   "source": [
    "# plot data -> yes ---\n",
    "plt.figure(figsize=(15,7))\n",
    "plt.subplot(1,2,1)\n",
    "sns.histplot(data=data_yes,x=cal_4,bins='auto',kde=True)\n",
    "plt.title(cal_4+'_true'),plt.grid()\n",
    "plt.subplot(1,2,2)\n",
    "sns.histplot(x=foo_x_yes_mean,bins='auto',kde=True)\n",
    "plt.title(cal_4+'_meaned'),plt.grid();"
   ]
  },
  {
   "cell_type": "code",
   "execution_count": 29,
   "metadata": {
    "colab": {
     "base_uri": "https://localhost:8080/",
     "height": 459
    },
    "executionInfo": {
     "elapsed": 48,
     "status": "ok",
     "timestamp": 1625305707993,
     "user": {
      "displayName": "Clash Clans",
      "photoUrl": "",
      "userId": "00562530571182710236"
     },
     "user_tz": -330
    },
    "id": "ojojVLJeIgDT",
    "outputId": "2720b2d9-c7c7-49d6-fe28-6f327fef96c0"
   },
   "outputs": [
    {
     "data": {
      "image/png": "[encoded data removed]",
      "text/plain": [
       "<Figure size 1080x504 with 2 Axes>"
      ]
     },
     "metadata": {
      "needs_background": "light",
      "tags": []
     },
     "output_type": "display_data"
    }
   ],
   "source": [
    "# plot data -> no ---\n",
    "plt.figure(figsize=(15,7))\n",
    "plt.subplot(1,2,1)\n",
    "sns.histplot(data=data_no,x=cal_4,bins='auto',kde=True)\n",
    "plt.title(cal_4+'_true'),plt.grid()\n",
    "plt.subplot(1,2,2)\n",
    "sns.histplot(x=foo_x_no_mean,bins='auto',kde=True)\n",
    "plt.title(cal_4+'_meaned'),plt.grid();"
   ]
  },
  {
   "cell_type": "markdown",
   "metadata": {
    "id": "dmEG6FlcV-G_"
   },
   "source": [
    "### Hypothesis Testing  ---"
   ]
  },
  {
   "cell_type": "code",
   "execution_count": 30,
   "metadata": {
    "colab": {
     "base_uri": "https://localhost:8080/"
    },
    "executionInfo": {
     "elapsed": 43,
     "status": "ok",
     "timestamp": 1625305707996,
     "user": {
      "displayName": "Clash Clans",
      "photoUrl": "",
      "userId": "00562530571182710236"
     },
     "user_tz": -330
    },
    "id": "tbwpYbBkUeUj",
    "outputId": "e4fc7473-5df8-4aa9-93c0-f4af30668037"
   },
   "outputs": [
    {
     "name": "stdout",
     "output_type": "stream",
     "text": [
      "Orginal no data rows ->  36548\n"
     ]
    },
    {
     "data": {
      "text/plain": [
       "(36480, 'difference ->', 68, ' percentage -> ', 0.19)"
      ]
     },
     "execution_count": 30,
     "metadata": {
      "tags": []
     },
     "output_type": "execute_result"
    }
   ],
   "source": [
    "# number of values \n",
    "n_=160\n",
    "\n",
    "# droprandom data from no vlues ---\n",
    "print('Orginal no data rows -> ',data_no.shape[0])\n",
    "# get random values, so that it can be reshaped to n_ -> rows \n",
    "# get random index \n",
    "index=np.random.choice(range(0,data_no.shape[0]),size=int(data_no.shape[0]/n_)*n_,replace=False)\n",
    "index.sort()\n",
    "# total values to be selected from no values \n",
    "index.shape[0],'difference ->',data_no.shape[0]-index.shape[0],' percentage -> ',round((data_no.shape[0]-index.shape[0])/data_no.shape[0]*100,2)"
   ]
  },
  {
   "cell_type": "code",
   "execution_count": 31,
   "metadata": {
    "colab": {
     "base_uri": "https://localhost:8080/"
    },
    "executionInfo": {
     "elapsed": 32,
     "status": "ok",
     "timestamp": 1625305707997,
     "user": {
      "displayName": "Clash Clans",
      "photoUrl": "",
      "userId": "00562530571182710236"
     },
     "user_tz": -330
    },
    "id": "8QWYDbRlFMyU",
    "outputId": "5c6d3f28-4c3f-4ae6-a7d4-21a677984de3"
   },
   "outputs": [
    {
     "name": "stdout",
     "output_type": "stream",
     "text": [
      "shape of data_yes: (4640,)\n",
      "reduced shape: (29, 160)\n",
      "mean data shape: (29,)\n",
      "over all mean: -1.233 ; meaned maean: -1.233\n",
      "std. dev. all yes -> 1.623  -> spread of data.\n",
      "std. dev. meaned yes -> 1.608  -> spread of data.\n",
      "\n",
      "shape of data_no: (36480,)\n",
      "reduced shape: (228, 160)\n",
      "mean data shape: (228,)\n",
      "over all mean: 0.249 ; meaned maean: 0.249\n",
      "std. dev. no -> 1.483  -> spread of data.\n",
      "std. dev. meaned no -> 1.481  -> spread of data.\n"
     ]
    }
   ],
   "source": [
    "# calculation for emp_var_rate \n",
    "cal_4='emp_var_rate'\n",
    "\n",
    "# for yes - data \n",
    "foo_x_yes=data_yes[cal_4].values\n",
    "print('shape of data_yes:',foo_x_yes.shape)\n",
    "# reduced to average \n",
    "print('reduced shape:',foo_x_yes.reshape(-1,n_).shape)\n",
    "# find mean - row wise \n",
    "foo_x_yes_mean=foo_x_yes.reshape(-1,n_).mean(axis=1)  # row wise\n",
    "print('mean data shape:',foo_x_yes_mean.shape)\n",
    "print('over all mean:',round(foo_x_yes.mean(),3),'; meaned maean:',round(foo_x_yes_mean.mean(),3))\n",
    "print('std. dev. all yes ->',round(foo_x_yes.std(),3),' -> spread of data.')\n",
    "print('std. dev. meaned yes ->',round(foo_x_yes_mean.std(),3),' -> spread of data.')\n",
    "print()\n",
    "# for no - data \n",
    "foo_x_no=data_no.iloc[index][cal_4].values\n",
    "print('shape of data_no:',foo_x_no.shape)\n",
    "# reduced to average \n",
    "print('reduced shape:',foo_x_no.reshape(-1,n_).shape)\n",
    "# find mean - row wise \n",
    "foo_x_no_mean=foo_x_no.reshape(-1,n_).mean(axis=1)  # row wise\n",
    "print('mean data shape:',foo_x_no_mean.shape)\n",
    "print('over all mean:',round(foo_x_no.mean(),3),'; meaned maean:',round(foo_x_no_mean.mean(),3))\n",
    "print('std. dev. no ->',round(foo_x_no.std(),3),' -> spread of data.')\n",
    "print('std. dev. meaned no ->',round(foo_x_no_mean.std(),3),' -> spread of data.')"
   ]
  },
  {
   "cell_type": "code",
   "execution_count": 32,
   "metadata": {
    "colab": {
     "base_uri": "https://localhost:8080/",
     "height": 459
    },
    "executionInfo": {
     "elapsed": 29,
     "status": "ok",
     "timestamp": 1625305707998,
     "user": {
      "displayName": "Clash Clans",
      "photoUrl": "",
      "userId": "00562530571182710236"
     },
     "user_tz": -330
    },
    "id": "JGhPVLxBHlk-",
    "outputId": "19f89103-84c0-438f-adaa-a50fe9974e2f"
   },
   "outputs": [
    {
     "data": {
      "image/png": "[encoded data removed]",
      "text/plain": [
       "<Figure size 1080x504 with 2 Axes>"
      ]
     },
     "metadata": {
      "needs_background": "light",
      "tags": []
     },
     "output_type": "display_data"
    }
   ],
   "source": [
    "# plot data -> yes ---\n",
    "plt.figure(figsize=(15,7))\n",
    "plt.subplot(1,2,1)\n",
    "sns.histplot(data=data_yes,x=cal_4,bins='auto',kde=True)\n",
    "plt.title(cal_4+'_true'),plt.grid()\n",
    "plt.subplot(1,2,2)\n",
    "ax=sns.histplot(x=foo_x_yes_mean,bins='auto',kde=True)\n",
    "plt.title(cal_4+'_meaned'),plt.grid()\n",
    "# plot mean \n",
    "plt.vlines(foo_x_yes_mean.mean(),*ax.get_ylim(),colors='r',linestyles='--',label='mean')\n",
    "# plot sigma - +-1\n",
    "plt.vlines(foo_x_yes_mean.mean()+foo_x_yes_mean.std(),*ax.get_ylim(),colors='g',linestyles='--',label='+1sigma')\n",
    "plt.vlines(foo_x_yes_mean.mean()-foo_x_yes_mean.std(),*ax.get_ylim(),colors='g',linestyles='--',label='-1sigma')\n",
    "# plot sigma - +-1\n",
    "plt.vlines(foo_x_yes_mean.mean()+foo_x_yes_mean.std()*2,*ax.get_ylim(),colors='b',linestyles='--',label='+2sigma')\n",
    "plt.vlines(foo_x_yes_mean.mean()-foo_x_yes_mean.std()*2,*ax.get_ylim(),colors='b',linestyles='--',label='-2sigma')\n",
    "plt.legend();"
   ]
  },
  {
   "cell_type": "code",
   "execution_count": 33,
   "metadata": {
    "colab": {
     "base_uri": "https://localhost:8080/",
     "height": 459
    },
    "executionInfo": {
     "elapsed": 76,
     "status": "ok",
     "timestamp": 1625305710515,
     "user": {
      "displayName": "Clash Clans",
      "photoUrl": "",
      "userId": "00562530571182710236"
     },
     "user_tz": -330
    },
    "id": "5N48XluvILl2",
    "outputId": "e97d5303-8556-42bb-fb69-570d442ac1b7"
   },
   "outputs": [
    {
     "data": {
      "image/png": "[encoded data removed]",
      "text/plain": [
       "<Figure size 1080x504 with 2 Axes>"
      ]
     },
     "metadata": {
      "needs_background": "light",
      "tags": []
     },
     "output_type": "display_data"
    }
   ],
   "source": [
    "# plot data -> no ---\n",
    "plt.figure(figsize=(15,7))\n",
    "plt.subplot(1,2,1)\n",
    "sns.histplot(data=data_no,x=cal_4,bins='auto',kde=True)\n",
    "plt.title(cal_4+'_true'),plt.grid()\n",
    "plt.subplot(1,2,2)\n",
    "sns.histplot(x=foo_x_no_mean,bins='auto',kde=True)\n",
    "plt.title(cal_4+'_meaned'),plt.grid();"
   ]
  },
  {
   "cell_type": "markdown",
   "metadata": {
    "id": "hGrNhPKwRWXk"
   },
   "source": [
    "#### refining \"yes\" values ----"
   ]
  },
  {
   "cell_type": "code",
   "execution_count": 64,
   "metadata": {
    "colab": {
     "base_uri": "https://localhost:8080/"
    },
    "executionInfo": {
     "elapsed": 697,
     "status": "ok",
     "timestamp": 1625306021490,
     "user": {
      "displayName": "Clash Clans",
      "photoUrl": "",
      "userId": "00562530571182710236"
     },
     "user_tz": -330
    },
    "id": "xRjjV4_wI-h-",
    "outputId": "145c3543-dcd1-4e86-8b4f-bef69c9e5001"
   },
   "outputs": [
    {
     "name": "stdout",
     "output_type": "stream",
     "text": [
      "original shape of data_yes: (4640,)\n",
      "update shape of data_yes: (1864,)\n"
     ]
    }
   ],
   "source": [
    "# calculation for emp_var_rate \n",
    "cal_4='emp_var_rate'\n",
    "\n",
    "# for yes - data \n",
    "foo_x_yes=data_yes[cal_4].values\n",
    "print('original shape of data_yes:',foo_x_yes.shape)\n",
    "# lower limit\n",
    "lower_=-2\n",
    "upper_=-1.5\n",
    "foo_x_yes=foo_x_yes[foo_x_yes>lower_]\n",
    "foo_x_yes=foo_x_yes[foo_x_yes<upper_]\n",
    "print('update shape of data_yes:',foo_x_yes.shape)"
   ]
  },
  {
   "cell_type": "code",
   "execution_count": 74,
   "metadata": {
    "colab": {
     "base_uri": "https://localhost:8080/"
    },
    "executionInfo": {
     "elapsed": 420,
     "status": "ok",
     "timestamp": 1625306794483,
     "user": {
      "displayName": "Clash Clans",
      "photoUrl": "",
      "userId": "00562530571182710236"
     },
     "user_tz": -330
    },
    "id": "FZsE_0udR0wJ",
    "outputId": "e847708c-8809-473b-f5c8-00af7d137adc"
   },
   "outputs": [
    {
     "name": "stdout",
     "output_type": "stream",
     "text": [
      "Orginal no data rows ->  1864\n"
     ]
    },
    {
     "data": {
      "text/plain": [
       "(1800, 'difference ->', 64, ' percentage -> ', 3.43)"
      ]
     },
     "execution_count": 74,
     "metadata": {
      "tags": []
     },
     "output_type": "execute_result"
    }
   ],
   "source": [
    "# number of values \n",
    "n_=300\n",
    "\n",
    "# droprandom data from no vlues ---\n",
    "print('Orginal no data rows -> ',foo_x_yes.shape[0])\n",
    "# get random values, so that it can be reshaped to n_ -> rows \n",
    "# get random index \n",
    "index=np.random.choice(range(0,foo_x_yes.shape[0]),size=int(foo_x_yes.shape[0]/n_)*n_,replace=False)\n",
    "index.sort()\n",
    "# total values to be selected from no values \n",
    "index.shape[0],'difference ->',foo_x_yes.shape[0]-index.shape[0],' percentage -> ',round((foo_x_yes.shape[0]-index.shape[0])/foo_x_yes.shape[0]*100,2)"
   ]
  },
  {
   "cell_type": "code",
   "execution_count": 75,
   "metadata": {
    "colab": {
     "base_uri": "https://localhost:8080/"
    },
    "executionInfo": {
     "elapsed": 12,
     "status": "ok",
     "timestamp": 1625306795957,
     "user": {
      "displayName": "Clash Clans",
      "photoUrl": "",
      "userId": "00562530571182710236"
     },
     "user_tz": -330
    },
    "id": "bfcKBtXoTlUX",
    "outputId": "bf20d189-0f21-4c0c-fd56-80523c5b8525"
   },
   "outputs": [
    {
     "data": {
      "text/plain": [
       "((1800,), (64,))"
      ]
     },
     "execution_count": 75,
     "metadata": {
      "tags": []
     },
     "output_type": "execute_result"
    }
   ],
   "source": [
    "Xtrain=foo_x_yes[index]\n",
    "# test index \n",
    "t_index=list(set(range(0,foo_x_yes.shape[0]))-set(index))\n",
    "t_index.sort()\n",
    "Xtest=foo_x_yes[t_index]\n",
    "# shape \n",
    "Xtrain.shape,Xtest.shape"
   ]
  },
  {
   "cell_type": "code",
   "execution_count": 76,
   "metadata": {
    "colab": {
     "base_uri": "https://localhost:8080/"
    },
    "executionInfo": {
     "elapsed": 12,
     "status": "ok",
     "timestamp": 1625306797519,
     "user": {
      "displayName": "Clash Clans",
      "photoUrl": "",
      "userId": "00562530571182710236"
     },
     "user_tz": -330
    },
    "id": "Qt3hGnd7VlaO",
    "outputId": "8a4de3c6-6c13-4d62-a814-e34478dd45c1"
   },
   "outputs": [
    {
     "name": "stdout",
     "output_type": "stream",
     "text": [
      "reduced shape: (6, 300)\n",
      "mean data shape: (6,)\n",
      "over all mean: -1.778 ; meaned maean: -1.778\n",
      "std. dev. all yes -> 0.041  -> spread of data.\n",
      "std. dev. meaned yes -> 0.037  -> spread of data.\n"
     ]
    }
   ],
   "source": [
    "# reduced to average \n",
    "print('reduced shape:',Xtrain.reshape(-1,n_).shape)\n",
    "# find mean - row wise \n",
    "Xtrain_mean=Xtrain.reshape(-1,n_).mean(axis=1)  # row wise\n",
    "print('mean data shape:',Xtrain_mean.shape)\n",
    "print('over all mean:',round(Xtrain.mean(),3),'; meaned maean:',round(Xtrain_mean.mean(),3))\n",
    "print('std. dev. all yes ->',round(Xtrain.std(),3),' -> spread of data.')\n",
    "print('std. dev. meaned yes ->',round(Xtrain_mean.std(),3),' -> spread of data.')"
   ]
  },
  {
   "cell_type": "code",
   "execution_count": 77,
   "metadata": {
    "colab": {
     "base_uri": "https://localhost:8080/",
     "height": 444
    },
    "executionInfo": {
     "elapsed": 14,
     "status": "ok",
     "timestamp": 1625306800573,
     "user": {
      "displayName": "Clash Clans",
      "photoUrl": "",
      "userId": "00562530571182710236"
     },
     "user_tz": -330
    },
    "id": "zl1gpEXwYMmx",
    "outputId": "caf61b17-0b2d-4e8b-f8a6-07214ab441ef"
   },
   "outputs": [
    {
     "data": {
      "image/png": "[encoded data removed]",
      "text/plain": [
       "<Figure size 1080x504 with 2 Axes>"
      ]
     },
     "metadata": {
      "needs_background": "light",
      "tags": []
     },
     "output_type": "display_data"
    }
   ],
   "source": [
    "# plot data -> yes ---\n",
    "plt.figure(figsize=(15,7))\n",
    "plt.subplot(1,2,1)\n",
    "sns.histplot(x=Xtrain,bins='auto',kde=True)\n",
    "plt.title(cal_4+'_true'),plt.grid()\n",
    "plt.subplot(1,2,2)\n",
    "ax=sns.histplot(x=Xtrain_mean,bins='auto',kde=True)\n",
    "plt.title(cal_4+'_meaned'),plt.grid()\n",
    "# plot mean \n",
    "plt.vlines(Xtrain_mean.mean(),*ax.get_ylim(),colors='r',linestyles='--',label='mean')\n",
    "# plot sigma - +-1\n",
    "plt.vlines(Xtrain_mean.mean()+Xtrain_mean.std(),*ax.get_ylim(),colors='g',linestyles='--',label='+1sigma')\n",
    "plt.vlines(Xtrain_mean.mean()-Xtrain_mean.std(),*ax.get_ylim(),colors='g',linestyles='--',label='-1sigma')\n",
    "# plot sigma - +-1\n",
    "plt.vlines(Xtrain_mean.mean()+Xtrain_mean.std()*2,*ax.get_ylim(),colors='b',linestyles='--',label='+2sigma')\n",
    "plt.vlines(Xtrain_mean.mean()-Xtrain_mean.std()*2,*ax.get_ylim(),colors='b',linestyles='--',label='-2sigma')\n",
    "plt.legend();"
   ]
  },
  {
   "cell_type": "code",
   "execution_count": 83,
   "metadata": {
    "colab": {
     "base_uri": "https://localhost:8080/"
    },
    "executionInfo": {
     "elapsed": 425,
     "status": "ok",
     "timestamp": 1625307094153,
     "user": {
      "displayName": "Clash Clans",
      "photoUrl": "",
      "userId": "00562530571182710236"
     },
     "user_tz": -330
    },
    "id": "1fJh5PqLeYhf",
    "outputId": "44de6bc9-3ad3-4c46-91c3-ff57cfd21d48"
   },
   "outputs": [
    {
     "name": "stdout",
     "output_type": "stream",
     "text": [
      "[-1.7810000000000001, -1.777666666666667, -1.7760000000000002, -1.7780000000000002, -1.7786666666666668, -1.775, -1.7756666666666667, -1.7816666666666667, -1.7770000000000001, -1.7763333333333335]\n"
     ]
    }
   ],
   "source": [
    "# took value from test \n",
    "number_of_random_n_sample=10  # avged points \n",
    "# sample points \n",
    "sample_list=list()\n",
    "for _ in range(number_of_random_n_sample):\n",
    "  foo_sample=np.random.choice(Xtest,size=n_)\n",
    "  sample_list.append(foo_sample.mean())\n",
    "\n",
    "print(sample_list)"
   ]
  },
  {
   "cell_type": "code",
   "execution_count": 91,
   "metadata": {
    "colab": {
     "base_uri": "https://localhost:8080/"
    },
    "executionInfo": {
     "elapsed": 439,
     "status": "ok",
     "timestamp": 1625307381049,
     "user": {
      "displayName": "Clash Clans",
      "photoUrl": "",
      "userId": "00562530571182710236"
     },
     "user_tz": -330
    },
    "id": "xUl2dL541aqy",
    "outputId": "4f9f0045-9ad1-40d9-a23a-b73880d0779e"
   },
   "outputs": [
    {
     "data": {
      "text/plain": [
       "(-1.7, -1.8, True, True)"
      ]
     },
     "execution_count": 91,
     "metadata": {
      "tags": []
     },
     "output_type": "execute_result"
    }
   ],
   "source": [
    "# took random samples from no - dataset\n",
    "f_data_no=data_no[data_no[cal_4]>lower_]\n",
    "Xtest_no=f_data_no[f_data_no[cal_4]<upper_][cal_4].values\n",
    "Xtest_no.max(),Xtest_no.min(),Xtest_no.max()<upper_,Xtest_no.min()>lower_"
   ]
  },
  {
   "cell_type": "code",
   "execution_count": 92,
   "metadata": {
    "colab": {
     "base_uri": "https://localhost:8080/"
    },
    "executionInfo": {
     "elapsed": 463,
     "status": "ok",
     "timestamp": 1625307446829,
     "user": {
      "displayName": "Clash Clans",
      "photoUrl": "",
      "userId": "00562530571182710236"
     },
     "user_tz": -330
    },
    "id": "R93qR6i71e3z",
    "outputId": "faffc838-3fd8-4793-9a82-75ed301d66b7"
   },
   "outputs": [
    {
     "name": "stdout",
     "output_type": "stream",
     "text": [
      "[-1.7940000000000003, -1.794666666666667, -1.7960000000000007, -1.7956666666666672, -1.7933333333333337, -1.7926666666666673, -1.7956666666666667, -1.795333333333334, -1.795333333333334, -1.7933333333333337]\n"
     ]
    }
   ],
   "source": [
    "# sample points \n",
    "sample_list_no=list()\n",
    "for _ in range(number_of_random_n_sample):\n",
    "  foo_sample=np.random.choice(Xtest_no,size=n_)\n",
    "  sample_list_no.append(foo_sample.mean())\n",
    "\n",
    "print(sample_list_no)"
   ]
  },
  {
   "cell_type": "code",
   "execution_count": 101,
   "metadata": {
    "colab": {
     "base_uri": "https://localhost:8080/",
     "height": 607
    },
    "executionInfo": {
     "elapsed": 674,
     "status": "ok",
     "timestamp": 1625310009391,
     "user": {
      "displayName": "Clash Clans",
      "photoUrl": "",
      "userId": "00562530571182710236"
     },
     "user_tz": -330
    },
    "id": "BPKXg_xB1hyS",
    "outputId": "ee584e80-416a-4c15-fc6a-0e7a7ad67ecb"
   },
   "outputs": [
    {
     "data": {
      "image/png": "[encoded data removed]",
      "text/plain": [
       "<Figure size 720x720 with 1 Axes>"
      ]
     },
     "metadata": {
      "needs_background": "light",
      "tags": []
     },
     "output_type": "display_data"
    }
   ],
   "source": [
    "# plot figure \n",
    "plt.figure(figsize=(10,10))\n",
    "# plot figure \n",
    "sns.histplot(x=Xtrain_mean,bins='auto',kde=True)\n",
    "plt.title(cal_4+'_meaned'),plt.grid()\n",
    "# plot mean \n",
    "plt.vlines(Xtrain_mean.mean(),*ax.get_ylim(),colors='r',linestyles='--',label='mean')\n",
    "plt.scatter(sample_list,np.linspace(1,2,num=len(sample_list)),label='yes',color='lightcoral')\n",
    "plt.scatter(sample_list_no,np.linspace(1,2,num=len(sample_list_no)),label='no',color='k')\n",
    "plt.legend();"
   ]
  },
  {
   "cell_type": "markdown",
   "metadata": {
    "id": "51SJU0M97EQB"
   },
   "source": [
    "### statistic ---\n",
    "\n",
    "Null Hypothesis -> Mean of yes -> -1.778, <- not for no values \n",
    "\n",
    "Alternate Hypothesis: Mean of yes  != -1.778 \n",
    "\n",
    "Confidence level (C)=90%; Alpha=1-0.95=0.05; Z critical -> 1.96 or -1.96\n",
    "\n",
    "Z calculated = (Observed mean - population mean) / standard error z = (x — μ) / (σ / √n)"
   ]
  },
  {
   "cell_type": "code",
   "execution_count": 120,
   "metadata": {
    "colab": {
     "base_uri": "https://localhost:8080/"
    },
    "executionInfo": {
     "elapsed": 441,
     "status": "ok",
     "timestamp": 1625312054938,
     "user": {
      "displayName": "Clash Clans",
      "photoUrl": "",
      "userId": "00562530571182710236"
     },
     "user_tz": -330
    },
    "id": "v9uu1e2c5jEJ",
    "outputId": "631fabeb-f2cf-4405-d10c-23a1eaacd68b"
   },
   "outputs": [
    {
     "name": "stdout",
     "output_type": "stream",
     "text": [
      "[1.232574463053334, -0.34092485148289725, -1.1276745087510653, -0.1835749200292846, 0.13112494287794066, -1.5997243031121129, -1.2850244402047828, 1.5472743259605592, -0.6556247143902273, -0.9703245772974526]\n",
      "0.9703245772972778 -0.880410330752546 1.5472743259605592 -1.5997243031121129\n"
     ]
    }
   ],
   "source": [
    "Zcal=list()\n",
    "for sample in sample_list:\n",
    "  Zcal.append((Xtrain_mean.mean()-sample)/(Xtrain_mean.std()/np.sqrt(n_)))\n",
    "\n",
    "print(Zcal)\n",
    "print(np.mean([value for value in Zcal if value > 0]),np.mean([value for value in Zcal if value < 0]),np.max(Zcal),np.min(Zcal))"
   ]
  },
  {
   "cell_type": "code",
   "execution_count": 103,
   "metadata": {
    "colab": {
     "base_uri": "https://localhost:8080/"
    },
    "executionInfo": {
     "elapsed": 648,
     "status": "ok",
     "timestamp": 1625310030515,
     "user": {
      "displayName": "Clash Clans",
      "photoUrl": "",
      "userId": "00562530571182710236"
     },
     "user_tz": -330
    },
    "id": "UfOKJAkl_VXZ",
    "outputId": "871729f6-6409-4c6c-992c-786705c8248d"
   },
   "outputs": [
    {
     "data": {
      "text/plain": [
       "[7.369221789744961,\n",
       " 7.68392165265229,\n",
       " 8.31332137846695,\n",
       " 8.155971447013233,\n",
       " 7.054521926837735,\n",
       " 6.739822063930615,\n",
       " 8.155971447013023,\n",
       " 7.998621515559621,\n",
       " 7.998621515559621,\n",
       " 7.054521926837735]"
      ]
     },
     "execution_count": 103,
     "metadata": {
      "tags": []
     },
     "output_type": "execute_result"
    }
   ],
   "source": [
    "# mean for \"no\" test samples -\n",
    "#Xtest_no_mean \n",
    "\n",
    "# test \"no\" samples\n",
    "Zcal_no=list()\n",
    "for sample in sample_list_no:\n",
    "  Zcal_no.append((Xtrain_mean.mean()-sample)/(Xtrain_mean.std()/np.sqrt(n_)))\n",
    "\n",
    "Zcal_no "
   ]
  },
  {
   "cell_type": "code",
   "execution_count": 104,
   "metadata": {
    "executionInfo": {
     "elapsed": 516,
     "status": "ok",
     "timestamp": 1625310537539,
     "user": {
      "displayName": "Clash Clans",
      "photoUrl": "",
      "userId": "00562530571182710236"
     },
     "user_tz": -330
    },
    "id": "9D9eDmxH_p9Q"
   },
   "outputs": [],
   "source": [
    "# stats functions from scipy -- \n",
    "from scipy.stats import norm \n",
    "# norm.pdf(x, loc=0, scale=1) Probability density function. -> to make normal distribution plot.\n",
    "# norm.cdf(x, loc=0, scale=1) Cumulative distribution function. (area to the left of x)\n",
    "# norm.sf(x, loc=0, scale=1) Survival function (also defined as 1 - cdf, but sf is sometimes more accurate). \n",
    "# norm.ppf(q, loc=0, scale=1) Percent point function (inverse of cdf — percentiles).\n",
    "# norm.isf(q, loc=0, scale=1) Inverse survival function (inverse of sf)."
   ]
  },
  {
   "cell_type": "code",
   "execution_count": 109,
   "metadata": {
    "colab": {
     "base_uri": "https://localhost:8080/"
    },
    "executionInfo": {
     "elapsed": 584,
     "status": "ok",
     "timestamp": 1625311108277,
     "user": {
      "displayName": "Clash Clans",
      "photoUrl": "",
      "userId": "00562530571182710236"
     },
     "user_tz": -330
    },
    "id": "-LYRiEPBCzL5",
    "outputId": "77f10c2b-cb00-46f2-a903-e9a46ff903cb"
   },
   "outputs": [
    {
     "data": {
      "text/plain": [
       "0.024997895148220435"
      ]
     },
     "execution_count": 109,
     "metadata": {
      "tags": []
     },
     "output_type": "execute_result"
    }
   ],
   "source": [
    "# area on the tail (left) -> -2*sigma , value of z critical \n",
    "norm.cdf(-1.96) # actual value for alpha = 0.05 -> 0.025"
   ]
  },
  {
   "cell_type": "code",
   "execution_count": 110,
   "metadata": {
    "colab": {
     "base_uri": "https://localhost:8080/"
    },
    "executionInfo": {
     "elapsed": 448,
     "status": "ok",
     "timestamp": 1625311477919,
     "user": {
      "displayName": "Clash Clans",
      "photoUrl": "",
      "userId": "00562530571182710236"
     },
     "user_tz": -330
    },
    "id": "vSS8vY8DFhWh",
    "outputId": "e0e808e3-07cc-4ee5-d5e7-a5913e08eb8c"
   },
   "outputs": [
    {
     "data": {
      "text/plain": [
       "-1.9599639845400545"
      ]
     },
     "execution_count": 110,
     "metadata": {
      "tags": []
     },
     "output_type": "execute_result"
    }
   ],
   "source": [
    "# inverse of cdf (left) -> return z critical \n",
    "norm.ppf(0.025) # return z critical at alpha value "
   ]
  },
  {
   "cell_type": "code",
   "execution_count": 111,
   "metadata": {
    "colab": {
     "base_uri": "https://localhost:8080/"
    },
    "executionInfo": {
     "elapsed": 618,
     "status": "ok",
     "timestamp": 1625311650229,
     "user": {
      "displayName": "Clash Clans",
      "photoUrl": "",
      "userId": "00562530571182710236"
     },
     "user_tz": -330
    },
    "id": "mlcgJfZNHPgt",
    "outputId": "db8d63a4-46cf-4f5f-a802-76d3e4a1d402"
   },
   "outputs": [
    {
     "data": {
      "text/plain": [
       "0.024997895148220435"
      ]
     },
     "execution_count": 111,
     "metadata": {
      "tags": []
     },
     "output_type": "execute_result"
    }
   ],
   "source": [
    "# area on the tail (right) -> 2*sigma, value of z critical\n",
    "norm.sf(1.96) # actual value for alpha = 0.05-> 0.025"
   ]
  },
  {
   "cell_type": "code",
   "execution_count": 112,
   "metadata": {
    "colab": {
     "base_uri": "https://localhost:8080/"
    },
    "executionInfo": {
     "elapsed": 8,
     "status": "ok",
     "timestamp": 1625311786435,
     "user": {
      "displayName": "Clash Clans",
      "photoUrl": "",
      "userId": "00562530571182710236"
     },
     "user_tz": -330
    },
    "id": "evf66HuyH5vf",
    "outputId": "7b833243-570a-46b2-f66a-046a0468168c"
   },
   "outputs": [
    {
     "data": {
      "text/plain": [
       "1.9599639845400545"
      ]
     },
     "execution_count": 112,
     "metadata": {
      "tags": []
     },
     "output_type": "execute_result"
    }
   ],
   "source": [
    "# inverse of isf (right) -> return z value\n",
    "norm.isf(0.025) # return the value of z critical at alpha value "
   ]
  },
  {
   "cell_type": "code",
   "execution_count": null,
   "metadata": {
    "id": "X4SJJvJ7Iad2"
   },
   "outputs": [],
   "source": [
    "# thus we accept null Hypothesis"
   ]
  },
  {
   "cell_type": "markdown",
   "metadata": {
    "id": "JRdQ5CV9Jt-Q"
   },
   "source": [
    "##### p_value "
   ]
  },
  {
   "cell_type": "code",
   "execution_count": 121,
   "metadata": {
    "colab": {
     "base_uri": "https://localhost:8080/"
    },
    "executionInfo": {
     "elapsed": 491,
     "status": "ok",
     "timestamp": 1625312191049,
     "user": {
      "displayName": "Clash Clans",
      "photoUrl": "",
      "userId": "00562530571182710236"
     },
     "user_tz": -330
    },
    "id": "QIv0My-HJwHj",
    "outputId": "db589f87-216b-482f-ee85-8db16c949035"
   },
   "outputs": [
    {
     "data": {
      "text/plain": [
       "0.12179710992835979"
      ]
     },
     "execution_count": 121,
     "metadata": {
      "tags": []
     },
     "output_type": "execute_result"
    }
   ],
   "source": [
    "2*norm.sf(np.max(Zcal))"
   ]
  }
 ],
 "metadata": {
  "colab": {
   "authorship_tag": "ABX9TyO6O7fex6nGi68bZgy+d0Hm",
   "collapsed_sections": [
    "BDR-6t_fBzbY",
    "p_9xvsa9eF-K"
   ],
   "name": "Untitled1.ipynb",
   "provenance": []
  },
  "kernelspec": {
   "display_name": "Python 3",
   "language": "python",
   "name": "python3"
  },
  "language_info": {
   "codemirror_mode": {
    "name": "ipython",
    "version": 3
   },
   "file_extension": ".py",
   "mimetype": "text/x-python",
   "name": "python",
   "nbconvert_exporter": "python",
   "pygments_lexer": "ipython3",
   "version": "3.8.3"
  },
  "toc": {
   "base_numbering": 1,
   "nav_menu": {},
   "number_sections": true,
   "sideBar": true,
   "skip_h1_title": false,
   "title_cell": "Table of Contents",
   "title_sidebar": "Contents",
   "toc_cell": false,
   "toc_position": {},
   "toc_section_display": true,
   "toc_window_display": false
  }
 },
 "nbformat": 4,
 "nbformat_minor": 1
}
